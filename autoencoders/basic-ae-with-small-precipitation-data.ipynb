{
 "cells": [
  {
   "cell_type": "markdown",
   "metadata": {
    "toc": true
   },
   "source": [
    "<h1>Table of Contents<span class=\"tocSkip\"></span></h1>\n",
    "<div class=\"toc\" style=\"margin-top: 1em;\"><ul class=\"toc-item\"><li><span><a href=\"#Load-the-data\" data-toc-modified-id=\"Load-the-data-1\"><span class=\"toc-item-num\">1&nbsp;&nbsp;</span>Load the data</a></span></li><li><span><a href=\"#Flatten-and-Split-the-data-into-training-and-test-sets\" data-toc-modified-id=\"Flatten-and-Split-the-data-into-training-and-test-sets-2\"><span class=\"toc-item-num\">2&nbsp;&nbsp;</span>Flatten and Split the data into training and test sets</a></span></li><li><span><a href=\"#Building-the-model\" data-toc-modified-id=\"Building-the-model-3\"><span class=\"toc-item-num\">3&nbsp;&nbsp;</span>Building the model</a></span></li><li><span><a href=\"#Train\" data-toc-modified-id=\"Train-4\"><span class=\"toc-item-num\">4&nbsp;&nbsp;</span>Train</a></span></li></ul></div>"
   ]
  },
  {
   "cell_type": "code",
   "execution_count": 1,
   "metadata": {},
   "outputs": [
    {
     "name": "stderr",
     "output_type": "stream",
     "text": [
      "/home/abanihi/anaconda3/envs/autoe/lib/python3.6/site-packages/h5py/__init__.py:36: FutureWarning: Conversion of the second argument of issubdtype from `float` to `np.floating` is deprecated. In future, it will be treated as `np.float64 == np.dtype(float).type`.\n",
      "  from ._conv import register_converters as _register_converters\n",
      "Using TensorFlow backend.\n"
     ]
    }
   ],
   "source": [
    "# To obtain reproducible results\n",
    "import sys\n",
    "sys.path.insert(0, '/home/abanihi/devel/myprojects/deep-learning/')\n",
    "from utils import reproducibility"
   ]
  },
  {
   "cell_type": "code",
   "execution_count": 2,
   "metadata": {},
   "outputs": [],
   "source": [
    "import xarray as xr"
   ]
  },
  {
   "cell_type": "markdown",
   "metadata": {},
   "source": [
    "# Load the data "
   ]
  },
  {
   "cell_type": "code",
   "execution_count": 3,
   "metadata": {},
   "outputs": [],
   "source": [
    "access_pr_file = '/home/abanihi/devel/deepclimate/deepclimate-rd/sample_aos_data/pr_Amon_ACCESS1-3_historical_r1i1p1_200101-200512.nc'"
   ]
  },
  {
   "cell_type": "code",
   "execution_count": 4,
   "metadata": {},
   "outputs": [],
   "source": [
    "dset = xr.open_dataset(access_pr_file)"
   ]
  },
  {
   "cell_type": "code",
   "execution_count": 5,
   "metadata": {},
   "outputs": [
    {
     "data": {
      "text/plain": [
       "<xarray.DataArray 'pr' (time: 60, lat: 145, lon: 192)>\n",
       "array([[[0.19356 , 0.19356 , ..., 0.193565, 0.193565],\n",
       "        [0.144753, 0.145445, ..., 0.143843, 0.144203],\n",
       "        ...,\n",
       "        [0.234199, 0.224581, ..., 0.243426, 0.23944 ],\n",
       "        [0.193997, 0.193997, ..., 0.193997, 0.193997]],\n",
       "\n",
       "       [[0.407444, 0.407444, ..., 0.407334, 0.407334],\n",
       "        [0.357676, 0.355279, ..., 0.362809, 0.360405],\n",
       "        ...,\n",
       "        [0.541897, 0.545767, ..., 0.537055, 0.53841 ],\n",
       "        [0.548726, 0.548726, ..., 0.548726, 0.548726]],\n",
       "\n",
       "       ...,\n",
       "\n",
       "       [[0.22288 , 0.22288 , ..., 0.222746, 0.222746],\n",
       "        [0.198965, 0.197357, ..., 0.202459, 0.201638],\n",
       "        ...,\n",
       "        [1.108785, 1.101874, ..., 1.127764, 1.119411],\n",
       "        [0.899674, 0.899674, ..., 0.899674, 0.899674]],\n",
       "\n",
       "       [[0.120204, 0.120204, ..., 0.120176, 0.120176],\n",
       "        [0.077715, 0.077859, ..., 0.077662, 0.077223],\n",
       "        ...,\n",
       "        [0.641761, 0.651492, ..., 0.628137, 0.637484],\n",
       "        [0.578696, 0.578696, ..., 0.578696, 0.578696]]])\n",
       "Coordinates:\n",
       "  * lon      (lon) float64 0.0 1.875 3.75 5.625 7.5 9.375 11.25 13.12 15.0 ...\n",
       "  * lat      (lat) float64 -90.0 -88.75 -87.5 -86.25 -85.0 -83.75 -82.5 ...\n",
       "  * time     (time) datetime64[ns] 2001-01-16T12:00:00 2001-02-15 ..."
      ]
     },
     "execution_count": 5,
     "metadata": {},
     "output_type": "execute_result"
    }
   ],
   "source": [
    "pr = dset['pr'] * 86400\n",
    "pr"
   ]
  },
  {
   "cell_type": "code",
   "execution_count": 6,
   "metadata": {},
   "outputs": [
    {
     "data": {
      "text/plain": [
       "(60, 145, 192)"
      ]
     },
     "execution_count": 6,
     "metadata": {},
     "output_type": "execute_result"
    }
   ],
   "source": [
    "data = pr.values\n",
    "data.shape"
   ]
  },
  {
   "cell_type": "markdown",
   "metadata": {},
   "source": [
    "# Flatten and Split the data into training and test sets"
   ]
  },
  {
   "cell_type": "code",
   "execution_count": 7,
   "metadata": {},
   "outputs": [],
   "source": [
    "from sklearn.model_selection import train_test_split\n",
    "import numpy as np"
   ]
  },
  {
   "cell_type": "code",
   "execution_count": 8,
   "metadata": {},
   "outputs": [],
   "source": [
    "data = data.reshape((len(data), np.prod(data.shape[1:])))\n",
    "x_train, x_test = train_test_split(data, test_size=0.3)"
   ]
  },
  {
   "cell_type": "code",
   "execution_count": 9,
   "metadata": {},
   "outputs": [
    {
     "data": {
      "text/plain": [
       "((42, 27840), (18, 27840))"
      ]
     },
     "execution_count": 9,
     "metadata": {},
     "output_type": "execute_result"
    }
   ],
   "source": [
    "x_train.shape, x_test.shape"
   ]
  },
  {
   "cell_type": "markdown",
   "metadata": {},
   "source": [
    "# Building the model"
   ]
  },
  {
   "cell_type": "code",
   "execution_count": 10,
   "metadata": {},
   "outputs": [],
   "source": [
    "from keras import layers\n",
    "from keras import models\n",
    "from keras import regularizers\n",
    "from keras import losses\n",
    "from keras import callbacks\n",
    "from math import sqrt"
   ]
  },
  {
   "cell_type": "code",
   "execution_count": 11,
   "metadata": {},
   "outputs": [],
   "source": [
    "activity_reg = regularizers.l1(0.)\n",
    "kernel_reg = regularizers.l1(0.)"
   ]
  },
  {
   "cell_type": "code",
   "execution_count": 12,
   "metadata": {},
   "outputs": [
    {
     "data": {
      "text/plain": [
       "27840"
      ]
     },
     "execution_count": 12,
     "metadata": {},
     "output_type": "execute_result"
    }
   ],
   "source": [
    "image_dim = x_train.shape[1]\n",
    "image_dim"
   ]
  },
  {
   "cell_type": "code",
   "execution_count": 13,
   "metadata": {},
   "outputs": [],
   "source": [
    "encoded_dim = 42"
   ]
  },
  {
   "cell_type": "code",
   "execution_count": 14,
   "metadata": {},
   "outputs": [],
   "source": [
    "# this the input placeholder\n",
    "input_img = layers.Input(shape=(image_dim, ))"
   ]
  },
  {
   "cell_type": "code",
   "execution_count": 15,
   "metadata": {},
   "outputs": [],
   "source": [
    "encoded = layers.Dense(\n",
    "    encoded_dim,\n",
    "    activation='selu',\n",
    "    activity_regularizer=activity_reg,\n",
    "    kernel_regularizer=kernel_reg,\n",
    "    name=\"encoded\")(input_img)"
   ]
  },
  {
   "cell_type": "code",
   "execution_count": 16,
   "metadata": {},
   "outputs": [],
   "source": [
    "# Decoded is thelossy reconstruction of the input\n",
    "decoded = layers.Dense(\n",
    "    image_dim, activation='sigmoid', name=\"decoded\")(encoded)"
   ]
  },
  {
   "cell_type": "code",
   "execution_count": 17,
   "metadata": {},
   "outputs": [],
   "source": [
    "# This model maps an input to its reconstruction \n",
    "model = models.Model(input_img, decoded)"
   ]
  },
  {
   "cell_type": "code",
   "execution_count": 18,
   "metadata": {},
   "outputs": [],
   "source": [
    "# This model maps an input to tis encoded representation\n",
    "encoder = models.Model(input_img, encoded)"
   ]
  },
  {
   "cell_type": "code",
   "execution_count": 19,
   "metadata": {},
   "outputs": [],
   "source": [
    "# Create a placeholder for an encoded (324-dimensional) input\n",
    "encoded_input = layers.Input(shape=(encoded_dim, ))"
   ]
  },
  {
   "cell_type": "code",
   "execution_count": 20,
   "metadata": {},
   "outputs": [],
   "source": [
    "# Retrieve the last layer of the autoencoder model\n",
    "decoded_layer = model.layers[-1]"
   ]
  },
  {
   "cell_type": "code",
   "execution_count": 21,
   "metadata": {},
   "outputs": [],
   "source": [
    "# Create the decoder model\n",
    "decoder = models.Model(encoded_input, decoded_layer(encoded_input))"
   ]
  },
  {
   "cell_type": "code",
   "execution_count": 22,
   "metadata": {},
   "outputs": [
    {
     "name": "stdout",
     "output_type": "stream",
     "text": [
      "_________________________________________________________________\n",
      "Layer (type)                 Output Shape              Param #   \n",
      "=================================================================\n",
      "input_1 (InputLayer)         (None, 27840)             0         \n",
      "_________________________________________________________________\n",
      "encoded (Dense)              (None, 42)                1169322   \n",
      "=================================================================\n",
      "Total params: 1,169,322\n",
      "Trainable params: 1,169,322\n",
      "Non-trainable params: 0\n",
      "_________________________________________________________________\n"
     ]
    }
   ],
   "source": [
    "encoder.summary()"
   ]
  },
  {
   "cell_type": "code",
   "execution_count": 23,
   "metadata": {},
   "outputs": [
    {
     "name": "stdout",
     "output_type": "stream",
     "text": [
      "_________________________________________________________________\n",
      "Layer (type)                 Output Shape              Param #   \n",
      "=================================================================\n",
      "input_2 (InputLayer)         (None, 42)                0         \n",
      "_________________________________________________________________\n",
      "decoded (Dense)              (None, 27840)             1197120   \n",
      "=================================================================\n",
      "Total params: 1,197,120\n",
      "Trainable params: 1,197,120\n",
      "Non-trainable params: 0\n",
      "_________________________________________________________________\n"
     ]
    }
   ],
   "source": [
    "decoder.summary()"
   ]
  },
  {
   "cell_type": "code",
   "execution_count": null,
   "metadata": {},
   "outputs": [],
   "source": []
  },
  {
   "cell_type": "code",
   "execution_count": 24,
   "metadata": {},
   "outputs": [
    {
     "name": "stdout",
     "output_type": "stream",
     "text": [
      "_________________________________________________________________\n",
      "Layer (type)                 Output Shape              Param #   \n",
      "=================================================================\n",
      "input_1 (InputLayer)         (None, 27840)             0         \n",
      "_________________________________________________________________\n",
      "encoded (Dense)              (None, 42)                1169322   \n",
      "_________________________________________________________________\n",
      "decoded (Dense)              (None, 27840)             1197120   \n",
      "=================================================================\n",
      "Total params: 2,366,442\n",
      "Trainable params: 2,366,442\n",
      "Non-trainable params: 0\n",
      "_________________________________________________________________\n"
     ]
    }
   ],
   "source": [
    "model.summary()"
   ]
  },
  {
   "cell_type": "code",
   "execution_count": 25,
   "metadata": {},
   "outputs": [],
   "source": [
    "callbacks_list = [callbacks.EarlyStopping(monitor='loss', patience=10)]"
   ]
  },
  {
   "cell_type": "markdown",
   "metadata": {},
   "source": [
    "# Train"
   ]
  },
  {
   "cell_type": "code",
   "execution_count": 26,
   "metadata": {},
   "outputs": [],
   "source": [
    "model.compile(optimizer=\"rmsprop\", loss = losses.mse)"
   ]
  },
  {
   "cell_type": "code",
   "execution_count": 27,
   "metadata": {},
   "outputs": [
    {
     "name": "stdout",
     "output_type": "stream",
     "text": [
      "Train on 42 samples, validate on 18 samples\n",
      "Epoch 1/50\n",
      "42/42 [==============================] - 1s 21ms/step - loss: 15.1418 - val_loss: 13.6126\n",
      "Epoch 2/50\n",
      "42/42 [==============================] - 0s 3ms/step - loss: 13.6301 - val_loss: 13.4995\n",
      "Epoch 3/50\n",
      "42/42 [==============================] - 0s 3ms/step - loss: 13.5577 - val_loss: 13.4763\n",
      "Epoch 4/50\n",
      "42/42 [==============================] - 0s 3ms/step - loss: 13.5390 - val_loss: 13.4655\n",
      "Epoch 5/50\n",
      "42/42 [==============================] - 0s 3ms/step - loss: 13.5296 - val_loss: 13.4561\n",
      "Epoch 6/50\n",
      "42/42 [==============================] - 0s 3ms/step - loss: 13.5219 - val_loss: 13.4520\n",
      "Epoch 7/50\n",
      "42/42 [==============================] - 0s 3ms/step - loss: 13.5169 - val_loss: 13.4463\n",
      "Epoch 8/50\n",
      "42/42 [==============================] - 0s 3ms/step - loss: 13.5112 - val_loss: 13.4412\n",
      "Epoch 9/50\n",
      "42/42 [==============================] - 0s 3ms/step - loss: 13.5072 - val_loss: 13.4377\n",
      "Epoch 10/50\n",
      "42/42 [==============================] - 0s 3ms/step - loss: 13.5039 - val_loss: 13.4344\n",
      "Epoch 11/50\n",
      "42/42 [==============================] - 0s 3ms/step - loss: 13.5009 - val_loss: 13.4323\n",
      "Epoch 12/50\n",
      "42/42 [==============================] - 0s 3ms/step - loss: 13.4976 - val_loss: 13.4273\n",
      "Epoch 13/50\n",
      "42/42 [==============================] - 0s 3ms/step - loss: 13.4925 - val_loss: 13.4230\n",
      "Epoch 14/50\n",
      "42/42 [==============================] - 0s 3ms/step - loss: 13.4882 - val_loss: 13.4190\n",
      "Epoch 15/50\n",
      "42/42 [==============================] - 0s 3ms/step - loss: 13.4848 - val_loss: 13.4150\n",
      "Epoch 16/50\n",
      "42/42 [==============================] - 0s 3ms/step - loss: 13.4803 - val_loss: 13.4096\n",
      "Epoch 17/50\n",
      "42/42 [==============================] - 0s 3ms/step - loss: 13.4752 - val_loss: 13.4096\n",
      "Epoch 18/50\n",
      "42/42 [==============================] - 0s 3ms/step - loss: 13.4735 - val_loss: 13.4024\n",
      "Epoch 19/50\n",
      "42/42 [==============================] - 0s 3ms/step - loss: 13.4654 - val_loss: 13.3970\n",
      "Epoch 20/50\n",
      "42/42 [==============================] - 0s 3ms/step - loss: 13.4631 - val_loss: 13.3940\n",
      "Epoch 21/50\n",
      "42/42 [==============================] - 0s 3ms/step - loss: 13.4586 - val_loss: 13.3888\n",
      "Epoch 22/50\n",
      "42/42 [==============================] - 0s 3ms/step - loss: 13.4547 - val_loss: 13.3869\n",
      "Epoch 23/50\n",
      "42/42 [==============================] - 0s 3ms/step - loss: 13.4523 - val_loss: 13.3942\n",
      "Epoch 24/50\n",
      "42/42 [==============================] - 0s 3ms/step - loss: 13.4549 - val_loss: 13.3826\n",
      "Epoch 25/50\n",
      "42/42 [==============================] - 0s 3ms/step - loss: 13.4479 - val_loss: 13.3845\n",
      "Epoch 26/50\n",
      "42/42 [==============================] - 0s 3ms/step - loss: 13.4484 - val_loss: 13.3808\n",
      "Epoch 27/50\n",
      "42/42 [==============================] - 0s 3ms/step - loss: 13.4450 - val_loss: 13.3812\n",
      "Epoch 28/50\n",
      "42/42 [==============================] - 0s 3ms/step - loss: 13.4468 - val_loss: 13.3770\n",
      "Epoch 29/50\n",
      "42/42 [==============================] - 0s 3ms/step - loss: 13.4428 - val_loss: 13.3811\n",
      "Epoch 30/50\n",
      "42/42 [==============================] - 0s 3ms/step - loss: 13.4440 - val_loss: 13.3760\n",
      "Epoch 31/50\n",
      "42/42 [==============================] - 0s 3ms/step - loss: 13.4418 - val_loss: 13.3773\n",
      "Epoch 32/50\n",
      "42/42 [==============================] - 0s 3ms/step - loss: 13.4426 - val_loss: 13.3813\n",
      "Epoch 33/50\n",
      "42/42 [==============================] - 0s 3ms/step - loss: 13.4451 - val_loss: 13.3758\n",
      "Epoch 34/50\n",
      "42/42 [==============================] - 0s 3ms/step - loss: 13.4418 - val_loss: 13.3739\n",
      "Epoch 35/50\n",
      "42/42 [==============================] - 0s 3ms/step - loss: 13.4388 - val_loss: 13.3727\n",
      "Epoch 36/50\n",
      "42/42 [==============================] - 0s 3ms/step - loss: 13.4399 - val_loss: 13.3737\n",
      "Epoch 37/50\n",
      "42/42 [==============================] - 0s 3ms/step - loss: 13.4379 - val_loss: 13.3752\n",
      "Epoch 38/50\n",
      "42/42 [==============================] - 0s 3ms/step - loss: 13.4386 - val_loss: 13.3715\n",
      "Epoch 39/50\n",
      "42/42 [==============================] - 0s 3ms/step - loss: 13.4357 - val_loss: 13.3700\n",
      "Epoch 40/50\n",
      "42/42 [==============================] - 0s 3ms/step - loss: 13.4376 - val_loss: 13.3703\n",
      "Epoch 41/50\n",
      "42/42 [==============================] - 0s 3ms/step - loss: 13.4338 - val_loss: 13.3715\n",
      "Epoch 42/50\n",
      "42/42 [==============================] - 0s 3ms/step - loss: 13.4373 - val_loss: 13.3748\n",
      "Epoch 43/50\n",
      "42/42 [==============================] - 0s 3ms/step - loss: 13.4387 - val_loss: 13.3720\n",
      "Epoch 44/50\n",
      "42/42 [==============================] - 0s 3ms/step - loss: 13.4333 - val_loss: 13.3688\n",
      "Epoch 45/50\n",
      "42/42 [==============================] - 0s 3ms/step - loss: 13.4325 - val_loss: 13.3717\n",
      "Epoch 46/50\n",
      "42/42 [==============================] - 0s 3ms/step - loss: 13.4336 - val_loss: 13.3677\n",
      "Epoch 47/50\n",
      "42/42 [==============================] - 0s 3ms/step - loss: 13.4307 - val_loss: 13.3686\n",
      "Epoch 48/50\n",
      "42/42 [==============================] - 0s 3ms/step - loss: 13.4324 - val_loss: 13.3662\n",
      "Epoch 49/50\n",
      "42/42 [==============================] - 0s 3ms/step - loss: 13.4291 - val_loss: 13.3681\n",
      "Epoch 50/50\n",
      "42/42 [==============================] - 0s 3ms/step - loss: 13.4298 - val_loss: 13.3664\n",
      "CPU times: user 5.78 s, sys: 996 ms, total: 6.78 s\n",
      "Wall time: 6.94 s\n"
     ]
    }
   ],
   "source": [
    "%%time\n",
    "history = model.fit(\n",
    "    x_train,\n",
    "    x_train,\n",
    "    epochs=50,\n",
    "    batch_size=16,\n",
    "    shuffle=True,\n",
    "    callbacks=callbacks_list,\n",
    "    validation_data=(x_test, x_test))"
   ]
  },
  {
   "cell_type": "code",
   "execution_count": 28,
   "metadata": {},
   "outputs": [],
   "source": [
    "import numpy as np\n",
    "import matplotlib.pyplot as plt\n",
    "#plt.style.use('seaborn')\n",
    "%matplotlib inline"
   ]
  },
  {
   "cell_type": "code",
   "execution_count": 29,
   "metadata": {},
   "outputs": [],
   "source": [
    "def predict_test():\n",
    "    encoded_imgs = encoder.predict(x_test)\n",
    "    decoded_imgs = decoder.predict(encoded_imgs)\n",
    "\n",
    "    print(\"Mean activations: {}\".format(encoded_imgs.mean()))\n",
    "\n",
    "    indices = np.random.choice(len(x_test), 5)\n",
    "\n",
    "    n = len(indices)\n",
    "\n",
    "    fig = plt.figure(figsize=(20, 4))\n",
    "\n",
    "    rows = 3\n",
    "\n",
    "    side = int(np.sqrt(encoded_dim))\n",
    "\n",
    "    for i in range(n):\n",
    "\n",
    "        # display original\n",
    "        ax = plt.subplot(rows, n, i + 1)\n",
    "        plt.imshow(x_test[indices[i]].reshape(145, 192))\n",
    "        ax.get_xaxis().set_visible(False)\n",
    "        ax.get_yaxis().set_visible(False)\n",
    "\n",
    "        # display encoding\n",
    "        ax = plt.subplot(rows, n, i + 1 + n)\n",
    "        plt.imshow(((encoded_imgs[indices[i]] + 1) / 2).reshape(6, 7))\n",
    "        ax.get_xaxis().set_visible(False)\n",
    "        ax.get_yaxis().set_visible(False)\n",
    "\n",
    "        # display reconstruction\n",
    "        ax = plt.subplot(rows, n, i + 1 + 2 * n)\n",
    "        plt.imshow(decoded_imgs[indices[i]].reshape(145, 192))\n",
    "        ax.get_xaxis().set_visible(False)\n",
    "        ax.get_yaxis().set_visible(False)"
   ]
  },
  {
   "cell_type": "code",
   "execution_count": 30,
   "metadata": {},
   "outputs": [
    {
     "name": "stdout",
     "output_type": "stream",
     "text": [
      "Mean activations: 13.819934844970703\n"
     ]
    },
    {
     "data": {
      "image/png": "[encoded data removed]",
      "text/plain": [
       "<matplotlib.figure.Figure at 0x7fb479f3fdd8>"
      ]
     },
     "metadata": {},
     "output_type": "display_data"
    }
   ],
   "source": [
    "predict_test()"
   ]
  },
  {
   "cell_type": "code",
   "execution_count": 31,
   "metadata": {},
   "outputs": [],
   "source": [
    "def plot_history(history):\n",
    "    history_dict = history.history\n",
    "    loss_values = history_dict['loss']\n",
    "    val_loss_values = history_dict['val_loss']\n",
    "    epochs = range(1, len(loss_values) + 1)\n",
    "    \n",
    "    plt.plot(epochs, loss_values, 'b', label='Training loss')\n",
    "    plt.plot(epochs, val_loss_values, 'r', label='Validation loss')\n",
    "    plt.title('Training and Validation loss')\n",
    "    plt.xlabel('Epochs')\n",
    "    plt.ylabel('Loss')\n",
    "    plt.legend()\n",
    "    plt.show()\n"
   ]
  },
  {
   "cell_type": "code",
   "execution_count": 32,
   "metadata": {},
   "outputs": [
    {
     "data": {
      "image/png": "[encoded data removed]",
      "text/plain": [
       "<matplotlib.figure.Figure at 0x7fb4578aafd0>"
      ]
     },
     "metadata": {},
     "output_type": "display_data"
    }
   ],
   "source": [
    "plot_history(history)"
   ]
  },
  {
   "cell_type": "code",
   "execution_count": 33,
   "metadata": {},
   "outputs": [
    {
     "data": {
      "text/plain": [
       "(18, 27840)"
      ]
     },
     "execution_count": 33,
     "metadata": {},
     "output_type": "execute_result"
    }
   ],
   "source": [
    "encoded_imgs = encoder.predict(x_test)\n",
    "decoded_imgs = decoder.predict(encoded_imgs)\n",
    "decoded_imgs.shape\n"
   ]
  },
  {
   "cell_type": "code",
   "execution_count": 34,
   "metadata": {},
   "outputs": [
    {
     "name": "stdout",
     "output_type": "stream",
     "text": [
      "13.366407136413825\n"
     ]
    }
   ],
   "source": [
    "from sklearn.metrics import mean_squared_error\n",
    "mse = mean_squared_error(x_test, decoded_imgs)\n",
    "print(mse)"
   ]
  },
  {
   "cell_type": "code",
   "execution_count": 35,
   "metadata": {},
   "outputs": [
    {
     "data": {
      "application/json": {
       "Software versions": [
        {
         "module": "Python",
         "version": "3.6.4 64bit [GCC 4.8.2 20140120 (Red Hat 4.8.2-15)]"
        },
        {
         "module": "IPython",
         "version": "6.2.1"
        },
        {
         "module": "OS",
         "version": "Linux 4.4.0 53 generic x86_64 with debian stretch sid"
        },
        {
         "module": "keras",
         "version": "2.1.3"
        },
        {
         "module": "tensorflow",
         "version": "1.4.1"
        },
        {
         "module": "numpy",
         "version": "1.14.0"
        },
        {
         "module": "matplotlib",
         "version": "2.1.2"
        }
       ]
      },
      "text/html": [
       "<table><tr><th>Software</th><th>Version</th></tr><tr><td>Python</td><td>3.6.4 64bit [GCC 4.8.2 20140120 (Red Hat 4.8.2-15)]</td></tr><tr><td>IPython</td><td>6.2.1</td></tr><tr><td>OS</td><td>Linux 4.4.0 53 generic x86_64 with debian stretch sid</td></tr><tr><td>keras</td><td>2.1.3</td></tr><tr><td>tensorflow</td><td>1.4.1</td></tr><tr><td>numpy</td><td>1.14.0</td></tr><tr><td>matplotlib</td><td>2.1.2</td></tr><tr><td colspan='2'>Thu Jan 25 13:15:41 2018 CST</td></tr></table>"
      ],
      "text/latex": [
       "\\begin{tabular}{|l|l|}\\hline\n",
       "{\\bf Software} & {\\bf Version} \\\\ \\hline\\hline\n",
       "Python & 3.6.4 64bit [GCC 4.8.2 20140120 (Red Hat 4.8.2-15)] \\\\ \\hline\n",
       "IPython & 6.2.1 \\\\ \\hline\n",
       "OS & Linux 4.4.0 53 generic x86\\_64 with debian stretch sid \\\\ \\hline\n",
       "keras & 2.1.3 \\\\ \\hline\n",
       "tensorflow & 1.4.1 \\\\ \\hline\n",
       "numpy & 1.14.0 \\\\ \\hline\n",
       "matplotlib & 2.1.2 \\\\ \\hline\n",
       "\\hline \\multicolumn{2}{|l|}{Thu Jan 25 13:15:41 2018 CST} \\\\ \\hline\n",
       "\\end{tabular}\n"
      ],
      "text/plain": [
       "Software versions\n",
       "Python 3.6.4 64bit [GCC 4.8.2 20140120 (Red Hat 4.8.2-15)]\n",
       "IPython 6.2.1\n",
       "OS Linux 4.4.0 53 generic x86_64 with debian stretch sid\n",
       "keras 2.1.3\n",
       "tensorflow 1.4.1\n",
       "numpy 1.14.0\n",
       "matplotlib 2.1.2\n",
       "Thu Jan 25 13:15:41 2018 CST"
      ]
     },
     "execution_count": 35,
     "metadata": {},
     "output_type": "execute_result"
    }
   ],
   "source": [
    "%load_ext version_information\n",
    "%version_information keras, tensorflow, numpy , matplotlib"
   ]
  }
 ],
 "metadata": {
  "kernelspec": {
   "display_name": "Python 3",
   "language": "python",
   "name": "python3"
  },
  "language_info": {
   "codemirror_mode": {
    "name": "ipython",
    "version": 3
   },
   "file_extension": ".py",
   "mimetype": "text/x-python",
   "name": "python",
   "nbconvert_exporter": "python",
   "pygments_lexer": "ipython3",
   "version": "3.6.4"
  },
  "toc": {
   "nav_menu": {},
   "number_sections": true,
   "sideBar": true,
   "skip_h1_title": false,
   "toc_cell": true,
   "toc_position": {},
   "toc_section_display": "block",
   "toc_window_display": false
  }
 },
 "nbformat": 4,
 "nbformat_minor": 2
}
