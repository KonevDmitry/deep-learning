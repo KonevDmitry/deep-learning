{
 "cells": [
  {
   "cell_type": "code",
   "execution_count": 1,
   "metadata": {},
   "outputs": [
    {
     "name": "stderr",
     "output_type": "stream",
     "text": [
      "/home/abanihi/anaconda3/envs/autoe/lib/python3.6/site-packages/h5py/__init__.py:36: FutureWarning: Conversion of the second argument of issubdtype from `float` to `np.floating` is deprecated. In future, it will be treated as `np.float64 == np.dtype(float).type`.\n",
      "  from ._conv import register_converters as _register_converters\n",
      "Using TensorFlow backend.\n"
     ]
    }
   ],
   "source": [
    "# To obtain reproducible results\n",
    "import sys\n",
    "sys.path.insert(0, '/home/abanihi/devel/myprojects/deep-learning/')\n",
    "from utils import reproducibility\n",
    "from keras import layers\n",
    "from keras import models\n",
    "from keras import regularizers\n",
    "from keras import losses\n",
    "from keras import callbacks\n",
    "from keras import backend as K\n",
    "import tensorflow as tf\n",
    "from math import sqrt\n",
    "from keras.datasets import cifar10\n",
    "import matplotlib.pyplot as plt\n",
    "plt.style.use('seaborn')\n",
    "%matplotlib inline\n",
    "import numpy as np"
   ]
  },
  {
   "cell_type": "markdown",
   "metadata": {},
   "source": [
    "# Load the data"
   ]
  },
  {
   "cell_type": "code",
   "execution_count": 2,
   "metadata": {},
   "outputs": [],
   "source": [
    "(x_train, y_train), (x_test, y_test) = cifar10.load_data()"
   ]
  },
  {
   "cell_type": "code",
   "execution_count": 3,
   "metadata": {},
   "outputs": [
    {
     "data": {
      "text/plain": [
       "((50000, 32, 32, 3), (10000, 32, 32, 3))"
      ]
     },
     "execution_count": 3,
     "metadata": {},
     "output_type": "execute_result"
    }
   ],
   "source": [
    "x_train.shape, x_test.shape"
   ]
  },
  {
   "cell_type": "markdown",
   "metadata": {},
   "source": [
    "# Normalize and flatten the data"
   ]
  },
  {
   "cell_type": "code",
   "execution_count": 4,
   "metadata": {},
   "outputs": [],
   "source": [
    "x_train = x_train.astype('float32') / 255.\n",
    "x_test = x_test.astype('float32') / 255.\n",
    "x_train = x_train.reshape((len(x_train), np.prod(x_train.shape[1:])))\n",
    "x_test = x_test.reshape((len(x_test), np.prod(x_test.shape[1:])))"
   ]
  },
  {
   "cell_type": "code",
   "execution_count": 5,
   "metadata": {},
   "outputs": [
    {
     "data": {
      "text/plain": [
       "((50000, 3072), (10000, 3072))"
      ]
     },
     "execution_count": 5,
     "metadata": {},
     "output_type": "execute_result"
    }
   ],
   "source": [
    "x_train.shape, x_test.shape"
   ]
  },
  {
   "cell_type": "code",
   "execution_count": 6,
   "metadata": {},
   "outputs": [],
   "source": [
    "# This is the size of our encoded representations\n",
    "encoding_dim = 108"
   ]
  },
  {
   "cell_type": "code",
   "execution_count": 7,
   "metadata": {},
   "outputs": [],
   "source": [
    "# this is our input placeholder\n",
    "image_dim = x_train.shape[1]\n",
    "input_img = layers.Input(shape=(image_dim, ))"
   ]
  },
  {
   "cell_type": "code",
   "execution_count": 8,
   "metadata": {},
   "outputs": [],
   "source": [
    "# encoded is the encoded representation of the input\n",
    "encoded = layers.Dense(encoding_dim, activation='relu')(input_img)"
   ]
  },
  {
   "cell_type": "code",
   "execution_count": 9,
   "metadata": {},
   "outputs": [],
   "source": [
    "# decoded is the lossy reconstruction of the input\n",
    "decoded = layers.Dense(image_dim, activation='sigmoid')(encoded)"
   ]
  },
  {
   "cell_type": "code",
   "execution_count": 10,
   "metadata": {},
   "outputs": [],
   "source": [
    "# This model maps an input to its reconstruction\n",
    "autoencoder = models.Model(input_img, decoded)"
   ]
  },
  {
   "cell_type": "code",
   "execution_count": 11,
   "metadata": {},
   "outputs": [],
   "source": [
    "# This model maps an input to its encoded representation\n",
    "encoder = models.Model(input_img, encoded)"
   ]
  },
  {
   "cell_type": "code",
   "execution_count": 12,
   "metadata": {},
   "outputs": [],
   "source": [
    "# Create a placeholder for an encoded (128-dimensional) input\n",
    "encoded_input = layers.Input(shape=(encoding_dim, ))\n",
    "# retrieve the last layer of the autoencoder model\n",
    "decoder_layer = autoencoder.layers[-1]\n",
    "# Create the decoder model\n",
    "decoder = models.Model(encoded_input, decoder_layer(encoded_input))"
   ]
  },
  {
   "cell_type": "code",
   "execution_count": 13,
   "metadata": {},
   "outputs": [
    {
     "name": "stdout",
     "output_type": "stream",
     "text": [
      "_________________________________________________________________\n",
      "Layer (type)                 Output Shape              Param #   \n",
      "=================================================================\n",
      "input_1 (InputLayer)         (None, 3072)              0         \n",
      "_________________________________________________________________\n",
      "dense_1 (Dense)              (None, 108)               331884    \n",
      "=================================================================\n",
      "Total params: 331,884\n",
      "Trainable params: 331,884\n",
      "Non-trainable params: 0\n",
      "_________________________________________________________________\n"
     ]
    }
   ],
   "source": [
    "encoder.summary()"
   ]
  },
  {
   "cell_type": "code",
   "execution_count": 14,
   "metadata": {},
   "outputs": [
    {
     "name": "stdout",
     "output_type": "stream",
     "text": [
      "_________________________________________________________________\n",
      "Layer (type)                 Output Shape              Param #   \n",
      "=================================================================\n",
      "input_2 (InputLayer)         (None, 108)               0         \n",
      "_________________________________________________________________\n",
      "dense_2 (Dense)              (None, 3072)              334848    \n",
      "=================================================================\n",
      "Total params: 334,848\n",
      "Trainable params: 334,848\n",
      "Non-trainable params: 0\n",
      "_________________________________________________________________\n"
     ]
    }
   ],
   "source": [
    "decoder.summary()"
   ]
  },
  {
   "cell_type": "code",
   "execution_count": 15,
   "metadata": {},
   "outputs": [
    {
     "name": "stdout",
     "output_type": "stream",
     "text": [
      "_________________________________________________________________\n",
      "Layer (type)                 Output Shape              Param #   \n",
      "=================================================================\n",
      "input_1 (InputLayer)         (None, 3072)              0         \n",
      "_________________________________________________________________\n",
      "dense_1 (Dense)              (None, 108)               331884    \n",
      "_________________________________________________________________\n",
      "dense_2 (Dense)              (None, 3072)              334848    \n",
      "=================================================================\n",
      "Total params: 666,732\n",
      "Trainable params: 666,732\n",
      "Non-trainable params: 0\n",
      "_________________________________________________________________\n"
     ]
    }
   ],
   "source": [
    "autoencoder.summary()"
   ]
  },
  {
   "cell_type": "code",
   "execution_count": 16,
   "metadata": {},
   "outputs": [],
   "source": [
    "from keras_sequential_ascii import sequential_model_to_ascii_printout"
   ]
  },
  {
   "cell_type": "code",
   "execution_count": 17,
   "metadata": {},
   "outputs": [
    {
     "name": "stdout",
     "output_type": "stream",
     "text": [
      "           OPERATION           DATA DIMENSIONS   WEIGHTS(N)   WEIGHTS(%)\n",
      "\n",
      "               Input   #####        3072\n",
      "          InputLayer     |   -------------------         0     0.0%\n",
      "                       #####        3072\n",
      "               Dense   XXXXX -------------------    331884    49.8%\n",
      "                relu   #####         108\n",
      "               Dense   XXXXX -------------------    334848    50.2%\n",
      "             sigmoid   #####        3072\n"
     ]
    }
   ],
   "source": [
    "sequential_model_to_ascii_printout(autoencoder)"
   ]
  },
  {
   "cell_type": "code",
   "execution_count": 18,
   "metadata": {},
   "outputs": [
    {
     "name": "stdout",
     "output_type": "stream",
     "text": [
      "           OPERATION           DATA DIMENSIONS   WEIGHTS(N)   WEIGHTS(%)\n",
      "\n",
      "               Input   #####        3072\n",
      "          InputLayer     |   -------------------         0     0.0%\n",
      "                       #####        3072\n",
      "               Dense   XXXXX -------------------    331884   100.0%\n",
      "                relu   #####         108\n"
     ]
    }
   ],
   "source": [
    "sequential_model_to_ascii_printout(encoder)"
   ]
  },
  {
   "cell_type": "code",
   "execution_count": 19,
   "metadata": {},
   "outputs": [
    {
     "name": "stdout",
     "output_type": "stream",
     "text": [
      "           OPERATION           DATA DIMENSIONS   WEIGHTS(N)   WEIGHTS(%)\n",
      "\n",
      "               Input   #####         108\n",
      "          InputLayer     |   -------------------         0     0.0%\n",
      "                       #####         108\n",
      "               Dense   XXXXX -------------------    334848   100.0%\n",
      "             sigmoid   #####        3072\n"
     ]
    }
   ],
   "source": [
    "sequential_model_to_ascii_printout(decoder)"
   ]
  },
  {
   "cell_type": "markdown",
   "metadata": {},
   "source": [
    "# Train"
   ]
  },
  {
   "cell_type": "code",
   "execution_count": 20,
   "metadata": {},
   "outputs": [],
   "source": [
    "callbacks_list = [callbacks.EarlyStopping(monitor='loss', patience=5)]"
   ]
  },
  {
   "cell_type": "code",
   "execution_count": 21,
   "metadata": {},
   "outputs": [],
   "source": [
    "autoencoder.compile(optimizer='adadelta', loss='binary_crossentropy')"
   ]
  },
  {
   "cell_type": "code",
   "execution_count": 22,
   "metadata": {},
   "outputs": [
    {
     "name": "stdout",
     "output_type": "stream",
     "text": [
      "Train on 50000 samples, validate on 10000 samples\n",
      "Epoch 1/50\n",
      "50000/50000 [==============================] - 11s 217us/step - loss: 0.6928 - val_loss: 0.6919\n",
      "Epoch 2/50\n",
      "50000/50000 [==============================] - 10s 202us/step - loss: 0.6887 - val_loss: 0.6837\n",
      "Epoch 3/50\n",
      "50000/50000 [==============================] - 10s 204us/step - loss: 0.6788 - val_loss: 0.6744\n",
      "Epoch 4/50\n",
      "50000/50000 [==============================] - 10s 207us/step - loss: 0.6700 - val_loss: 0.6652\n",
      "Epoch 5/50\n",
      "50000/50000 [==============================] - 10s 200us/step - loss: 0.6608 - val_loss: 0.6566\n",
      "Epoch 6/50\n",
      "50000/50000 [==============================] - 10s 196us/step - loss: 0.6538 - val_loss: 0.6513\n",
      "Epoch 7/50\n",
      "50000/50000 [==============================] - 10s 196us/step - loss: 0.6495 - val_loss: 0.6476\n",
      "Epoch 8/50\n",
      "50000/50000 [==============================] - 11s 211us/step - loss: 0.6459 - val_loss: 0.6442\n",
      "Epoch 9/50\n",
      "50000/50000 [==============================] - 10s 205us/step - loss: 0.6425 - val_loss: 0.6410\n",
      "Epoch 10/50\n",
      "50000/50000 [==============================] - 10s 202us/step - loss: 0.6395 - val_loss: 0.6380\n",
      "Epoch 11/50\n",
      "50000/50000 [==============================] - 10s 207us/step - loss: 0.6366 - val_loss: 0.6354\n",
      "Epoch 12/50\n",
      "50000/50000 [==============================] - 10s 204us/step - loss: 0.6340 - val_loss: 0.6329\n",
      "Epoch 13/50\n",
      "50000/50000 [==============================] - 10s 202us/step - loss: 0.6316 - val_loss: 0.6307\n",
      "Epoch 14/50\n",
      "50000/50000 [==============================] - 10s 202us/step - loss: 0.6295 - val_loss: 0.6287\n",
      "Epoch 15/50\n",
      "50000/50000 [==============================] - 10s 206us/step - loss: 0.6275 - val_loss: 0.6270\n",
      "Epoch 16/50\n",
      "50000/50000 [==============================] - 10s 197us/step - loss: 0.6258 - val_loss: 0.6255\n",
      "Epoch 17/50\n",
      "50000/50000 [==============================] - 10s 207us/step - loss: 0.6243 - val_loss: 0.6239\n",
      "Epoch 18/50\n",
      "50000/50000 [==============================] - 10s 197us/step - loss: 0.6229 - val_loss: 0.6226\n",
      "Epoch 19/50\n",
      "50000/50000 [==============================] - 10s 206us/step - loss: 0.6215 - val_loss: 0.6215\n",
      "Epoch 20/50\n",
      "50000/50000 [==============================] - 10s 208us/step - loss: 0.6203 - val_loss: 0.6203\n",
      "Epoch 21/50\n",
      "50000/50000 [==============================] - 10s 197us/step - loss: 0.6190 - val_loss: 0.6191\n",
      "Epoch 22/50\n",
      "50000/50000 [==============================] - 10s 204us/step - loss: 0.6178 - val_loss: 0.6176\n",
      "Epoch 23/50\n",
      "50000/50000 [==============================] - 11s 212us/step - loss: 0.6165 - val_loss: 0.6164\n",
      "Epoch 24/50\n",
      "50000/50000 [==============================] - 10s 209us/step - loss: 0.6153 - val_loss: 0.6152\n",
      "Epoch 25/50\n",
      "50000/50000 [==============================] - 10s 206us/step - loss: 0.6140 - val_loss: 0.6139\n",
      "Epoch 26/50\n",
      "50000/50000 [==============================] - 10s 201us/step - loss: 0.6127 - val_loss: 0.6127\n",
      "Epoch 27/50\n",
      "50000/50000 [==============================] - 10s 198us/step - loss: 0.6114 - val_loss: 0.6115\n",
      "Epoch 28/50\n",
      "50000/50000 [==============================] - 10s 197us/step - loss: 0.6101 - val_loss: 0.6105\n",
      "Epoch 29/50\n",
      "50000/50000 [==============================] - 10s 199us/step - loss: 0.6089 - val_loss: 0.6093\n",
      "Epoch 30/50\n",
      "50000/50000 [==============================] - 10s 198us/step - loss: 0.6077 - val_loss: 0.6075\n",
      "Epoch 31/50\n",
      "50000/50000 [==============================] - 10s 198us/step - loss: 0.6067 - val_loss: 0.6065\n",
      "Epoch 32/50\n",
      "50000/50000 [==============================] - 10s 197us/step - loss: 0.6070 - val_loss: 0.6068\n",
      "Epoch 33/50\n",
      "50000/50000 [==============================] - 10s 198us/step - loss: 0.6058 - val_loss: 0.6087\n",
      "Epoch 34/50\n",
      "50000/50000 [==============================] - 10s 199us/step - loss: 0.6059 - val_loss: 0.6092\n",
      "Epoch 35/50\n",
      "50000/50000 [==============================] - 10s 204us/step - loss: 0.6054 - val_loss: 0.6027\n",
      "Epoch 36/50\n",
      "50000/50000 [==============================] - 11s 210us/step - loss: 0.6051 - val_loss: 0.6031\n",
      "Epoch 37/50\n",
      "50000/50000 [==============================] - 10s 209us/step - loss: 0.6046 - val_loss: 0.6009\n",
      "Epoch 38/50\n",
      "50000/50000 [==============================] - 10s 209us/step - loss: 0.6033 - val_loss: 0.6006\n",
      "Epoch 39/50\n",
      "50000/50000 [==============================] - 10s 200us/step - loss: 0.6035 - val_loss: 0.5993\n",
      "Epoch 40/50\n",
      "50000/50000 [==============================] - 11s 210us/step - loss: 0.6024 - val_loss: 0.6005\n",
      "Epoch 41/50\n",
      "50000/50000 [==============================] - 10s 210us/step - loss: 0.6023 - val_loss: 0.6022\n",
      "Epoch 42/50\n",
      "50000/50000 [==============================] - 11s 216us/step - loss: 0.6014 - val_loss: 0.6015\n",
      "Epoch 43/50\n",
      "50000/50000 [==============================] - 10s 204us/step - loss: 0.6010 - val_loss: 0.5999\n",
      "Epoch 44/50\n",
      "50000/50000 [==============================] - 10s 200us/step - loss: 0.6002 - val_loss: 0.5967\n",
      "Epoch 45/50\n",
      "50000/50000 [==============================] - 10s 210us/step - loss: 0.6003 - val_loss: 0.5995\n",
      "Epoch 46/50\n",
      "50000/50000 [==============================] - 11s 210us/step - loss: 0.5991 - val_loss: 0.5976\n",
      "Epoch 47/50\n",
      "50000/50000 [==============================] - 10s 205us/step - loss: 0.5984 - val_loss: 0.6022\n",
      "Epoch 48/50\n",
      "50000/50000 [==============================] - 10s 203us/step - loss: 0.5988 - val_loss: 0.5986\n",
      "Epoch 49/50\n",
      "50000/50000 [==============================] - 11s 211us/step - loss: 0.5979 - val_loss: 0.5983\n",
      "Epoch 50/50\n",
      "50000/50000 [==============================] - 11s 216us/step - loss: 0.5974 - val_loss: 0.5968\n",
      "CPU times: user 5min 38s, sys: 1min 4s, total: 6min 43s\n",
      "Wall time: 8min 31s\n"
     ]
    }
   ],
   "source": [
    "%%time \n",
    "history = autoencoder.fit(x_train, x_train,\n",
    "                epochs=50,\n",
    "                batch_size=256,\n",
    "                shuffle=True,\n",
    "                validation_data=(x_test, x_test),\n",
    "                callbacks=callbacks_list)"
   ]
  },
  {
   "cell_type": "code",
   "execution_count": 23,
   "metadata": {},
   "outputs": [],
   "source": [
    "def predict_test():\n",
    "    encoded_imgs = encoder.predict(x_test)\n",
    "    decoded_imgs = decoder.predict(encoded_imgs)\n",
    "    \n",
    "    print(\"Mean activations: {}\".format(encoded_imgs.mean()))\n",
    "    \n",
    "    def find_first_digit(d):\n",
    "        return next(i for i in range(len(y_test)) if y_test[i] == d)\n",
    "    \n",
    "    indices = [find_first_digit(d) for d in range(10)]\n",
    "    \n",
    "    n = len(indices)\n",
    "    \n",
    "    fig = plt.figure(figsize=(20, 4))\n",
    "    \n",
    "    rows = 3\n",
    "    \n",
    "    side = int(np.sqrt(encoding_dim / 3))\n",
    "    \n",
    "    for i in range(n):\n",
    "        \n",
    "        # display original\n",
    "        ax = plt.subplot(rows, n, i + 1)\n",
    "        plt.imshow(x_test[indices[i]].reshape(32, 32, 3))\n",
    "        ax.get_xaxis().set_visible(False)\n",
    "        ax.get_yaxis().set_visible(False)\n",
    "            \n",
    "        # display encoding\n",
    "        ax = plt.subplot(rows, n, i + 1 + n)\n",
    "        plt.imshow(((encoded_imgs[indices[i]] + 1) / 2).reshape(side, side, 3))\n",
    "        ax.get_xaxis().set_visible(False)\n",
    "        ax.get_yaxis().set_visible(False)\n",
    "\n",
    "        # display reconstruction\n",
    "        ax = plt.subplot(rows, n, i + 1 + 2 * n)\n",
    "        plt.imshow(decoded_imgs[indices[i]].reshape(32, 32, 3))\n",
    "        ax.get_xaxis().set_visible(False)\n",
    "        ax.get_yaxis().set_visible(False)\n"
   ]
  },
  {
   "cell_type": "code",
   "execution_count": 24,
   "metadata": {},
   "outputs": [
    {
     "name": "stdout",
     "output_type": "stream",
     "text": [
      "Mean activations: 3.4146809577941895\n"
     ]
    },
    {
     "data": {
      "image/png": "[encoded data removed]",
      "text/plain": [
       "<matplotlib.figure.Figure at 0x7f3d37b741d0>"
      ]
     },
     "metadata": {},
     "output_type": "display_data"
    }
   ],
   "source": [
    "predict_test()"
   ]
  },
  {
   "cell_type": "code",
   "execution_count": 25,
   "metadata": {},
   "outputs": [],
   "source": [
    "def plot_history(history):\n",
    "    history_dict = history.history\n",
    "    loss_values = history_dict['loss']\n",
    "    val_loss_values = history_dict['val_loss']\n",
    "    epochs = range(1, len(loss_values) + 1)\n",
    "    \n",
    "    plt.plot(epochs, loss_values, 'b', label='Training loss')\n",
    "    plt.plot(epochs, val_loss_values, 'r', label='Validation loss')\n",
    "    plt.title('Training and Validation loss')\n",
    "    plt.xlabel('Epochs')\n",
    "    plt.ylabel('Loss')\n",
    "    plt.legend()\n",
    "    plt.show()"
   ]
  },
  {
   "cell_type": "code",
   "execution_count": 26,
   "metadata": {},
   "outputs": [
    {
     "data": {
      "image/png": "[encoded data removed]",
      "text/plain": [
       "<matplotlib.figure.Figure at 0x7f3d37b16748>"
      ]
     },
     "metadata": {},
     "output_type": "display_data"
    }
   ],
   "source": [
    "plot_history(history)"
   ]
  },
  {
   "cell_type": "code",
   "execution_count": 27,
   "metadata": {},
   "outputs": [
    {
     "data": {
      "text/plain": [
       "(10000, 3072)"
      ]
     },
     "execution_count": 27,
     "metadata": {},
     "output_type": "execute_result"
    }
   ],
   "source": [
    "encoded_imgs = encoder.predict(x_test)\n",
    "decoded_imgs = decoder.predict(encoded_imgs)\n",
    "decoded_imgs.shape"
   ]
  },
  {
   "cell_type": "code",
   "execution_count": 28,
   "metadata": {},
   "outputs": [
    {
     "name": "stdout",
     "output_type": "stream",
     "text": [
      "0.019172885\n"
     ]
    }
   ],
   "source": [
    "from sklearn.metrics import mean_squared_error\n",
    "mse = mean_squared_error(x_test, decoded_imgs)\n",
    "print(mse)"
   ]
  },
  {
   "cell_type": "code",
   "execution_count": 34,
   "metadata": {},
   "outputs": [
    {
     "data": {
      "text/plain": [
       "0.6082759"
      ]
     },
     "execution_count": 34,
     "metadata": {},
     "output_type": "execute_result"
    }
   ],
   "source": [
    "x_test[1].mean(axis=0)"
   ]
  },
  {
   "cell_type": "code",
   "execution_count": 35,
   "metadata": {},
   "outputs": [
    {
     "data": {
      "text/plain": [
       "0.5559898"
      ]
     },
     "execution_count": 35,
     "metadata": {},
     "output_type": "execute_result"
    }
   ],
   "source": [
    "decoded_imgs[1].mean(axis=0)"
   ]
  },
  {
   "cell_type": "code",
   "execution_count": 29,
   "metadata": {},
   "outputs": [
    {
     "data": {
      "application/json": {
       "Software versions": [
        {
         "module": "Python",
         "version": "3.6.4 64bit [GCC 4.8.2 20140120 (Red Hat 4.8.2-15)]"
        },
        {
         "module": "IPython",
         "version": "6.2.1"
        },
        {
         "module": "OS",
         "version": "Linux 4.10.0 38 generic x86_64 with debian stretch sid"
        },
        {
         "module": "keras",
         "version": "2.1.3"
        },
        {
         "module": "tensorflow",
         "version": "1.4.1"
        },
        {
         "module": "numpy",
         "version": "1.14.0"
        },
        {
         "module": "matplotlib",
         "version": "2.1.2"
        }
       ]
      },
      "text/html": [
       "<table><tr><th>Software</th><th>Version</th></tr><tr><td>Python</td><td>3.6.4 64bit [GCC 4.8.2 20140120 (Red Hat 4.8.2-15)]</td></tr><tr><td>IPython</td><td>6.2.1</td></tr><tr><td>OS</td><td>Linux 4.10.0 38 generic x86_64 with debian stretch sid</td></tr><tr><td>keras</td><td>2.1.3</td></tr><tr><td>tensorflow</td><td>1.4.1</td></tr><tr><td>numpy</td><td>1.14.0</td></tr><tr><td>matplotlib</td><td>2.1.2</td></tr><tr><td colspan='2'>Mon Jan 29 22:39:53 2018 CST</td></tr></table>"
      ],
      "text/latex": [
       "\\begin{tabular}{|l|l|}\\hline\n",
       "{\\bf Software} & {\\bf Version} \\\\ \\hline\\hline\n",
       "Python & 3.6.4 64bit [GCC 4.8.2 20140120 (Red Hat 4.8.2-15)] \\\\ \\hline\n",
       "IPython & 6.2.1 \\\\ \\hline\n",
       "OS & Linux 4.10.0 38 generic x86\\_64 with debian stretch sid \\\\ \\hline\n",
       "keras & 2.1.3 \\\\ \\hline\n",
       "tensorflow & 1.4.1 \\\\ \\hline\n",
       "numpy & 1.14.0 \\\\ \\hline\n",
       "matplotlib & 2.1.2 \\\\ \\hline\n",
       "\\hline \\multicolumn{2}{|l|}{Mon Jan 29 22:39:53 2018 CST} \\\\ \\hline\n",
       "\\end{tabular}\n"
      ],
      "text/plain": [
       "Software versions\n",
       "Python 3.6.4 64bit [GCC 4.8.2 20140120 (Red Hat 4.8.2-15)]\n",
       "IPython 6.2.1\n",
       "OS Linux 4.10.0 38 generic x86_64 with debian stretch sid\n",
       "keras 2.1.3\n",
       "tensorflow 1.4.1\n",
       "numpy 1.14.0\n",
       "matplotlib 2.1.2\n",
       "Mon Jan 29 22:39:53 2018 CST"
      ]
     },
     "execution_count": 29,
     "metadata": {},
     "output_type": "execute_result"
    }
   ],
   "source": [
    "%load_ext version_information\n",
    "%version_information keras, tensorflow, numpy , matplotlib"
   ]
  }
 ],
 "metadata": {
  "kernelspec": {
   "display_name": "Python 3",
   "language": "python",
   "name": "python3"
  },
  "language_info": {
   "codemirror_mode": {
    "name": "ipython",
    "version": 3
   },
   "file_extension": ".py",
   "mimetype": "text/x-python",
   "name": "python",
   "nbconvert_exporter": "python",
   "pygments_lexer": "ipython3",
   "version": "3.6.4"
  }
 },
 "nbformat": 4,
 "nbformat_minor": 2
}
