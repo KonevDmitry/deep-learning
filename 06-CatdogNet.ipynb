{
 "cells": [
  {
   "cell_type": "markdown",
   "metadata": {
    "toc": true
   },
   "source": [
    "<h1>Table of Contents<span class=\"tocSkip\"></span></h1>\n",
    "<div class=\"toc\" style=\"margin-top: 1em;\"><ul class=\"toc-item\"><li><span><a href=\"#Loading-the-data\" data-toc-modified-id=\"Loading-the-data-1\"><span class=\"toc-item-num\">1&nbsp;&nbsp;</span>Loading the data</a></span><ul class=\"toc-item\"><li><span><a href=\"#Copying-images-to-training,-validation,-and-test-directories\" data-toc-modified-id=\"Copying-images-to-training,-validation,-and-test-directories-1.1\"><span class=\"toc-item-num\">1.1&nbsp;&nbsp;</span>Copying images to training, validation, and test directories</a></span></li></ul></li><li><span><a href=\"#Building-the-network\" data-toc-modified-id=\"Building-the-network-2\"><span class=\"toc-item-num\">2&nbsp;&nbsp;</span>Building the network</a></span><ul class=\"toc-item\"><li><span><a href=\"#Configuring-the-model-for-training\" data-toc-modified-id=\"Configuring-the-model-for-training-2.1\"><span class=\"toc-item-num\">2.1&nbsp;&nbsp;</span>Configuring the model for training</a></span></li></ul></li><li><span><a href=\"#Data-Preprocessing\" data-toc-modified-id=\"Data-Preprocessing-3\"><span class=\"toc-item-num\">3&nbsp;&nbsp;</span>Data Preprocessing</a></span><ul class=\"toc-item\"><li><span><a href=\"#Using-ImageDataGenerator-to-read-images-from-directories\" data-toc-modified-id=\"Using-ImageDataGenerator-to-read-images-from-directories-3.1\"><span class=\"toc-item-num\">3.1&nbsp;&nbsp;</span>Using <code>ImageDataGenerator</code> to read images from directories</a></span></li><li><span><a href=\"#Fitting-the-model-using-a-batch-generator\" data-toc-modified-id=\"Fitting-the-model-using-a-batch-generator-3.2\"><span class=\"toc-item-num\">3.2&nbsp;&nbsp;</span>Fitting the model using a batch generator</a></span></li><li><span><a href=\"#Saving-the-model\" data-toc-modified-id=\"Saving-the-model-3.3\"><span class=\"toc-item-num\">3.3&nbsp;&nbsp;</span>Saving the model</a></span></li></ul></li><li><span><a href=\"#Displaying-curves-of-loss-and-accuracy-during-training\" data-toc-modified-id=\"Displaying-curves-of-loss-and-accuracy-during-training-4\"><span class=\"toc-item-num\">4&nbsp;&nbsp;</span>Displaying curves of loss and accuracy during training</a></span></li><li><span><a href=\"#Data-Augmentation\" data-toc-modified-id=\"Data-Augmentation-5\"><span class=\"toc-item-num\">5&nbsp;&nbsp;</span>Data Augmentation</a></span><ul class=\"toc-item\"><li><span><a href=\"#Setting-up-a-data-augmentation-configuration-via-ImageDataGenerator\" data-toc-modified-id=\"Setting-up-a-data-augmentation-configuration-via-ImageDataGenerator-5.1\"><span class=\"toc-item-num\">5.1&nbsp;&nbsp;</span>Setting up a data augmentation configuration via <code>ImageDataGenerator</code></a></span></li><li><span><a href=\"#Displaying-some-randomly-augmented-training-images\" data-toc-modified-id=\"Displaying-some-randomly-augmented-training-images-5.2\"><span class=\"toc-item-num\">5.2&nbsp;&nbsp;</span>Displaying some randomly augmented training images</a></span></li><li><span><a href=\"#Defining-a-new-convnet-that-includes-dropout\" data-toc-modified-id=\"Defining-a-new-convnet-that-includes-dropout-5.3\"><span class=\"toc-item-num\">5.3&nbsp;&nbsp;</span>Defining a new convnet that includes dropout</a></span></li><li><span><a href=\"#Training-the-convnet-using-data-augmentation-generators\" data-toc-modified-id=\"Training-the-convnet-using-data-augmentation-generators-5.4\"><span class=\"toc-item-num\">5.4&nbsp;&nbsp;</span>Training the convnet using data-augmentation generators</a></span></li><li><span><a href=\"#Saving-the-new-model\" data-toc-modified-id=\"Saving-the-new-model-5.5\"><span class=\"toc-item-num\">5.5&nbsp;&nbsp;</span>Saving the new model</a></span></li><li><span><a href=\"#Plot-the-new-results\" data-toc-modified-id=\"Plot-the-new-results-5.6\"><span class=\"toc-item-num\">5.6&nbsp;&nbsp;</span>Plot the new results</a></span></li></ul></li><li><span><a href=\"#Using-a-pretrained-convnet\" data-toc-modified-id=\"Using-a-pretrained-convnet-6\"><span class=\"toc-item-num\">6&nbsp;&nbsp;</span>Using a pretrained convnet</a></span><ul class=\"toc-item\"><li><span><a href=\"#Insatiating-the-VGG16-convolutional-base\" data-toc-modified-id=\"Insatiating-the-VGG16-convolutional-base-6.1\"><span class=\"toc-item-num\">6.1&nbsp;&nbsp;</span>Insatiating the VGG16 convolutional base</a></span></li><li><span><a href=\"#Technique-1:-Fast-Feature-Extraction-without-data-augmentation\" data-toc-modified-id=\"Technique-1:-Fast-Feature-Extraction-without-data-augmentation-6.2\"><span class=\"toc-item-num\">6.2&nbsp;&nbsp;</span>Technique 1: Fast Feature Extraction without data augmentation</a></span></li><li><span><a href=\"#Technique-2:-Feature-Extraction-with-Data-Augmentation\" data-toc-modified-id=\"Technique-2:-Feature-Extraction-with-Data-Augmentation-6.3\"><span class=\"toc-item-num\">6.3&nbsp;&nbsp;</span>Technique 2: Feature Extraction with Data Augmentation</a></span><ul class=\"toc-item\"><li><span><a href=\"#Training-the-model-end-to-end-with-a-frozen-convolutional-base\" data-toc-modified-id=\"Training-the-model-end-to-end-with-a-frozen-convolutional-base-6.3.1\"><span class=\"toc-item-num\">6.3.1&nbsp;&nbsp;</span>Training the model end to end with a frozen convolutional base</a></span></li></ul></li></ul></li></ul></div>"
   ]
  },
  {
   "cell_type": "markdown",
   "metadata": {
    "heading_collapsed": true
   },
   "source": [
    "# Loading the data"
   ]
  },
  {
   "cell_type": "markdown",
   "metadata": {
    "hidden": true
   },
   "source": [
    "## Copying images to training, validation, and test directories "
   ]
  },
  {
   "cell_type": "code",
   "execution_count": 1,
   "metadata": {
    "hidden": true
   },
   "outputs": [],
   "source": [
    "import os, shutil"
   ]
  },
  {
   "cell_type": "code",
   "execution_count": 2,
   "metadata": {
    "hidden": true
   },
   "outputs": [],
   "source": [
    "original_dataset_dir  = '/home/abanihi/Documents/deep-data/kaggle/dogs-vs-cats/train/'"
   ]
  },
  {
   "cell_type": "code",
   "execution_count": 3,
   "metadata": {
    "hidden": true
   },
   "outputs": [],
   "source": [
    "base_dir = '/home/abanihi/Documents/deep-data/kaggle/dogs-vs-cats/cats_and_dogs_small'\n",
    "os.mkdir(base_dir)"
   ]
  },
  {
   "cell_type": "code",
   "execution_count": 4,
   "metadata": {
    "hidden": true
   },
   "outputs": [],
   "source": [
    "train_dir = os.path.join(base_dir, 'train')\n",
    "os.mkdir(train_dir)\n",
    "validation_dir = os.path.join(base_dir, 'validation')\n",
    "os.mkdir(validation_dir)\n",
    "test_dir = os.path.join(base_dir, 'test')\n",
    "os.mkdir(test_dir)"
   ]
  },
  {
   "cell_type": "code",
   "execution_count": 5,
   "metadata": {
    "hidden": true
   },
   "outputs": [],
   "source": [
    "train_cats_dir = os.path.join(train_dir, 'cats')\n",
    "os.mkdir(train_cats_dir)"
   ]
  },
  {
   "cell_type": "code",
   "execution_count": 6,
   "metadata": {
    "hidden": true
   },
   "outputs": [],
   "source": [
    "train_dogs_dir = os.path.join(train_dir, 'dogs')\n",
    "os.mkdir(train_dogs_dir)"
   ]
  },
  {
   "cell_type": "code",
   "execution_count": 7,
   "metadata": {
    "hidden": true
   },
   "outputs": [],
   "source": [
    "test_cats_dir = os.path.join(test_dir, 'cats')\n",
    "os.mkdir(test_cats_dir)\n",
    "test_dogs_dir = os.path.join(test_dir, 'dogs')\n",
    "os.mkdir(test_dogs_dir)"
   ]
  },
  {
   "cell_type": "code",
   "execution_count": 8,
   "metadata": {
    "hidden": true
   },
   "outputs": [],
   "source": [
    "val_cats_dir = os.path.join(validation_dir, 'cats')\n",
    "os.mkdir(val_cats_dir)\n",
    "val_dogs_dir = os.path.join(validation_dir, 'dogs')\n",
    "os.mkdir(val_dogs_dir)"
   ]
  },
  {
   "cell_type": "markdown",
   "metadata": {
    "hidden": true
   },
   "source": [
    "- Copy the first 1,000 cat images to train_cats_dir"
   ]
  },
  {
   "cell_type": "code",
   "execution_count": 9,
   "metadata": {
    "hidden": true
   },
   "outputs": [],
   "source": [
    "fnames = ['cat.{}.jpg'.format(i) for i in range(1000)]                     \n",
    "for fname in fnames:                                                       \n",
    "    src = os.path.join(original_dataset_dir, fname)                        \n",
    "    dst = os.path.join(train_cats_dir, fname)                              \n",
    "    shutil.copyfile(src, dst)                                              \n"
   ]
  },
  {
   "cell_type": "markdown",
   "metadata": {
    "hidden": true
   },
   "source": [
    "- Copy the next 500 cat images to validation_cats_dir"
   ]
  },
  {
   "cell_type": "code",
   "execution_count": 10,
   "metadata": {
    "hidden": true
   },
   "outputs": [],
   "source": [
    "fnames = ['cat.{}.jpg'.format(i) for i in range(1000, 1500)]               \n",
    "for fname in fnames:                                                       \n",
    "    src = os.path.join(original_dataset_dir, fname)                        \n",
    "    dst = os.path.join(val_cats_dir, fname)                         \n",
    "    shutil.copyfile(src, dst)     "
   ]
  },
  {
   "cell_type": "markdown",
   "metadata": {
    "hidden": true
   },
   "source": [
    "- Copy the next 500 cat images to test_cats_dir "
   ]
  },
  {
   "cell_type": "code",
   "execution_count": 11,
   "metadata": {
    "hidden": true
   },
   "outputs": [],
   "source": [
    "fnames = ['cat.{}.jpg'.format(i) for i in range(1500, 2000)]               \n",
    "for fname in fnames:                                                       \n",
    "    src = os.path.join(original_dataset_dir, fname)                        \n",
    "    dst = os.path.join(test_cats_dir, fname)                         \n",
    "    shutil.copyfile(src, dst)     "
   ]
  },
  {
   "cell_type": "code",
   "execution_count": 12,
   "metadata": {
    "hidden": true
   },
   "outputs": [],
   "source": [
    "fnames = ['dog.{}.jpg'.format(i) for i in range(1000)]                     \n",
    "for fname in fnames:                                                       \n",
    "    src = os.path.join(original_dataset_dir, fname)                        \n",
    "    dst = os.path.join(train_dogs_dir, fname)                              \n",
    "    shutil.copyfile(src, dst)                                              \n"
   ]
  },
  {
   "cell_type": "code",
   "execution_count": 13,
   "metadata": {
    "hidden": true
   },
   "outputs": [],
   "source": [
    "fnames = ['dog.{}.jpg'.format(i) for i in range(1000, 1500)]               \n",
    "for fname in fnames:                                                       \n",
    "    src = os.path.join(original_dataset_dir, fname)                        \n",
    "    dst = os.path.join(val_dogs_dir, fname)                         \n",
    "    shutil.copyfile(src, dst)     "
   ]
  },
  {
   "cell_type": "code",
   "execution_count": 14,
   "metadata": {
    "hidden": true
   },
   "outputs": [],
   "source": [
    "fnames = ['dog.{}.jpg'.format(i) for i in range(1000, 1500)]               \n",
    "for fname in fnames:                                                       \n",
    "    src = os.path.join(original_dataset_dir, fname)                        \n",
    "    dst = os.path.join(test_dogs_dir, fname)                         \n",
    "    shutil.copyfile(src, dst)     "
   ]
  },
  {
   "cell_type": "markdown",
   "metadata": {
    "hidden": true
   },
   "source": [
    "As a sanity check let's count how many pictures are in each training split (train/validation/test):"
   ]
  },
  {
   "cell_type": "code",
   "execution_count": 15,
   "metadata": {
    "hidden": true
   },
   "outputs": [
    {
     "name": "stdout",
     "output_type": "stream",
     "text": [
      "total training cat images: 1000\n"
     ]
    }
   ],
   "source": [
    "print('total training cat images:', len(os.listdir(train_cats_dir)))"
   ]
  },
  {
   "cell_type": "code",
   "execution_count": 16,
   "metadata": {
    "hidden": true
   },
   "outputs": [
    {
     "name": "stdout",
     "output_type": "stream",
     "text": [
      "total training dog images: 1000\n"
     ]
    }
   ],
   "source": [
    "print('total training dog images:', len(os.listdir(train_dogs_dir)))"
   ]
  },
  {
   "cell_type": "code",
   "execution_count": 17,
   "metadata": {
    "hidden": true
   },
   "outputs": [
    {
     "name": "stdout",
     "output_type": "stream",
     "text": [
      "total validation cat images: 500\n"
     ]
    }
   ],
   "source": [
    "print('total validation cat images:', len(os.listdir(val_cats_dir)))"
   ]
  },
  {
   "cell_type": "code",
   "execution_count": 18,
   "metadata": {
    "hidden": true
   },
   "outputs": [
    {
     "name": "stdout",
     "output_type": "stream",
     "text": [
      "total validation dog images: 500\n"
     ]
    }
   ],
   "source": [
    "print('total validation dog images:', len(os.listdir(val_dogs_dir)))"
   ]
  },
  {
   "cell_type": "code",
   "execution_count": 19,
   "metadata": {
    "hidden": true
   },
   "outputs": [
    {
     "name": "stdout",
     "output_type": "stream",
     "text": [
      "total test cat images: 500\n"
     ]
    }
   ],
   "source": [
    "print('total test cat images:', len(os.listdir(test_cats_dir)))"
   ]
  },
  {
   "cell_type": "code",
   "execution_count": 20,
   "metadata": {
    "hidden": true
   },
   "outputs": [
    {
     "name": "stdout",
     "output_type": "stream",
     "text": [
      "total test dog images: 500\n"
     ]
    }
   ],
   "source": [
    "print('total test dog images:', len(os.listdir(test_dogs_dir)))"
   ]
  },
  {
   "cell_type": "code",
   "execution_count": null,
   "metadata": {
    "hidden": true
   },
   "outputs": [],
   "source": []
  },
  {
   "cell_type": "markdown",
   "metadata": {
    "heading_collapsed": true
   },
   "source": [
    "# Building the network"
   ]
  },
  {
   "cell_type": "code",
   "execution_count": 21,
   "metadata": {
    "hidden": true
   },
   "outputs": [
    {
     "name": "stderr",
     "output_type": "stream",
     "text": [
      "Using TensorFlow backend.\n"
     ]
    }
   ],
   "source": [
    "from keras import layers \n",
    "from keras import models"
   ]
  },
  {
   "cell_type": "code",
   "execution_count": 22,
   "metadata": {
    "hidden": true
   },
   "outputs": [],
   "source": [
    "model = models.Sequential()\n",
    "model.add(layers.Conv2D(32, (3, 3), activation='relu', input_shape=(150, 150, 3)))\n",
    "model.add(layers.MaxPooling2D((2, 2)))\n",
    "model.add(layers.Conv2D(64, (3, 3), activation='relu'))\n",
    "model.add(layers.MaxPooling2D((2, 2)))\n",
    "model.add(layers.Conv2D(128, (3, 3), activation='relu'))\n",
    "model.add(layers.MaxPooling2D((2, 2)))\n",
    "model.add(layers.Conv2D(128, (3, 3), activation='relu'))\n",
    "model.add(layers.MaxPooling2D((2, 2)))\n",
    "model.add(layers.Flatten())\n",
    "model.add(layers.Dense(512, activation='relu'))\n",
    "model.add(layers.Dense(1, activation='sigmoid'))"
   ]
  },
  {
   "cell_type": "code",
   "execution_count": 23,
   "metadata": {
    "hidden": true
   },
   "outputs": [
    {
     "name": "stdout",
     "output_type": "stream",
     "text": [
      "_________________________________________________________________\n",
      "Layer (type)                 Output Shape              Param #   \n",
      "=================================================================\n",
      "conv2d_1 (Conv2D)            (None, 148, 148, 32)      896       \n",
      "_________________________________________________________________\n",
      "max_pooling2d_1 (MaxPooling2 (None, 74, 74, 32)        0         \n",
      "_________________________________________________________________\n",
      "conv2d_2 (Conv2D)            (None, 72, 72, 64)        18496     \n",
      "_________________________________________________________________\n",
      "max_pooling2d_2 (MaxPooling2 (None, 36, 36, 64)        0         \n",
      "_________________________________________________________________\n",
      "conv2d_3 (Conv2D)            (None, 34, 34, 128)       73856     \n",
      "_________________________________________________________________\n",
      "max_pooling2d_3 (MaxPooling2 (None, 17, 17, 128)       0         \n",
      "_________________________________________________________________\n",
      "conv2d_4 (Conv2D)            (None, 15, 15, 128)       147584    \n",
      "_________________________________________________________________\n",
      "max_pooling2d_4 (MaxPooling2 (None, 7, 7, 128)         0         \n",
      "_________________________________________________________________\n",
      "flatten_1 (Flatten)          (None, 6272)              0         \n",
      "_________________________________________________________________\n",
      "dense_1 (Dense)              (None, 512)               3211776   \n",
      "_________________________________________________________________\n",
      "dense_2 (Dense)              (None, 1)                 513       \n",
      "=================================================================\n",
      "Total params: 3,453,121\n",
      "Trainable params: 3,453,121\n",
      "Non-trainable params: 0\n",
      "_________________________________________________________________\n"
     ]
    }
   ],
   "source": [
    "model.summary()"
   ]
  },
  {
   "cell_type": "markdown",
   "metadata": {
    "hidden": true
   },
   "source": [
    "## Configuring the model for training"
   ]
  },
  {
   "cell_type": "code",
   "execution_count": 24,
   "metadata": {
    "hidden": true
   },
   "outputs": [],
   "source": [
    "from keras import optimizers"
   ]
  },
  {
   "cell_type": "code",
   "execution_count": 25,
   "metadata": {
    "hidden": true
   },
   "outputs": [],
   "source": [
    "model.compile(optimizer=optimizers.RMSprop(lr=1e-4),\n",
    "              loss='binary_crossentropy',\n",
    "              metrics=['acc'])"
   ]
  },
  {
   "cell_type": "markdown",
   "metadata": {
    "heading_collapsed": true
   },
   "source": [
    "# Data Preprocessing"
   ]
  },
  {
   "cell_type": "markdown",
   "metadata": {
    "hidden": true
   },
   "source": [
    "Currently, the data sits on a drive as JPEG files, so the steps for getting it into the network are roughly as follows:\n",
    "    1. Read the picture files\n",
    "    2. Decode the JPEG content to RGB grids of pixels\n",
    "    3. Convert these into floating-point tensors\n",
    "    4. Rescale the pixel values to the [0-1] interval\n",
    "    \n",
    "Keras has utilities to take care of these steps automatically. Keras has a module with image-processing helper tools, located at keras.preprocessing.image. In particular, it contains the class ImageDataGenerator, which lets you quickly set up Python generators that can automatically turn image files on disk into batches of preprocessed tensors.\n"
   ]
  },
  {
   "cell_type": "markdown",
   "metadata": {
    "hidden": true
   },
   "source": [
    "## Using ```ImageDataGenerator``` to read images from directories"
   ]
  },
  {
   "cell_type": "code",
   "execution_count": 26,
   "metadata": {
    "hidden": true
   },
   "outputs": [],
   "source": [
    "from keras.preprocessing.image import ImageDataGenerator"
   ]
  },
  {
   "cell_type": "code",
   "execution_count": 27,
   "metadata": {
    "hidden": true
   },
   "outputs": [],
   "source": [
    "train_datagen = ImageDataGenerator(rescale=1./255)\n",
    "test_datagen = ImageDataGenerator(rescale=1./255)"
   ]
  },
  {
   "cell_type": "code",
   "execution_count": 28,
   "metadata": {
    "hidden": true
   },
   "outputs": [
    {
     "name": "stdout",
     "output_type": "stream",
     "text": [
      "Found 2000 images belonging to 2 classes.\n"
     ]
    }
   ],
   "source": [
    "train_generator = train_datagen.flow_from_directory(\n",
    "            train_dir,\n",
    "            target_size=(150, 150),\n",
    "            batch_size = 20,\n",
    "            class_mode = 'binary')"
   ]
  },
  {
   "cell_type": "code",
   "execution_count": 29,
   "metadata": {
    "hidden": true
   },
   "outputs": [
    {
     "name": "stdout",
     "output_type": "stream",
     "text": [
      "Found 1000 images belonging to 2 classes.\n"
     ]
    }
   ],
   "source": [
    "validation_generator = test_datagen.flow_from_directory(\n",
    "            validation_dir,\n",
    "            target_size=(150, 150),\n",
    "            batch_size = 20,\n",
    "            class_mode = 'binary')"
   ]
  },
  {
   "cell_type": "code",
   "execution_count": 30,
   "metadata": {
    "hidden": true
   },
   "outputs": [
    {
     "name": "stdout",
     "output_type": "stream",
     "text": [
      "data batch shape:  (20, 150, 150, 3)\n",
      "labels batch shape:  (20,)\n"
     ]
    }
   ],
   "source": [
    "for data_batch, labels_batch in train_generator:\n",
    "    print('data batch shape: ', data_batch.shape)\n",
    "    print('labels batch shape: ', labels_batch.shape)\n",
    "    break"
   ]
  },
  {
   "cell_type": "markdown",
   "metadata": {
    "hidden": true
   },
   "source": [
    "Let’s fit the model to the data using the generator. We do so using the fit_generator method, the equivalent of fit for data generators like this one. It expects as its first argument a Python generator that will yield batches of inputs and targets indefinitely, like this one does. Because the data is being generated endlessly, the Keras model needs to know how many samples to draw from the generator before declaring an epoch over. This is the role of the steps_per_epoch argument: after having drawn steps_per_epoch batches from the generator—that is, after having run for steps_per_epoch gradient descent steps—the fitting process will go to the next epoch. In this case, batches are 20 samples, so it will take 100 batches until you see your target of 2,000 samples.\n",
    "\n",
    "When using fit_generator, we can pass a validation_data argument, much as with the fit method. It’s important to note that this argument is allowed to be a data generator, but it could also be a tuple of Numpy arrays. If you pass a generator as validation_data, then this generator is expected to yield batches of validation data endlessly; thus you should also specify the validation_steps argument, which tells the process how many batches to draw from the validation generator for evaluation.\n"
   ]
  },
  {
   "cell_type": "markdown",
   "metadata": {
    "heading_collapsed": true,
    "hidden": true
   },
   "source": [
    "## Fitting the model using a batch generator"
   ]
  },
  {
   "cell_type": "code",
   "execution_count": 31,
   "metadata": {
    "hidden": true
   },
   "outputs": [
    {
     "name": "stdout",
     "output_type": "stream",
     "text": [
      "Epoch 1/30\n",
      "100/100 [==============================] - 47s 468ms/step - loss: 0.6908 - acc: 0.5215 - val_loss: 0.6763 - val_acc: 0.6200\n",
      "Epoch 2/30\n",
      "100/100 [==============================] - 34s 340ms/step - loss: 0.6635 - acc: 0.6080 - val_loss: 0.6575 - val_acc: 0.6120\n",
      "Epoch 3/30\n",
      "100/100 [==============================] - 35s 352ms/step - loss: 0.6241 - acc: 0.6565 - val_loss: 0.6921 - val_acc: 0.5750\n",
      "Epoch 4/30\n",
      "100/100 [==============================] - 36s 358ms/step - loss: 0.5909 - acc: 0.6885 - val_loss: 0.6174 - val_acc: 0.6640\n",
      "Epoch 5/30\n",
      "100/100 [==============================] - 36s 358ms/step - loss: 0.5537 - acc: 0.7170 - val_loss: 0.7759 - val_acc: 0.5610\n",
      "Epoch 6/30\n",
      "100/100 [==============================] - 35s 347ms/step - loss: 0.5344 - acc: 0.7350 - val_loss: 0.6172 - val_acc: 0.6700\n",
      "Epoch 7/30\n",
      "100/100 [==============================] - 35s 354ms/step - loss: 0.4990 - acc: 0.7550 - val_loss: 0.5789 - val_acc: 0.6880\n",
      "Epoch 8/30\n",
      "100/100 [==============================] - 34s 343ms/step - loss: 0.4708 - acc: 0.7775 - val_loss: 0.5930 - val_acc: 0.7070\n",
      "Epoch 9/30\n",
      "100/100 [==============================] - 34s 336ms/step - loss: 0.4472 - acc: 0.7935 - val_loss: 0.5648 - val_acc: 0.7120\n",
      "Epoch 10/30\n",
      "100/100 [==============================] - 35s 346ms/step - loss: 0.4215 - acc: 0.8080 - val_loss: 0.5812 - val_acc: 0.6970\n",
      "Epoch 11/30\n",
      "100/100 [==============================] - 35s 353ms/step - loss: 0.3915 - acc: 0.8310 - val_loss: 0.6408 - val_acc: 0.7060\n",
      "Epoch 12/30\n",
      "100/100 [==============================] - 35s 354ms/step - loss: 0.3700 - acc: 0.8455 - val_loss: 0.5843 - val_acc: 0.7140\n",
      "Epoch 13/30\n",
      "100/100 [==============================] - 36s 357ms/step - loss: 0.3514 - acc: 0.8475 - val_loss: 0.6485 - val_acc: 0.7190\n",
      "Epoch 14/30\n",
      "100/100 [==============================] - 35s 351ms/step - loss: 0.3229 - acc: 0.8610 - val_loss: 0.6333 - val_acc: 0.6980\n",
      "Epoch 15/30\n",
      "100/100 [==============================] - 35s 353ms/step - loss: 0.2989 - acc: 0.8780 - val_loss: 0.6249 - val_acc: 0.7170\n",
      "Epoch 16/30\n",
      "100/100 [==============================] - 35s 353ms/step - loss: 0.2765 - acc: 0.8860 - val_loss: 0.6377 - val_acc: 0.7240\n",
      "Epoch 17/30\n",
      "100/100 [==============================] - 35s 352ms/step - loss: 0.2560 - acc: 0.8935 - val_loss: 0.6454 - val_acc: 0.7220\n",
      "Epoch 18/30\n",
      "100/100 [==============================] - 35s 351ms/step - loss: 0.2280 - acc: 0.9095 - val_loss: 0.6876 - val_acc: 0.7090\n",
      "Epoch 19/30\n",
      "100/100 [==============================] - 35s 354ms/step - loss: 0.2074 - acc: 0.9210 - val_loss: 0.6537 - val_acc: 0.7180\n",
      "Epoch 20/30\n",
      "100/100 [==============================] - 35s 353ms/step - loss: 0.1826 - acc: 0.9320 - val_loss: 0.6565 - val_acc: 0.7100\n",
      "Epoch 21/30\n",
      "100/100 [==============================] - 35s 353ms/step - loss: 0.1653 - acc: 0.9380 - val_loss: 0.7483 - val_acc: 0.7110\n",
      "Epoch 22/30\n",
      "100/100 [==============================] - 35s 355ms/step - loss: 0.1569 - acc: 0.9415 - val_loss: 0.7587 - val_acc: 0.7070\n",
      "Epoch 23/30\n",
      "100/100 [==============================] - 35s 354ms/step - loss: 0.1275 - acc: 0.9620 - val_loss: 0.7823 - val_acc: 0.7100\n",
      "Epoch 24/30\n",
      "100/100 [==============================] - 35s 353ms/step - loss: 0.1013 - acc: 0.9675 - val_loss: 0.8761 - val_acc: 0.7120\n",
      "Epoch 25/30\n",
      "100/100 [==============================] - 36s 356ms/step - loss: 0.1004 - acc: 0.9675 - val_loss: 0.8910 - val_acc: 0.7180\n",
      "Epoch 26/30\n",
      "100/100 [==============================] - 35s 354ms/step - loss: 0.0770 - acc: 0.9790 - val_loss: 0.9759 - val_acc: 0.6780\n",
      "Epoch 27/30\n",
      "100/100 [==============================] - 36s 355ms/step - loss: 0.0693 - acc: 0.9765 - val_loss: 0.9463 - val_acc: 0.7270\n",
      "Epoch 28/30\n",
      "100/100 [==============================] - 35s 354ms/step - loss: 0.0573 - acc: 0.9820 - val_loss: 0.9664 - val_acc: 0.7000\n",
      "Epoch 29/30\n",
      "100/100 [==============================] - 36s 356ms/step - loss: 0.0496 - acc: 0.9855 - val_loss: 1.0230 - val_acc: 0.7100\n",
      "Epoch 30/30\n",
      "100/100 [==============================] - 36s 355ms/step - loss: 0.0446 - acc: 0.9855 - val_loss: 1.0267 - val_acc: 0.7140\n",
      "CPU times: user 17min 36s, sys: 1min 55s, total: 19min 31s\n",
      "Wall time: 17min 48s\n"
     ]
    }
   ],
   "source": [
    "%%time \n",
    "history = model.fit_generator(\n",
    "        train_generator,\n",
    "        steps_per_epoch=100,\n",
    "        epochs = 30,\n",
    "        validation_data = validation_generator,\n",
    "        validation_steps = 50)"
   ]
  },
  {
   "cell_type": "markdown",
   "metadata": {
    "hidden": true
   },
   "source": [
    "## Saving the model"
   ]
  },
  {
   "cell_type": "code",
   "execution_count": 32,
   "metadata": {
    "hidden": true
   },
   "outputs": [],
   "source": [
    "model.save('cats_and_dogs_small_1.h5')"
   ]
  },
  {
   "cell_type": "markdown",
   "metadata": {
    "heading_collapsed": true
   },
   "source": [
    "# Displaying curves of loss and accuracy during training"
   ]
  },
  {
   "cell_type": "code",
   "execution_count": 33,
   "metadata": {
    "hidden": true
   },
   "outputs": [],
   "source": [
    "import matplotlib.pyplot as plt \n",
    "%matplotlib inline\n"
   ]
  },
  {
   "cell_type": "code",
   "execution_count": 82,
   "metadata": {
    "hidden": true
   },
   "outputs": [],
   "source": [
    "def plot_history(history):\n",
    "    history_dict = history.history\n",
    "    loss_values = history_dict['loss']\n",
    "    val_loss_values = history_dict['val_loss']\n",
    "    acc_values = history_dict['acc']\n",
    "    val_acc_values = history_dict['val_acc']\n",
    "    epochs = range(1, len(acc_values) + 1)\n",
    "    \n",
    "    plt.plot(epochs, loss_values, 'b', label='Training loss')\n",
    "    plt.plot(epochs, val_loss_values, 'r', label='Validation loss')\n",
    "    plt.title('Training and Validation loss')\n",
    "    plt.xlabel('Epochs')\n",
    "    plt.ylabel('Loss')\n",
    "    plt.legend()\n",
    "    plt.show()\n",
    "    \n",
    "    plt.plot(epochs, acc_values, 'b', label='Training accuracy')\n",
    "    plt.plot(epochs, val_acc_values, 'r', label='Validation accuracy')\n",
    "    plt.title('Training and Validation accuracy')\n",
    "    plt.xlabel('Epochs')\n",
    "    plt.ylabel('Validation')\n",
    "    plt.legend()\n",
    "    plt.show()"
   ]
  },
  {
   "cell_type": "code",
   "execution_count": 35,
   "metadata": {
    "hidden": true
   },
   "outputs": [
    {
     "data": {
      "image/png": "[encoded data removed]",
      "text/plain": [
       "<matplotlib.figure.Figure at 0x7f715850f320>"
      ]
     },
     "metadata": {},
     "output_type": "display_data"
    },
    {
     "data": {
      "image/png": "[encoded data removed]",
      "text/plain": [
       "<matplotlib.figure.Figure at 0x7f71412b5d68>"
      ]
     },
     "metadata": {},
     "output_type": "display_data"
    }
   ],
   "source": [
    "plot_history(history)"
   ]
  },
  {
   "cell_type": "markdown",
   "metadata": {
    "hidden": true
   },
   "source": [
    "- These plots are characteristic of overfitting. The training accuracy increases linearly over time, until it reaches nearly 100%, whereas the validation accuracy stalls at 70–72%. The validation loss reaches its minimum after only five epochs and then stalls, whereas the training loss keeps decreasing linearly until it reaches nearly 0.\n",
    "\n",
    "- Because we have relatively few training samples (2,000), overfitting will be our number-one concern. we already know about a number of techniques that can help mitigate overfitting, such as dropout and weight decay (L2 regularization). We’re now going to work with a new one, specific to computer vision and used almost universally when processing images with deep-learning models: data augmentation.\n"
   ]
  },
  {
   "cell_type": "markdown",
   "metadata": {
    "heading_collapsed": true
   },
   "source": [
    "# Data Augmentation"
   ]
  },
  {
   "cell_type": "markdown",
   "metadata": {
    "hidden": true
   },
   "source": [
    "## Setting up a data augmentation configuration via ```ImageDataGenerator```"
   ]
  },
  {
   "cell_type": "code",
   "execution_count": 36,
   "metadata": {
    "hidden": true
   },
   "outputs": [],
   "source": [
    "datagen = ImageDataGenerator(\n",
    "        rotation_range=40,\n",
    "        width_shift_range=0.2,\n",
    "        height_shift_range=0.2,\n",
    "        shear_range=0.2,\n",
    "        zoom_range=0.2,\n",
    "        horizontal_flip=True,\n",
    "        fill_mode='nearest')"
   ]
  },
  {
   "cell_type": "markdown",
   "metadata": {
    "hidden": true
   },
   "source": [
    "## Displaying some randomly augmented training images"
   ]
  },
  {
   "cell_type": "code",
   "execution_count": 38,
   "metadata": {
    "hidden": true
   },
   "outputs": [],
   "source": [
    "fnames = [os.path.join(train_cats_dir, fname) for\n",
    "             fname in os.listdir(train_cats_dir)]"
   ]
  },
  {
   "cell_type": "code",
   "execution_count": 39,
   "metadata": {
    "hidden": true
   },
   "outputs": [],
   "source": [
    "img_path = fnames[3]"
   ]
  },
  {
   "cell_type": "code",
   "execution_count": 40,
   "metadata": {
    "hidden": true
   },
   "outputs": [],
   "source": [
    "from keras.preprocessing import image"
   ]
  },
  {
   "cell_type": "code",
   "execution_count": 41,
   "metadata": {
    "hidden": true
   },
   "outputs": [],
   "source": [
    "img = image.load_img(img_path, target_size=(150, 150))"
   ]
  },
  {
   "cell_type": "code",
   "execution_count": 42,
   "metadata": {
    "hidden": true
   },
   "outputs": [],
   "source": [
    "x = image.img_to_array(img)"
   ]
  },
  {
   "cell_type": "code",
   "execution_count": 43,
   "metadata": {
    "hidden": true
   },
   "outputs": [
    {
     "data": {
      "text/plain": [
       "(150, 150, 3)"
      ]
     },
     "execution_count": 43,
     "metadata": {},
     "output_type": "execute_result"
    }
   ],
   "source": [
    "x.shape"
   ]
  },
  {
   "cell_type": "code",
   "execution_count": 44,
   "metadata": {
    "hidden": true
   },
   "outputs": [],
   "source": [
    "x = x.reshape((1, ) + x.shape)"
   ]
  },
  {
   "cell_type": "code",
   "execution_count": 45,
   "metadata": {
    "hidden": true
   },
   "outputs": [
    {
     "data": {
      "text/plain": [
       "(1, 150, 150, 3)"
      ]
     },
     "execution_count": 45,
     "metadata": {},
     "output_type": "execute_result"
    }
   ],
   "source": [
    "x.shape"
   ]
  },
  {
   "cell_type": "code",
   "execution_count": 48,
   "metadata": {
    "hidden": true
   },
   "outputs": [
    {
     "data": {
      "image/png": "[encoded data removed]",
      "text/plain": [
       "<matplotlib.figure.Figure at 0x7f7140bb1b70>"
      ]
     },
     "metadata": {},
     "output_type": "display_data"
    },
    {
     "data": {
      "image/png": "[encoded data removed]",
      "text/plain": [
       "<matplotlib.figure.Figure at 0x7f7140061e48>"
      ]
     },
     "metadata": {},
     "output_type": "display_data"
    },
    {
     "data": {
      "image/png": "[encoded data removed]",
      "text/plain": [
       "<matplotlib.figure.Figure at 0x7f714034ac50>"
      ]
     },
     "metadata": {},
     "output_type": "display_data"
    },
    {
     "data": {
      "image/png": "[encoded data removed]",
      "text/plain": [
       "<matplotlib.figure.Figure at 0x7f71402f1b70>"
      ]
     },
     "metadata": {},
     "output_type": "display_data"
    }
   ],
   "source": [
    "i = 0\n",
    "for batch in datagen.flow(x, batch_size=1):\n",
    "    #plt.figure(i)\n",
    "    imgplot = plt.imshow(image.array_to_img(batch[0]))\n",
    "    plt.show()\n",
    "    i += 1\n",
    "    if i % 4 == 0:\n",
    "        break\n",
    "    \n"
   ]
  },
  {
   "cell_type": "markdown",
   "metadata": {
    "heading_collapsed": true,
    "hidden": true
   },
   "source": [
    "## Defining a new convnet that includes dropout"
   ]
  },
  {
   "cell_type": "code",
   "execution_count": 49,
   "metadata": {
    "hidden": true
   },
   "outputs": [],
   "source": [
    "model = models.Sequential()\n",
    "model.add(layers.Conv2D(32, (3, 3), activation='relu', input_shape=(150, 150, 3)))\n",
    "model.add(layers.MaxPooling2D((2, 2)))\n",
    "model.add(layers.Conv2D(64, (3, 3), activation='relu'))\n",
    "model.add(layers.MaxPooling2D((2, 2)))\n",
    "model.add(layers.Conv2D(128, (3, 3), activation='relu'))\n",
    "model.add(layers.MaxPooling2D((2, 2)))\n",
    "model.add(layers.Conv2D(128, (3, 3), activation='relu'))\n",
    "model.add(layers.MaxPooling2D((2, 2)))\n",
    "model.add(layers.Flatten())\n",
    "model.add(layers.Dropout(0.5))\n",
    "model.add(layers.Dense(512, activation='relu'))\n",
    "model.add(layers.Dense(1, activation='sigmoid'))\n",
    "model.compile(optimizer=optimizers.RMSprop(lr=1e-4),\n",
    "              loss='binary_crossentropy',\n",
    "              metrics=['acc'])"
   ]
  },
  {
   "cell_type": "markdown",
   "metadata": {
    "heading_collapsed": true,
    "hidden": true
   },
   "source": [
    "## Training the convnet using data-augmentation generators"
   ]
  },
  {
   "cell_type": "code",
   "execution_count": 51,
   "metadata": {
    "hidden": true
   },
   "outputs": [],
   "source": [
    "train_datagen = ImageDataGenerator(\n",
    "        rescale=1./255,\n",
    "        rotation_range=40,\n",
    "        width_shift_range=0.2,\n",
    "        height_shift_range=0.2,\n",
    "        shear_range=0.2,\n",
    "        zoom_range=0.2,\n",
    "        horizontal_flip=True)"
   ]
  },
  {
   "cell_type": "code",
   "execution_count": 52,
   "metadata": {
    "hidden": true
   },
   "outputs": [],
   "source": [
    "test_datagen = ImageDataGenerator(rescale=1./255)"
   ]
  },
  {
   "cell_type": "code",
   "execution_count": 53,
   "metadata": {
    "hidden": true
   },
   "outputs": [
    {
     "name": "stdout",
     "output_type": "stream",
     "text": [
      "Found 2000 images belonging to 2 classes.\n"
     ]
    }
   ],
   "source": [
    "train_generator = train_datagen.flow_from_directory(\n",
    "            train_dir,\n",
    "            target_size=(150, 150),\n",
    "            batch_size = 32,\n",
    "            class_mode = 'binary')"
   ]
  },
  {
   "cell_type": "code",
   "execution_count": 54,
   "metadata": {
    "hidden": true
   },
   "outputs": [
    {
     "name": "stdout",
     "output_type": "stream",
     "text": [
      "Found 1000 images belonging to 2 classes.\n"
     ]
    }
   ],
   "source": [
    "validation_generator = test_datagen.flow_from_directory(\n",
    "            validation_dir,\n",
    "            target_size=(150, 150),\n",
    "            batch_size = 20,\n",
    "            class_mode = 'binary')"
   ]
  },
  {
   "cell_type": "code",
   "execution_count": 55,
   "metadata": {
    "hidden": true
   },
   "outputs": [
    {
     "name": "stdout",
     "output_type": "stream",
     "text": [
      "Epoch 1/100\n",
      "100/100 [==============================] - 54s 541ms/step - loss: 0.6908 - acc: 0.5306 - val_loss: 0.7032 - val_acc: 0.5010\n",
      "Epoch 2/100\n",
      "100/100 [==============================] - 49s 488ms/step - loss: 0.6775 - acc: 0.5703 - val_loss: 0.6517 - val_acc: 0.6140\n",
      "Epoch 3/100\n",
      "100/100 [==============================] - 45s 455ms/step - loss: 0.6673 - acc: 0.6003 - val_loss: 0.6623 - val_acc: 0.5800\n",
      "Epoch 4/100\n",
      "100/100 [==============================] - 47s 472ms/step - loss: 0.6471 - acc: 0.6175 - val_loss: 0.6431 - val_acc: 0.6150\n",
      "Epoch 5/100\n",
      "100/100 [==============================] - 51s 510ms/step - loss: 0.6279 - acc: 0.6366 - val_loss: 0.6142 - val_acc: 0.6610\n",
      "Epoch 6/100\n",
      "100/100 [==============================] - 51s 507ms/step - loss: 0.6166 - acc: 0.6559 - val_loss: 0.5972 - val_acc: 0.6810\n",
      "Epoch 7/100\n",
      "100/100 [==============================] - 50s 504ms/step - loss: 0.6025 - acc: 0.6656 - val_loss: 0.5700 - val_acc: 0.6820\n",
      "Epoch 8/100\n",
      "100/100 [==============================] - 52s 515ms/step - loss: 0.5918 - acc: 0.6828 - val_loss: 0.6512 - val_acc: 0.6530\n",
      "Epoch 9/100\n",
      "100/100 [==============================] - 51s 515ms/step - loss: 0.5768 - acc: 0.7013 - val_loss: 0.5749 - val_acc: 0.6920\n",
      "Epoch 10/100\n",
      "100/100 [==============================] - 51s 513ms/step - loss: 0.5768 - acc: 0.6947 - val_loss: 0.5851 - val_acc: 0.6780\n",
      "Epoch 11/100\n",
      "100/100 [==============================] - 51s 514ms/step - loss: 0.5715 - acc: 0.7084 - val_loss: 0.5294 - val_acc: 0.7210\n",
      "Epoch 12/100\n",
      "100/100 [==============================] - 52s 525ms/step - loss: 0.5675 - acc: 0.7003 - val_loss: 0.5482 - val_acc: 0.7100\n",
      "Epoch 13/100\n",
      "100/100 [==============================] - 50s 496ms/step - loss: 0.5629 - acc: 0.7078 - val_loss: 0.5306 - val_acc: 0.7030\n",
      "Epoch 14/100\n",
      "100/100 [==============================] - 48s 482ms/step - loss: 0.5530 - acc: 0.7134 - val_loss: 0.5172 - val_acc: 0.7300\n",
      "Epoch 15/100\n",
      "100/100 [==============================] - 48s 478ms/step - loss: 0.5536 - acc: 0.7147 - val_loss: 0.5029 - val_acc: 0.7410\n",
      "Epoch 16/100\n",
      "100/100 [==============================] - 48s 479ms/step - loss: 0.5379 - acc: 0.7319 - val_loss: 0.5131 - val_acc: 0.7200\n",
      "Epoch 17/100\n",
      "100/100 [==============================] - 47s 470ms/step - loss: 0.5431 - acc: 0.7300 - val_loss: 0.5216 - val_acc: 0.7400\n",
      "Epoch 18/100\n",
      "100/100 [==============================] - 49s 488ms/step - loss: 0.5392 - acc: 0.7284 - val_loss: 0.5192 - val_acc: 0.7280\n",
      "Epoch 19/100\n",
      "100/100 [==============================] - 48s 482ms/step - loss: 0.5248 - acc: 0.7384 - val_loss: 0.4837 - val_acc: 0.7480\n",
      "Epoch 20/100\n",
      "100/100 [==============================] - 51s 506ms/step - loss: 0.5185 - acc: 0.7453 - val_loss: 0.4997 - val_acc: 0.7560\n",
      "Epoch 21/100\n",
      "100/100 [==============================] - 49s 488ms/step - loss: 0.5229 - acc: 0.7397 - val_loss: 0.4883 - val_acc: 0.7480\n",
      "Epoch 22/100\n",
      "100/100 [==============================] - 48s 477ms/step - loss: 0.5174 - acc: 0.7422 - val_loss: 0.4802 - val_acc: 0.7540\n",
      "Epoch 23/100\n",
      "100/100 [==============================] - 50s 503ms/step - loss: 0.5101 - acc: 0.7516 - val_loss: 0.4653 - val_acc: 0.7860\n",
      "Epoch 24/100\n",
      "100/100 [==============================] - 51s 512ms/step - loss: 0.5075 - acc: 0.7412 - val_loss: 0.7019 - val_acc: 0.6530\n",
      "Epoch 25/100\n",
      "100/100 [==============================] - 53s 533ms/step - loss: 0.5156 - acc: 0.7481 - val_loss: 0.4886 - val_acc: 0.7490\n",
      "Epoch 26/100\n",
      "100/100 [==============================] - 51s 511ms/step - loss: 0.4932 - acc: 0.7563 - val_loss: 0.4649 - val_acc: 0.7640\n",
      "Epoch 27/100\n",
      "100/100 [==============================] - 48s 479ms/step - loss: 0.4991 - acc: 0.7581 - val_loss: 0.4621 - val_acc: 0.7750\n",
      "Epoch 28/100\n",
      "100/100 [==============================] - 47s 466ms/step - loss: 0.5003 - acc: 0.7472 - val_loss: 0.4507 - val_acc: 0.7920\n",
      "Epoch 29/100\n",
      "100/100 [==============================] - 47s 466ms/step - loss: 0.4907 - acc: 0.7572 - val_loss: 0.4513 - val_acc: 0.7770\n",
      "Epoch 30/100\n",
      "100/100 [==============================] - 47s 469ms/step - loss: 0.5035 - acc: 0.7544 - val_loss: 0.4516 - val_acc: 0.7760\n",
      "Epoch 31/100\n",
      "100/100 [==============================] - 46s 465ms/step - loss: 0.4808 - acc: 0.7672 - val_loss: 0.4532 - val_acc: 0.7900\n",
      "Epoch 32/100\n",
      "100/100 [==============================] - 47s 471ms/step - loss: 0.4864 - acc: 0.7631 - val_loss: 0.4698 - val_acc: 0.7620\n",
      "Epoch 33/100\n",
      "100/100 [==============================] - 46s 465ms/step - loss: 0.4698 - acc: 0.7759 - val_loss: 0.5177 - val_acc: 0.7530\n",
      "Epoch 34/100\n",
      "100/100 [==============================] - 47s 469ms/step - loss: 0.4854 - acc: 0.7637 - val_loss: 0.4483 - val_acc: 0.7760\n",
      "Epoch 35/100\n",
      "100/100 [==============================] - 47s 467ms/step - loss: 0.4674 - acc: 0.7709 - val_loss: 0.4580 - val_acc: 0.7710\n",
      "Epoch 36/100\n",
      "100/100 [==============================] - 46s 462ms/step - loss: 0.4733 - acc: 0.7775 - val_loss: 0.4409 - val_acc: 0.7850\n",
      "Epoch 37/100\n",
      "100/100 [==============================] - 46s 462ms/step - loss: 0.4574 - acc: 0.7866 - val_loss: 0.4975 - val_acc: 0.7660\n",
      "Epoch 38/100\n",
      "100/100 [==============================] - 46s 460ms/step - loss: 0.4759 - acc: 0.7741 - val_loss: 0.4242 - val_acc: 0.8070\n",
      "Epoch 39/100\n",
      "100/100 [==============================] - 46s 460ms/step - loss: 0.4555 - acc: 0.7856 - val_loss: 0.4671 - val_acc: 0.7810\n",
      "Epoch 40/100\n",
      "100/100 [==============================] - 46s 459ms/step - loss: 0.4629 - acc: 0.7803 - val_loss: 0.4472 - val_acc: 0.7890\n",
      "Epoch 41/100\n",
      "100/100 [==============================] - 45s 454ms/step - loss: 0.4441 - acc: 0.7941 - val_loss: 0.4290 - val_acc: 0.8030\n",
      "Epoch 42/100\n",
      "100/100 [==============================] - 46s 455ms/step - loss: 0.4513 - acc: 0.7891 - val_loss: 0.4546 - val_acc: 0.7860\n",
      "Epoch 43/100\n",
      "100/100 [==============================] - 46s 457ms/step - loss: 0.4369 - acc: 0.8022 - val_loss: 0.4309 - val_acc: 0.7910\n",
      "Epoch 44/100\n",
      "100/100 [==============================] - 46s 456ms/step - loss: 0.4519 - acc: 0.7872 - val_loss: 0.4171 - val_acc: 0.8110\n",
      "Epoch 45/100\n",
      "100/100 [==============================] - 46s 461ms/step - loss: 0.4505 - acc: 0.7869 - val_loss: 0.4403 - val_acc: 0.7980\n",
      "Epoch 46/100\n",
      "100/100 [==============================] - 46s 463ms/step - loss: 0.4378 - acc: 0.7981 - val_loss: 0.4535 - val_acc: 0.7860\n",
      "Epoch 47/100\n",
      "100/100 [==============================] - 46s 460ms/step - loss: 0.4202 - acc: 0.8072 - val_loss: 0.4267 - val_acc: 0.8110\n",
      "Epoch 48/100\n",
      "100/100 [==============================] - 46s 463ms/step - loss: 0.4419 - acc: 0.7919 - val_loss: 0.4304 - val_acc: 0.8060\n",
      "Epoch 49/100\n",
      "100/100 [==============================] - 46s 462ms/step - loss: 0.4428 - acc: 0.7922 - val_loss: 0.4183 - val_acc: 0.8050\n",
      "Epoch 50/100\n",
      "100/100 [==============================] - 46s 461ms/step - loss: 0.4355 - acc: 0.7962 - val_loss: 0.4172 - val_acc: 0.8080\n",
      "Epoch 51/100\n",
      "100/100 [==============================] - 46s 462ms/step - loss: 0.4375 - acc: 0.7984 - val_loss: 0.4406 - val_acc: 0.7980\n",
      "Epoch 52/100\n",
      "100/100 [==============================] - 46s 458ms/step - loss: 0.4190 - acc: 0.8066 - val_loss: 0.4102 - val_acc: 0.8130\n",
      "Epoch 53/100\n",
      "100/100 [==============================] - 46s 462ms/step - loss: 0.4233 - acc: 0.7988 - val_loss: 0.4378 - val_acc: 0.7810\n",
      "Epoch 54/100\n",
      "100/100 [==============================] - 46s 460ms/step - loss: 0.4184 - acc: 0.8084 - val_loss: 0.4099 - val_acc: 0.8160\n",
      "Epoch 55/100\n",
      "100/100 [==============================] - 46s 462ms/step - loss: 0.4284 - acc: 0.8012 - val_loss: 0.3914 - val_acc: 0.8330\n",
      "Epoch 56/100\n",
      "100/100 [==============================] - 46s 460ms/step - loss: 0.4144 - acc: 0.7984 - val_loss: 0.3941 - val_acc: 0.8280\n",
      "Epoch 57/100\n",
      "100/100 [==============================] - 46s 462ms/step - loss: 0.4197 - acc: 0.8094 - val_loss: 0.4364 - val_acc: 0.7970\n",
      "Epoch 58/100\n",
      "100/100 [==============================] - 46s 465ms/step - loss: 0.4130 - acc: 0.8113 - val_loss: 0.4302 - val_acc: 0.7820\n",
      "Epoch 59/100\n",
      "100/100 [==============================] - 46s 460ms/step - loss: 0.4170 - acc: 0.8106 - val_loss: 0.4024 - val_acc: 0.8220\n",
      "Epoch 60/100\n",
      "100/100 [==============================] - 46s 462ms/step - loss: 0.4018 - acc: 0.8172 - val_loss: 0.5599 - val_acc: 0.7400\n"
     ]
    },
    {
     "name": "stdout",
     "output_type": "stream",
     "text": [
      "Epoch 61/100\n",
      "100/100 [==============================] - 46s 456ms/step - loss: 0.4036 - acc: 0.8084 - val_loss: 0.4252 - val_acc: 0.8010\n",
      "Epoch 62/100\n",
      "100/100 [==============================] - 46s 456ms/step - loss: 0.4010 - acc: 0.8184 - val_loss: 0.3977 - val_acc: 0.8090\n",
      "Epoch 63/100\n",
      "100/100 [==============================] - 46s 458ms/step - loss: 0.4058 - acc: 0.8156 - val_loss: 0.4517 - val_acc: 0.7900\n",
      "Epoch 64/100\n",
      "100/100 [==============================] - 46s 456ms/step - loss: 0.3981 - acc: 0.8125 - val_loss: 0.4459 - val_acc: 0.7860\n",
      "Epoch 65/100\n",
      "100/100 [==============================] - 46s 457ms/step - loss: 0.3999 - acc: 0.8178 - val_loss: 0.3942 - val_acc: 0.8170\n",
      "Epoch 66/100\n",
      "100/100 [==============================] - 46s 461ms/step - loss: 0.3947 - acc: 0.8213 - val_loss: 0.4205 - val_acc: 0.8130\n",
      "Epoch 67/100\n",
      "100/100 [==============================] - 45s 455ms/step - loss: 0.3910 - acc: 0.8228 - val_loss: 0.4043 - val_acc: 0.8130\n",
      "Epoch 68/100\n",
      "100/100 [==============================] - 46s 459ms/step - loss: 0.3924 - acc: 0.8284 - val_loss: 0.3929 - val_acc: 0.8330\n",
      "Epoch 69/100\n",
      "100/100 [==============================] - 46s 457ms/step - loss: 0.3823 - acc: 0.8228 - val_loss: 0.4167 - val_acc: 0.8090\n",
      "Epoch 70/100\n",
      "100/100 [==============================] - 46s 458ms/step - loss: 0.3949 - acc: 0.8219 - val_loss: 0.4274 - val_acc: 0.8240\n",
      "Epoch 71/100\n",
      "100/100 [==============================] - 46s 457ms/step - loss: 0.3914 - acc: 0.8253 - val_loss: 0.4038 - val_acc: 0.8260\n",
      "Epoch 72/100\n",
      "100/100 [==============================] - 46s 465ms/step - loss: 0.3809 - acc: 0.8331 - val_loss: 0.3734 - val_acc: 0.8300\n",
      "Epoch 73/100\n",
      "100/100 [==============================] - 46s 461ms/step - loss: 0.3904 - acc: 0.8197 - val_loss: 0.3921 - val_acc: 0.8280\n",
      "Epoch 74/100\n",
      "100/100 [==============================] - 47s 472ms/step - loss: 0.3888 - acc: 0.8250 - val_loss: 0.4428 - val_acc: 0.7880\n",
      "Epoch 75/100\n",
      "100/100 [==============================] - 47s 466ms/step - loss: 0.3769 - acc: 0.8303 - val_loss: 0.3928 - val_acc: 0.8210\n",
      "Epoch 76/100\n",
      "100/100 [==============================] - 46s 458ms/step - loss: 0.3825 - acc: 0.8256 - val_loss: 0.3641 - val_acc: 0.8360\n",
      "Epoch 77/100\n",
      "100/100 [==============================] - 46s 457ms/step - loss: 0.3737 - acc: 0.8341 - val_loss: 0.3791 - val_acc: 0.8270\n",
      "Epoch 78/100\n",
      "100/100 [==============================] - 46s 455ms/step - loss: 0.3741 - acc: 0.8334 - val_loss: 0.3865 - val_acc: 0.8380\n",
      "Epoch 79/100\n",
      "100/100 [==============================] - 46s 456ms/step - loss: 0.3719 - acc: 0.8366 - val_loss: 0.4178 - val_acc: 0.8260\n",
      "Epoch 80/100\n",
      "100/100 [==============================] - 46s 458ms/step - loss: 0.3694 - acc: 0.8316 - val_loss: 0.3793 - val_acc: 0.8310\n",
      "Epoch 81/100\n",
      "100/100 [==============================] - 46s 457ms/step - loss: 0.3625 - acc: 0.8388 - val_loss: 0.4019 - val_acc: 0.8300\n",
      "Epoch 82/100\n",
      "100/100 [==============================] - 46s 457ms/step - loss: 0.3740 - acc: 0.8263 - val_loss: 0.4005 - val_acc: 0.8130\n",
      "Epoch 83/100\n",
      "100/100 [==============================] - 46s 464ms/step - loss: 0.3632 - acc: 0.8347 - val_loss: 0.4271 - val_acc: 0.8070\n",
      "Epoch 84/100\n",
      "100/100 [==============================] - 46s 463ms/step - loss: 0.3666 - acc: 0.8331 - val_loss: 0.3864 - val_acc: 0.8290\n",
      "Epoch 85/100\n",
      "100/100 [==============================] - 46s 463ms/step - loss: 0.3542 - acc: 0.8434 - val_loss: 0.4240 - val_acc: 0.8100\n",
      "Epoch 86/100\n",
      "100/100 [==============================] - 49s 493ms/step - loss: 0.3542 - acc: 0.8425 - val_loss: 0.4364 - val_acc: 0.8000\n",
      "Epoch 87/100\n",
      "100/100 [==============================] - 48s 478ms/step - loss: 0.3678 - acc: 0.8338 - val_loss: 0.4281 - val_acc: 0.8070\n",
      "Epoch 88/100\n",
      "100/100 [==============================] - 49s 489ms/step - loss: 0.3421 - acc: 0.8531 - val_loss: 0.3947 - val_acc: 0.8310\n",
      "Epoch 89/100\n",
      "100/100 [==============================] - 51s 508ms/step - loss: 0.3416 - acc: 0.8472 - val_loss: 0.4051 - val_acc: 0.8080\n",
      "Epoch 90/100\n",
      "100/100 [==============================] - 46s 462ms/step - loss: 0.3415 - acc: 0.8509 - val_loss: 0.3984 - val_acc: 0.8390\n",
      "Epoch 91/100\n",
      "100/100 [==============================] - 50s 499ms/step - loss: 0.3437 - acc: 0.8506 - val_loss: 0.4121 - val_acc: 0.8080\n",
      "Epoch 92/100\n",
      "100/100 [==============================] - 47s 474ms/step - loss: 0.3572 - acc: 0.8441 - val_loss: 0.4074 - val_acc: 0.8190\n",
      "Epoch 93/100\n",
      "100/100 [==============================] - 47s 468ms/step - loss: 0.3569 - acc: 0.8425 - val_loss: 0.4376 - val_acc: 0.8140\n",
      "Epoch 94/100\n",
      "100/100 [==============================] - 47s 474ms/step - loss: 0.3373 - acc: 0.8506 - val_loss: 0.3712 - val_acc: 0.8350\n",
      "Epoch 95/100\n",
      "100/100 [==============================] - 47s 472ms/step - loss: 0.3377 - acc: 0.8466 - val_loss: 0.3612 - val_acc: 0.8400\n",
      "Epoch 96/100\n",
      "100/100 [==============================] - 48s 478ms/step - loss: 0.3209 - acc: 0.8628 - val_loss: 0.4040 - val_acc: 0.8170\n",
      "Epoch 97/100\n",
      "100/100 [==============================] - 47s 466ms/step - loss: 0.3350 - acc: 0.8528 - val_loss: 0.3980 - val_acc: 0.8200\n",
      "Epoch 98/100\n",
      "100/100 [==============================] - 46s 465ms/step - loss: 0.3447 - acc: 0.8559 - val_loss: 0.3545 - val_acc: 0.8410\n",
      "Epoch 99/100\n",
      "100/100 [==============================] - 47s 467ms/step - loss: 0.3211 - acc: 0.8669 - val_loss: 0.3976 - val_acc: 0.8330\n",
      "Epoch 100/100\n",
      "100/100 [==============================] - 47s 470ms/step - loss: 0.3235 - acc: 0.8628 - val_loss: 0.3654 - val_acc: 0.8350\n",
      "CPU times: user 1h 40min 48s, sys: 9min 17s, total: 1h 50min 6s\n",
      "Wall time: 1h 18min 54s\n"
     ]
    }
   ],
   "source": [
    "%%time \n",
    "history = model.fit_generator(\n",
    "        train_generator,\n",
    "        steps_per_epoch=100,\n",
    "        epochs = 100,\n",
    "        validation_data = validation_generator,\n",
    "        validation_steps = 50)"
   ]
  },
  {
   "cell_type": "markdown",
   "metadata": {
    "heading_collapsed": true,
    "hidden": true
   },
   "source": [
    "## Saving the new model"
   ]
  },
  {
   "cell_type": "code",
   "execution_count": 56,
   "metadata": {
    "hidden": true
   },
   "outputs": [],
   "source": [
    "model.save('cats_and_dogs_small_2.h5')"
   ]
  },
  {
   "cell_type": "markdown",
   "metadata": {
    "heading_collapsed": true,
    "hidden": true
   },
   "source": [
    "## Plot the new results"
   ]
  },
  {
   "cell_type": "code",
   "execution_count": 57,
   "metadata": {
    "hidden": true
   },
   "outputs": [
    {
     "data": {
      "image/png": "[encoded data removed]",
      "text/plain": [
       "<matplotlib.figure.Figure at 0x7f71394e54e0>"
      ]
     },
     "metadata": {},
     "output_type": "display_data"
    },
    {
     "data": {
      "image/png": "[encoded data removed]",
      "text/plain": [
       "<matplotlib.figure.Figure at 0x7f7140025240>"
      ]
     },
     "metadata": {},
     "output_type": "display_data"
    }
   ],
   "source": [
    "plot_history(history)"
   ]
  },
  {
   "cell_type": "markdown",
   "metadata": {
    "hidden": true
   },
   "source": [
    "Thanks to data augmentation and dropout, we are no longer overfitting: the training curves are closely tracking the validation curves. "
   ]
  },
  {
   "cell_type": "markdown",
   "metadata": {},
   "source": [
    "# Using a pretrained convnet"
   ]
  },
  {
   "cell_type": "markdown",
   "metadata": {
    "heading_collapsed": true
   },
   "source": [
    "## Insatiating the VGG16 convolutional base"
   ]
  },
  {
   "cell_type": "code",
   "execution_count": 60,
   "metadata": {
    "hidden": true
   },
   "outputs": [],
   "source": [
    "from keras.applications import VGG16"
   ]
  },
  {
   "cell_type": "code",
   "execution_count": 61,
   "metadata": {
    "hidden": true
   },
   "outputs": [
    {
     "name": "stdout",
     "output_type": "stream",
     "text": [
      "Downloading data from https://github.com/fchollet/deep-learning-models/releases/download/v0.1/vgg16_weights_tf_dim_ordering_tf_kernels_notop.h5\n",
      "58892288/58889256 [==============================] - 6s 0us/step\n"
     ]
    }
   ],
   "source": [
    "conv_base = VGG16(weights='imagenet',\n",
    "                  include_top=False,\n",
    "                  input_shape=(150, 150, 3))"
   ]
  },
  {
   "cell_type": "code",
   "execution_count": 62,
   "metadata": {
    "hidden": true
   },
   "outputs": [
    {
     "name": "stdout",
     "output_type": "stream",
     "text": [
      "_________________________________________________________________\n",
      "Layer (type)                 Output Shape              Param #   \n",
      "=================================================================\n",
      "input_1 (InputLayer)         (None, 150, 150, 3)       0         \n",
      "_________________________________________________________________\n",
      "block1_conv1 (Conv2D)        (None, 150, 150, 64)      1792      \n",
      "_________________________________________________________________\n",
      "block1_conv2 (Conv2D)        (None, 150, 150, 64)      36928     \n",
      "_________________________________________________________________\n",
      "block1_pool (MaxPooling2D)   (None, 75, 75, 64)        0         \n",
      "_________________________________________________________________\n",
      "block2_conv1 (Conv2D)        (None, 75, 75, 128)       73856     \n",
      "_________________________________________________________________\n",
      "block2_conv2 (Conv2D)        (None, 75, 75, 128)       147584    \n",
      "_________________________________________________________________\n",
      "block2_pool (MaxPooling2D)   (None, 37, 37, 128)       0         \n",
      "_________________________________________________________________\n",
      "block3_conv1 (Conv2D)        (None, 37, 37, 256)       295168    \n",
      "_________________________________________________________________\n",
      "block3_conv2 (Conv2D)        (None, 37, 37, 256)       590080    \n",
      "_________________________________________________________________\n",
      "block3_conv3 (Conv2D)        (None, 37, 37, 256)       590080    \n",
      "_________________________________________________________________\n",
      "block3_pool (MaxPooling2D)   (None, 18, 18, 256)       0         \n",
      "_________________________________________________________________\n",
      "block4_conv1 (Conv2D)        (None, 18, 18, 512)       1180160   \n",
      "_________________________________________________________________\n",
      "block4_conv2 (Conv2D)        (None, 18, 18, 512)       2359808   \n",
      "_________________________________________________________________\n",
      "block4_conv3 (Conv2D)        (None, 18, 18, 512)       2359808   \n",
      "_________________________________________________________________\n",
      "block4_pool (MaxPooling2D)   (None, 9, 9, 512)         0         \n",
      "_________________________________________________________________\n",
      "block5_conv1 (Conv2D)        (None, 9, 9, 512)         2359808   \n",
      "_________________________________________________________________\n",
      "block5_conv2 (Conv2D)        (None, 9, 9, 512)         2359808   \n",
      "_________________________________________________________________\n",
      "block5_conv3 (Conv2D)        (None, 9, 9, 512)         2359808   \n",
      "_________________________________________________________________\n",
      "block5_pool (MaxPooling2D)   (None, 4, 4, 512)         0         \n",
      "=================================================================\n",
      "Total params: 14,714,688\n",
      "Trainable params: 14,714,688\n",
      "Non-trainable params: 0\n",
      "_________________________________________________________________\n"
     ]
    }
   ],
   "source": [
    "conv_base.summary()"
   ]
  },
  {
   "cell_type": "markdown",
   "metadata": {
    "hidden": true
   },
   "source": [
    "The final feature map has shape ```(4, 4, 512)```. That is the feature on top of which we will stick a densely connected classifier."
   ]
  },
  {
   "cell_type": "markdown",
   "metadata": {
    "heading_collapsed": true
   },
   "source": [
    "## Technique 1: Fast Feature Extraction without data augmentation"
   ]
  },
  {
   "cell_type": "markdown",
   "metadata": {
    "hidden": true
   },
   "source": [
    "We will start by running instances of the ```ImageDataGenerator``` to extract images as Numpy arrays as well as their labels. We will extract features from these images by calling the ```predict``` method of the ```conv_base``` model."
   ]
  },
  {
   "cell_type": "code",
   "execution_count": 63,
   "metadata": {
    "hidden": true
   },
   "outputs": [],
   "source": [
    "import os \n",
    "import numpy as np"
   ]
  },
  {
   "cell_type": "code",
   "execution_count": 64,
   "metadata": {
    "hidden": true
   },
   "outputs": [
    {
     "data": {
      "text/plain": [
       "'/home/abanihi/Documents/deep-data/kaggle/dogs-vs-cats/cats_and_dogs_small'"
      ]
     },
     "execution_count": 64,
     "metadata": {},
     "output_type": "execute_result"
    }
   ],
   "source": [
    "base_dir"
   ]
  },
  {
   "cell_type": "code",
   "execution_count": 65,
   "metadata": {
    "hidden": true
   },
   "outputs": [
    {
     "data": {
      "text/plain": [
       "'/home/abanihi/Documents/deep-data/kaggle/dogs-vs-cats/cats_and_dogs_small/train'"
      ]
     },
     "execution_count": 65,
     "metadata": {},
     "output_type": "execute_result"
    }
   ],
   "source": [
    "train_dir"
   ]
  },
  {
   "cell_type": "code",
   "execution_count": 66,
   "metadata": {
    "hidden": true
   },
   "outputs": [
    {
     "data": {
      "text/plain": [
       "'/home/abanihi/Documents/deep-data/kaggle/dogs-vs-cats/cats_and_dogs_small/validation'"
      ]
     },
     "execution_count": 66,
     "metadata": {},
     "output_type": "execute_result"
    }
   ],
   "source": [
    "validation_dir"
   ]
  },
  {
   "cell_type": "code",
   "execution_count": 67,
   "metadata": {
    "hidden": true
   },
   "outputs": [
    {
     "data": {
      "text/plain": [
       "'/home/abanihi/Documents/deep-data/kaggle/dogs-vs-cats/cats_and_dogs_small/test'"
      ]
     },
     "execution_count": 67,
     "metadata": {},
     "output_type": "execute_result"
    }
   ],
   "source": [
    "test_dir"
   ]
  },
  {
   "cell_type": "code",
   "execution_count": 68,
   "metadata": {
    "hidden": true
   },
   "outputs": [],
   "source": [
    "datagen = ImageDataGenerator(rescale=1./255)\n",
    "batch_size = 20"
   ]
  },
  {
   "cell_type": "code",
   "execution_count": 69,
   "metadata": {
    "hidden": true
   },
   "outputs": [],
   "source": [
    "def extract_features(directory, sample_count):\n",
    "    features = np.zeros(shape=(sample_count, 4, 4, 512))\n",
    "    labels = np.zeros(shape=(sample_count))\n",
    "    generator = datagen.flow_from_directory(\n",
    "                directory,\n",
    "                target_size=(150, 150),\n",
    "                batch_size = batch_size,\n",
    "                class_mode = 'binary')\n",
    "    \n",
    "    i = 0\n",
    "    for inputs_batch, labels_batch in generator:\n",
    "        features_batch = conv_base.predict(inputs_batch)\n",
    "        features[i * batch_size : (i + 1) * batch_size] = features_batch\n",
    "        labels[i * batch_size : (i + 1) * batch_size] = labels_batch\n",
    "        \n",
    "        i += 1\n",
    "        if i * batch_size >= sample_count:\n",
    "            # Because generators yield data indefinitely in a loop, we must break after every image has been seen once.\n",
    "            break\n",
    "            \n",
    "    return features, labels"
   ]
  },
  {
   "cell_type": "code",
   "execution_count": 70,
   "metadata": {
    "hidden": true
   },
   "outputs": [
    {
     "name": "stdout",
     "output_type": "stream",
     "text": [
      "Found 2000 images belonging to 2 classes.\n"
     ]
    }
   ],
   "source": [
    "train_features, train_labels = extract_features(train_dir, 2000)"
   ]
  },
  {
   "cell_type": "code",
   "execution_count": 79,
   "metadata": {
    "hidden": true
   },
   "outputs": [
    {
     "data": {
      "text/plain": [
       "array([ 1.,  1.,  0.,  0.,  1.])"
      ]
     },
     "execution_count": 79,
     "metadata": {},
     "output_type": "execute_result"
    }
   ],
   "source": [
    "train_labels[:5]"
   ]
  },
  {
   "cell_type": "code",
   "execution_count": 71,
   "metadata": {
    "hidden": true
   },
   "outputs": [
    {
     "name": "stdout",
     "output_type": "stream",
     "text": [
      "Found 1000 images belonging to 2 classes.\n"
     ]
    }
   ],
   "source": [
    "validation_features, validation_labels = extract_features(validation_dir, 1000)"
   ]
  },
  {
   "cell_type": "code",
   "execution_count": 72,
   "metadata": {
    "hidden": true
   },
   "outputs": [
    {
     "name": "stdout",
     "output_type": "stream",
     "text": [
      "Found 1000 images belonging to 2 classes.\n"
     ]
    }
   ],
   "source": [
    "test_features, test_labels = extract_features(test_dir, 1000)"
   ]
  },
  {
   "cell_type": "markdown",
   "metadata": {
    "hidden": true
   },
   "source": [
    "The extracted features are currently of shape ```(samples, 4, 4, 512)```. We will feed them to a densely connected classifier, so first we must flatten them to ```(samples, 8192)```."
   ]
  },
  {
   "cell_type": "code",
   "execution_count": 73,
   "metadata": {
    "hidden": true
   },
   "outputs": [],
   "source": [
    "train_features = np.reshape(train_features, (2000, 4 * 4 * 512))"
   ]
  },
  {
   "cell_type": "code",
   "execution_count": 74,
   "metadata": {
    "hidden": true
   },
   "outputs": [],
   "source": [
    "validation_features = np.reshape(validation_features, (1000, 4 * 4 * 512))"
   ]
  },
  {
   "cell_type": "code",
   "execution_count": 75,
   "metadata": {
    "hidden": true
   },
   "outputs": [],
   "source": [
    "test_features = np.reshape(test_features, (1000, 4 * 4 * 512))"
   ]
  },
  {
   "cell_type": "markdown",
   "metadata": {
    "hidden": true
   },
   "source": [
    "At this point, we can define our densely connected classifier (note the use of dropout for regularization) and train it on the data and labels that we just recorded."
   ]
  },
  {
   "cell_type": "code",
   "execution_count": 76,
   "metadata": {
    "hidden": true
   },
   "outputs": [],
   "source": [
    "model = models.Sequential()\n",
    "model.add(layers.Dense(256, activation='relu', input_dim= 4 * 4 * 512))\n",
    "model.add(layers.Dropout(0.5))\n",
    "model.add(layers.Dense(1, activation='sigmoid'))"
   ]
  },
  {
   "cell_type": "code",
   "execution_count": 78,
   "metadata": {
    "hidden": true
   },
   "outputs": [],
   "source": [
    "model.compile(optimizer=optimizers.RMSprop(lr=2e-5),\n",
    "              loss='binary_crossentropy',\n",
    "              metrics=['acc'])"
   ]
  },
  {
   "cell_type": "code",
   "execution_count": 80,
   "metadata": {
    "hidden": true
   },
   "outputs": [
    {
     "name": "stdout",
     "output_type": "stream",
     "text": [
      "Train on 2000 samples, validate on 1000 samples\n",
      "Epoch 1/30\n",
      "2000/2000 [==============================] - 3s 1ms/step - loss: 0.6165 - acc: 0.6510 - val_loss: 0.4402 - val_acc: 0.8330\n",
      "Epoch 2/30\n",
      "2000/2000 [==============================] - 2s 1ms/step - loss: 0.4236 - acc: 0.8065 - val_loss: 0.3561 - val_acc: 0.8680\n",
      "Epoch 3/30\n",
      "2000/2000 [==============================] - 3s 1ms/step - loss: 0.3566 - acc: 0.8415 - val_loss: 0.3165 - val_acc: 0.8840\n",
      "Epoch 4/30\n",
      "2000/2000 [==============================] - 2s 1ms/step - loss: 0.3156 - acc: 0.8735 - val_loss: 0.2972 - val_acc: 0.8820\n",
      "Epoch 5/30\n",
      "2000/2000 [==============================] - 3s 1ms/step - loss: 0.2904 - acc: 0.8780 - val_loss: 0.2792 - val_acc: 0.8920\n",
      "Epoch 6/30\n",
      "2000/2000 [==============================] - 3s 1ms/step - loss: 0.2632 - acc: 0.8870 - val_loss: 0.2667 - val_acc: 0.9000\n",
      "Epoch 7/30\n",
      "2000/2000 [==============================] - 3s 1ms/step - loss: 0.2488 - acc: 0.9070 - val_loss: 0.2621 - val_acc: 0.9010\n",
      "Epoch 8/30\n",
      "2000/2000 [==============================] - 2s 1ms/step - loss: 0.2230 - acc: 0.9170 - val_loss: 0.2537 - val_acc: 0.9010\n",
      "Epoch 9/30\n",
      "2000/2000 [==============================] - 2s 1ms/step - loss: 0.2132 - acc: 0.9175 - val_loss: 0.2545 - val_acc: 0.8980\n",
      "Epoch 10/30\n",
      "2000/2000 [==============================] - 3s 1ms/step - loss: 0.2096 - acc: 0.9180 - val_loss: 0.2448 - val_acc: 0.9050\n",
      "Epoch 11/30\n",
      "2000/2000 [==============================] - 3s 1ms/step - loss: 0.1929 - acc: 0.9290 - val_loss: 0.2519 - val_acc: 0.8950\n",
      "Epoch 12/30\n",
      "2000/2000 [==============================] - 3s 1ms/step - loss: 0.1917 - acc: 0.9290 - val_loss: 0.2406 - val_acc: 0.9030\n",
      "Epoch 13/30\n",
      "2000/2000 [==============================] - 3s 1ms/step - loss: 0.1809 - acc: 0.9310 - val_loss: 0.2393 - val_acc: 0.9060\n",
      "Epoch 14/30\n",
      "2000/2000 [==============================] - 3s 1ms/step - loss: 0.1716 - acc: 0.9355 - val_loss: 0.2415 - val_acc: 0.9000\n",
      "Epoch 15/30\n",
      "2000/2000 [==============================] - 3s 1ms/step - loss: 0.1644 - acc: 0.9450 - val_loss: 0.2373 - val_acc: 0.9040\n",
      "Epoch 16/30\n",
      "2000/2000 [==============================] - 3s 1ms/step - loss: 0.1535 - acc: 0.9515 - val_loss: 0.2347 - val_acc: 0.9040\n",
      "Epoch 17/30\n",
      "2000/2000 [==============================] - 3s 1ms/step - loss: 0.1473 - acc: 0.9480 - val_loss: 0.2422 - val_acc: 0.9010\n",
      "Epoch 18/30\n",
      "2000/2000 [==============================] - 3s 1ms/step - loss: 0.1415 - acc: 0.9515 - val_loss: 0.2337 - val_acc: 0.9050\n",
      "Epoch 19/30\n",
      "2000/2000 [==============================] - 3s 1ms/step - loss: 0.1335 - acc: 0.9535 - val_loss: 0.2349 - val_acc: 0.9010\n",
      "Epoch 20/30\n",
      "2000/2000 [==============================] - 3s 1ms/step - loss: 0.1332 - acc: 0.9540 - val_loss: 0.2327 - val_acc: 0.9030\n",
      "Epoch 21/30\n",
      "2000/2000 [==============================] - 3s 1ms/step - loss: 0.1284 - acc: 0.9560 - val_loss: 0.2302 - val_acc: 0.8990\n",
      "Epoch 22/30\n",
      "2000/2000 [==============================] - 3s 1ms/step - loss: 0.1201 - acc: 0.9630 - val_loss: 0.2321 - val_acc: 0.9010\n",
      "Epoch 23/30\n",
      "2000/2000 [==============================] - 3s 1ms/step - loss: 0.1170 - acc: 0.9625 - val_loss: 0.2334 - val_acc: 0.9040\n",
      "Epoch 24/30\n",
      "2000/2000 [==============================] - 3s 1ms/step - loss: 0.1132 - acc: 0.9630 - val_loss: 0.2317 - val_acc: 0.9020\n",
      "Epoch 25/30\n",
      "2000/2000 [==============================] - 3s 1ms/step - loss: 0.1087 - acc: 0.9675 - val_loss: 0.2319 - val_acc: 0.9030\n",
      "Epoch 26/30\n",
      "2000/2000 [==============================] - 3s 1ms/step - loss: 0.1005 - acc: 0.9720 - val_loss: 0.2435 - val_acc: 0.8970\n",
      "Epoch 27/30\n",
      "2000/2000 [==============================] - 3s 1ms/step - loss: 0.0987 - acc: 0.9660 - val_loss: 0.2390 - val_acc: 0.8990\n",
      "Epoch 28/30\n",
      "2000/2000 [==============================] - 3s 1ms/step - loss: 0.0949 - acc: 0.9690 - val_loss: 0.2350 - val_acc: 0.8990\n",
      "Epoch 29/30\n",
      "2000/2000 [==============================] - 3s 1ms/step - loss: 0.0931 - acc: 0.9705 - val_loss: 0.2432 - val_acc: 0.8940\n",
      "Epoch 30/30\n",
      "2000/2000 [==============================] - 3s 1ms/step - loss: 0.0882 - acc: 0.9725 - val_loss: 0.2350 - val_acc: 0.9000\n",
      "CPU times: user 1min 7s, sys: 11.8 s, total: 1min 19s\n",
      "Wall time: 1min 16s\n"
     ]
    }
   ],
   "source": [
    "%%time\n",
    "history = model.fit(train_features, train_labels,\n",
    "                    epochs=30,\n",
    "                    batch_size=20,\n",
    "                    validation_data=(validation_features, validation_labels))"
   ]
  },
  {
   "cell_type": "code",
   "execution_count": 83,
   "metadata": {
    "hidden": true
   },
   "outputs": [
    {
     "data": {
      "image/png": "[encoded data removed]",
      "text/plain": [
       "<matplotlib.figure.Figure at 0x7f710a8866d8>"
      ]
     },
     "metadata": {},
     "output_type": "display_data"
    },
    {
     "data": {
      "image/png": "[encoded data removed]",
      "text/plain": [
       "<matplotlib.figure.Figure at 0x7f71402da898>"
      ]
     },
     "metadata": {},
     "output_type": "display_data"
    }
   ],
   "source": [
    "plot_history(history)"
   ]
  },
  {
   "cell_type": "markdown",
   "metadata": {},
   "source": [
    "## Technique 2: Feature Extraction with Data Augmentation"
   ]
  },
  {
   "cell_type": "markdown",
   "metadata": {},
   "source": [
    "Note: This technique is so expensive that you should only attempt it if you have access to a GPU--it is absolutely intractable on CPU."
   ]
  },
  {
   "cell_type": "code",
   "execution_count": 84,
   "metadata": {},
   "outputs": [],
   "source": [
    "model = models.Sequential()\n",
    "model.add(conv_base)\n",
    "model.add(layers.Flatten())\n",
    "model.add(layers.Dense(256, activation='relu'))\n",
    "model.add(layers.Dense(1, activation='sigmoid'))"
   ]
  },
  {
   "cell_type": "code",
   "execution_count": 85,
   "metadata": {},
   "outputs": [
    {
     "name": "stdout",
     "output_type": "stream",
     "text": [
      "_________________________________________________________________\n",
      "Layer (type)                 Output Shape              Param #   \n",
      "=================================================================\n",
      "vgg16 (Model)                (None, 4, 4, 512)         14714688  \n",
      "_________________________________________________________________\n",
      "flatten_3 (Flatten)          (None, 8192)              0         \n",
      "_________________________________________________________________\n",
      "dense_7 (Dense)              (None, 256)               2097408   \n",
      "_________________________________________________________________\n",
      "dense_8 (Dense)              (None, 1)                 257       \n",
      "=================================================================\n",
      "Total params: 16,812,353\n",
      "Trainable params: 16,812,353\n",
      "Non-trainable params: 0\n",
      "_________________________________________________________________\n"
     ]
    }
   ],
   "source": [
    "model.summary()"
   ]
  },
  {
   "cell_type": "markdown",
   "metadata": {},
   "source": [
    "**NOTE**: Before we compile and train the model, it is very important to freeze the convolutional base. **Freezing** a layer or a set of layers means preventing their weights from being updated during training."
   ]
  },
  {
   "cell_type": "code",
   "execution_count": 86,
   "metadata": {},
   "outputs": [
    {
     "name": "stdout",
     "output_type": "stream",
     "text": [
      "This is the number of trainable weights before freezing the conv base:  30\n"
     ]
    }
   ],
   "source": [
    "print('This is the number of trainable weights before freezing the conv base: ', len(model.trainable_weights))"
   ]
  },
  {
   "cell_type": "code",
   "execution_count": 87,
   "metadata": {},
   "outputs": [],
   "source": [
    "conv_base.trainable = False"
   ]
  },
  {
   "cell_type": "code",
   "execution_count": 88,
   "metadata": {},
   "outputs": [
    {
     "name": "stdout",
     "output_type": "stream",
     "text": [
      "This is the number of trainable weights after freezing the conv base:  4\n"
     ]
    }
   ],
   "source": [
    "print('This is the number of trainable weights after freezing the conv base: ', len(model.trainable_weights))"
   ]
  },
  {
   "cell_type": "markdown",
   "metadata": {},
   "source": [
    "### Training the model end to end with a frozen convolutional base"
   ]
  },
  {
   "cell_type": "code",
   "execution_count": 89,
   "metadata": {},
   "outputs": [],
   "source": [
    "train_datagen = ImageDataGenerator(\n",
    "        rescale=1./255,\n",
    "        rotation_range=40,\n",
    "        width_shift_range=0.2,\n",
    "        height_shift_range=0.2,\n",
    "        shear_range=0.2,\n",
    "        zoom_range=0.2,\n",
    "        horizontal_flip=True,\n",
    "        fill_mode='nearest')"
   ]
  },
  {
   "cell_type": "code",
   "execution_count": 90,
   "metadata": {},
   "outputs": [],
   "source": [
    "test_datagen = ImageDataGenerator(rescale=1./255)"
   ]
  },
  {
   "cell_type": "code",
   "execution_count": 91,
   "metadata": {},
   "outputs": [
    {
     "name": "stdout",
     "output_type": "stream",
     "text": [
      "Found 2000 images belonging to 2 classes.\n"
     ]
    }
   ],
   "source": [
    "train_generator = train_datagen.flow_from_directory(\n",
    "            train_dir,\n",
    "            target_size=(150, 150),\n",
    "            batch_size = 20,\n",
    "            class_mode = 'binary')"
   ]
  },
  {
   "cell_type": "code",
   "execution_count": 92,
   "metadata": {},
   "outputs": [
    {
     "name": "stdout",
     "output_type": "stream",
     "text": [
      "Found 1000 images belonging to 2 classes.\n"
     ]
    }
   ],
   "source": [
    "validation_generator = test_datagen.flow_from_directory(\n",
    "            validation_dir,\n",
    "            target_size=(150, 150),\n",
    "            batch_size = 20,\n",
    "            class_mode = 'binary')"
   ]
  },
  {
   "cell_type": "code",
   "execution_count": 93,
   "metadata": {},
   "outputs": [],
   "source": [
    "model.compile(optimizer=optimizers.RMSprop(lr=2e-5),\n",
    "              loss='binary_crossentropy',\n",
    "              metrics=['acc'])"
   ]
  },
  {
   "cell_type": "code",
   "execution_count": 94,
   "metadata": {},
   "outputs": [
    {
     "name": "stdout",
     "output_type": "stream",
     "text": [
      "Epoch 1/30\n",
      "100/100 [==============================] - 295s 3s/step - loss: 0.4654 - acc: 0.7630 - val_loss: 0.3505 - val_acc: 0.8510\n",
      "Epoch 2/30\n",
      "100/100 [==============================] - 286s 3s/step - loss: 0.2913 - acc: 0.8770 - val_loss: 0.1412 - val_acc: 0.9410\n",
      "Epoch 3/30\n",
      "100/100 [==============================] - 286s 3s/step - loss: 0.2246 - acc: 0.9030 - val_loss: 0.1214 - val_acc: 0.9530\n",
      "Epoch 4/30\n",
      "100/100 [==============================] - 286s 3s/step - loss: 0.2020 - acc: 0.9165 - val_loss: 0.1437 - val_acc: 0.9390\n",
      "Epoch 5/30\n",
      "100/100 [==============================] - 286s 3s/step - loss: 0.1690 - acc: 0.9285 - val_loss: 0.0849 - val_acc: 0.9640\n",
      "Epoch 6/30\n",
      "100/100 [==============================] - 286s 3s/step - loss: 0.1352 - acc: 0.9470 - val_loss: 0.1237 - val_acc: 0.9390\n",
      "Epoch 7/30\n",
      "100/100 [==============================] - 286s 3s/step - loss: 0.1267 - acc: 0.9495 - val_loss: 0.0825 - val_acc: 0.9610\n",
      "Epoch 8/30\n",
      "100/100 [==============================] - 286s 3s/step - loss: 0.1143 - acc: 0.9510 - val_loss: 0.0954 - val_acc: 0.9550\n",
      "Epoch 9/30\n",
      "100/100 [==============================] - 287s 3s/step - loss: 0.1071 - acc: 0.9645 - val_loss: 0.1294 - val_acc: 0.9430\n",
      "Epoch 10/30\n",
      "100/100 [==============================] - 286s 3s/step - loss: 0.0911 - acc: 0.9620 - val_loss: 0.0805 - val_acc: 0.9660\n",
      "Epoch 11/30\n",
      "100/100 [==============================] - 287s 3s/step - loss: 0.0897 - acc: 0.9645 - val_loss: 0.0716 - val_acc: 0.9700\n",
      "Epoch 12/30\n",
      " 99/100 [============================>.] - ETA: 2s - loss: 0.0932 - acc: 0.9657"
     ]
    },
    {
     "ename": "KeyboardInterrupt",
     "evalue": "",
     "output_type": "error",
     "traceback": [
      "\u001b[0;31m---------------------------------------------------------------------------\u001b[0m",
      "\u001b[0;31mKeyboardInterrupt\u001b[0m                         Traceback (most recent call last)",
      "\u001b[0;32m<timed exec>\u001b[0m in \u001b[0;36m<module>\u001b[0;34m()\u001b[0m\n",
      "\u001b[0;32m~/anaconda3/envs/dl-gpu/lib/python3.6/site-packages/keras/legacy/interfaces.py\u001b[0m in \u001b[0;36mwrapper\u001b[0;34m(*args, **kwargs)\u001b[0m\n\u001b[1;32m     85\u001b[0m                 warnings.warn('Update your `' + object_name +\n\u001b[1;32m     86\u001b[0m                               '` call to the Keras 2 API: ' + signature, stacklevel=2)\n\u001b[0;32m---> 87\u001b[0;31m             \u001b[0;32mreturn\u001b[0m \u001b[0mfunc\u001b[0m\u001b[0;34m(\u001b[0m\u001b[0;34m*\u001b[0m\u001b[0margs\u001b[0m\u001b[0;34m,\u001b[0m \u001b[0;34m**\u001b[0m\u001b[0mkwargs\u001b[0m\u001b[0;34m)\u001b[0m\u001b[0;34m\u001b[0m\u001b[0m\n\u001b[0m\u001b[1;32m     88\u001b[0m         \u001b[0mwrapper\u001b[0m\u001b[0;34m.\u001b[0m\u001b[0m_original_function\u001b[0m \u001b[0;34m=\u001b[0m \u001b[0mfunc\u001b[0m\u001b[0;34m\u001b[0m\u001b[0m\n\u001b[1;32m     89\u001b[0m         \u001b[0;32mreturn\u001b[0m \u001b[0mwrapper\u001b[0m\u001b[0;34m\u001b[0m\u001b[0m\n",
      "\u001b[0;32m~/anaconda3/envs/dl-gpu/lib/python3.6/site-packages/keras/models.py\u001b[0m in \u001b[0;36mfit_generator\u001b[0;34m(self, generator, steps_per_epoch, epochs, verbose, callbacks, validation_data, validation_steps, class_weight, max_queue_size, workers, use_multiprocessing, shuffle, initial_epoch)\u001b[0m\n\u001b[1;32m   1154\u001b[0m                                         \u001b[0muse_multiprocessing\u001b[0m\u001b[0;34m=\u001b[0m\u001b[0muse_multiprocessing\u001b[0m\u001b[0;34m,\u001b[0m\u001b[0;34m\u001b[0m\u001b[0m\n\u001b[1;32m   1155\u001b[0m                                         \u001b[0mshuffle\u001b[0m\u001b[0;34m=\u001b[0m\u001b[0mshuffle\u001b[0m\u001b[0;34m,\u001b[0m\u001b[0;34m\u001b[0m\u001b[0m\n\u001b[0;32m-> 1156\u001b[0;31m                                         initial_epoch=initial_epoch)\n\u001b[0m\u001b[1;32m   1157\u001b[0m \u001b[0;34m\u001b[0m\u001b[0m\n\u001b[1;32m   1158\u001b[0m     \u001b[0;34m@\u001b[0m\u001b[0minterfaces\u001b[0m\u001b[0;34m.\u001b[0m\u001b[0mlegacy_generator_methods_support\u001b[0m\u001b[0;34m\u001b[0m\u001b[0m\n",
      "\u001b[0;32m~/anaconda3/envs/dl-gpu/lib/python3.6/site-packages/keras/legacy/interfaces.py\u001b[0m in \u001b[0;36mwrapper\u001b[0;34m(*args, **kwargs)\u001b[0m\n\u001b[1;32m     85\u001b[0m                 warnings.warn('Update your `' + object_name +\n\u001b[1;32m     86\u001b[0m                               '` call to the Keras 2 API: ' + signature, stacklevel=2)\n\u001b[0;32m---> 87\u001b[0;31m             \u001b[0;32mreturn\u001b[0m \u001b[0mfunc\u001b[0m\u001b[0;34m(\u001b[0m\u001b[0;34m*\u001b[0m\u001b[0margs\u001b[0m\u001b[0;34m,\u001b[0m \u001b[0;34m**\u001b[0m\u001b[0mkwargs\u001b[0m\u001b[0;34m)\u001b[0m\u001b[0;34m\u001b[0m\u001b[0m\n\u001b[0m\u001b[1;32m     88\u001b[0m         \u001b[0mwrapper\u001b[0m\u001b[0;34m.\u001b[0m\u001b[0m_original_function\u001b[0m \u001b[0;34m=\u001b[0m \u001b[0mfunc\u001b[0m\u001b[0;34m\u001b[0m\u001b[0m\n\u001b[1;32m     89\u001b[0m         \u001b[0;32mreturn\u001b[0m \u001b[0mwrapper\u001b[0m\u001b[0;34m\u001b[0m\u001b[0m\n",
      "\u001b[0;32m~/anaconda3/envs/dl-gpu/lib/python3.6/site-packages/keras/engine/training.py\u001b[0m in \u001b[0;36mfit_generator\u001b[0;34m(self, generator, steps_per_epoch, epochs, verbose, callbacks, validation_data, validation_steps, class_weight, max_queue_size, workers, use_multiprocessing, shuffle, initial_epoch)\u001b[0m\n\u001b[1;32m   2097\u001b[0m                                 \u001b[0mmax_queue_size\u001b[0m\u001b[0;34m=\u001b[0m\u001b[0mmax_queue_size\u001b[0m\u001b[0;34m,\u001b[0m\u001b[0;34m\u001b[0m\u001b[0m\n\u001b[1;32m   2098\u001b[0m                                 \u001b[0mworkers\u001b[0m\u001b[0;34m=\u001b[0m\u001b[0mworkers\u001b[0m\u001b[0;34m,\u001b[0m\u001b[0;34m\u001b[0m\u001b[0m\n\u001b[0;32m-> 2099\u001b[0;31m                                 use_multiprocessing=use_multiprocessing)\n\u001b[0m\u001b[1;32m   2100\u001b[0m                         \u001b[0;32melse\u001b[0m\u001b[0;34m:\u001b[0m\u001b[0;34m\u001b[0m\u001b[0m\n\u001b[1;32m   2101\u001b[0m                             \u001b[0;31m# No need for try/except because\u001b[0m\u001b[0;34m\u001b[0m\u001b[0;34m\u001b[0m\u001b[0m\n",
      "\u001b[0;32m~/anaconda3/envs/dl-gpu/lib/python3.6/site-packages/keras/legacy/interfaces.py\u001b[0m in \u001b[0;36mwrapper\u001b[0;34m(*args, **kwargs)\u001b[0m\n\u001b[1;32m     85\u001b[0m                 warnings.warn('Update your `' + object_name +\n\u001b[1;32m     86\u001b[0m                               '` call to the Keras 2 API: ' + signature, stacklevel=2)\n\u001b[0;32m---> 87\u001b[0;31m             \u001b[0;32mreturn\u001b[0m \u001b[0mfunc\u001b[0m\u001b[0;34m(\u001b[0m\u001b[0;34m*\u001b[0m\u001b[0margs\u001b[0m\u001b[0;34m,\u001b[0m \u001b[0;34m**\u001b[0m\u001b[0mkwargs\u001b[0m\u001b[0;34m)\u001b[0m\u001b[0;34m\u001b[0m\u001b[0m\n\u001b[0m\u001b[1;32m     88\u001b[0m         \u001b[0mwrapper\u001b[0m\u001b[0;34m.\u001b[0m\u001b[0m_original_function\u001b[0m \u001b[0;34m=\u001b[0m \u001b[0mfunc\u001b[0m\u001b[0;34m\u001b[0m\u001b[0m\n\u001b[1;32m     89\u001b[0m         \u001b[0;32mreturn\u001b[0m \u001b[0mwrapper\u001b[0m\u001b[0;34m\u001b[0m\u001b[0m\n",
      "\u001b[0;32m~/anaconda3/envs/dl-gpu/lib/python3.6/site-packages/keras/engine/training.py\u001b[0m in \u001b[0;36mevaluate_generator\u001b[0;34m(self, generator, steps, max_queue_size, workers, use_multiprocessing)\u001b[0m\n\u001b[1;32m   2209\u001b[0m                                      \u001b[0;34m'or (x, y). Found: '\u001b[0m \u001b[0;34m+\u001b[0m\u001b[0;34m\u001b[0m\u001b[0m\n\u001b[1;32m   2210\u001b[0m                                      str(generator_output))\n\u001b[0;32m-> 2211\u001b[0;31m                 \u001b[0mouts\u001b[0m \u001b[0;34m=\u001b[0m \u001b[0mself\u001b[0m\u001b[0;34m.\u001b[0m\u001b[0mtest_on_batch\u001b[0m\u001b[0;34m(\u001b[0m\u001b[0mx\u001b[0m\u001b[0;34m,\u001b[0m \u001b[0my\u001b[0m\u001b[0;34m,\u001b[0m \u001b[0msample_weight\u001b[0m\u001b[0;34m=\u001b[0m\u001b[0msample_weight\u001b[0m\u001b[0;34m)\u001b[0m\u001b[0;34m\u001b[0m\u001b[0m\n\u001b[0m\u001b[1;32m   2212\u001b[0m \u001b[0;34m\u001b[0m\u001b[0m\n\u001b[1;32m   2213\u001b[0m                 \u001b[0;32mif\u001b[0m \u001b[0misinstance\u001b[0m\u001b[0;34m(\u001b[0m\u001b[0mx\u001b[0m\u001b[0;34m,\u001b[0m \u001b[0mlist\u001b[0m\u001b[0;34m)\u001b[0m\u001b[0;34m:\u001b[0m\u001b[0;34m\u001b[0m\u001b[0m\n",
      "\u001b[0;32m~/anaconda3/envs/dl-gpu/lib/python3.6/site-packages/keras/engine/training.py\u001b[0m in \u001b[0;36mtest_on_batch\u001b[0;34m(self, x, y, sample_weight)\u001b[0m\n\u001b[1;32m   1837\u001b[0m             \u001b[0mins\u001b[0m \u001b[0;34m=\u001b[0m \u001b[0mx\u001b[0m \u001b[0;34m+\u001b[0m \u001b[0my\u001b[0m \u001b[0;34m+\u001b[0m \u001b[0msample_weights\u001b[0m\u001b[0;34m\u001b[0m\u001b[0m\n\u001b[1;32m   1838\u001b[0m         \u001b[0mself\u001b[0m\u001b[0;34m.\u001b[0m\u001b[0m_make_test_function\u001b[0m\u001b[0;34m(\u001b[0m\u001b[0;34m)\u001b[0m\u001b[0;34m\u001b[0m\u001b[0m\n\u001b[0;32m-> 1839\u001b[0;31m         \u001b[0moutputs\u001b[0m \u001b[0;34m=\u001b[0m \u001b[0mself\u001b[0m\u001b[0;34m.\u001b[0m\u001b[0mtest_function\u001b[0m\u001b[0;34m(\u001b[0m\u001b[0mins\u001b[0m\u001b[0;34m)\u001b[0m\u001b[0;34m\u001b[0m\u001b[0m\n\u001b[0m\u001b[1;32m   1840\u001b[0m         \u001b[0;32mif\u001b[0m \u001b[0mlen\u001b[0m\u001b[0;34m(\u001b[0m\u001b[0moutputs\u001b[0m\u001b[0;34m)\u001b[0m \u001b[0;34m==\u001b[0m \u001b[0;36m1\u001b[0m\u001b[0;34m:\u001b[0m\u001b[0;34m\u001b[0m\u001b[0m\n\u001b[1;32m   1841\u001b[0m             \u001b[0;32mreturn\u001b[0m \u001b[0moutputs\u001b[0m\u001b[0;34m[\u001b[0m\u001b[0;36m0\u001b[0m\u001b[0;34m]\u001b[0m\u001b[0;34m\u001b[0m\u001b[0m\n",
      "\u001b[0;32m~/anaconda3/envs/dl-gpu/lib/python3.6/site-packages/keras/backend/tensorflow_backend.py\u001b[0m in \u001b[0;36m__call__\u001b[0;34m(self, inputs)\u001b[0m\n\u001b[1;32m   2330\u001b[0m         updated = session.run(self.outputs + [self.updates_op],\n\u001b[1;32m   2331\u001b[0m                               \u001b[0mfeed_dict\u001b[0m\u001b[0;34m=\u001b[0m\u001b[0mfeed_dict\u001b[0m\u001b[0;34m,\u001b[0m\u001b[0;34m\u001b[0m\u001b[0m\n\u001b[0;32m-> 2332\u001b[0;31m                               **self.session_kwargs)\n\u001b[0m\u001b[1;32m   2333\u001b[0m         \u001b[0;32mreturn\u001b[0m \u001b[0mupdated\u001b[0m\u001b[0;34m[\u001b[0m\u001b[0;34m:\u001b[0m\u001b[0mlen\u001b[0m\u001b[0;34m(\u001b[0m\u001b[0mself\u001b[0m\u001b[0;34m.\u001b[0m\u001b[0moutputs\u001b[0m\u001b[0;34m)\u001b[0m\u001b[0;34m]\u001b[0m\u001b[0;34m\u001b[0m\u001b[0m\n\u001b[1;32m   2334\u001b[0m \u001b[0;34m\u001b[0m\u001b[0m\n",
      "\u001b[0;32m~/anaconda3/envs/dl-gpu/lib/python3.6/site-packages/tensorflow/python/client/session.py\u001b[0m in \u001b[0;36mrun\u001b[0;34m(self, fetches, feed_dict, options, run_metadata)\u001b[0m\n\u001b[1;32m    893\u001b[0m     \u001b[0;32mtry\u001b[0m\u001b[0;34m:\u001b[0m\u001b[0;34m\u001b[0m\u001b[0m\n\u001b[1;32m    894\u001b[0m       result = self._run(None, fetches, feed_dict, options_ptr,\n\u001b[0;32m--> 895\u001b[0;31m                          run_metadata_ptr)\n\u001b[0m\u001b[1;32m    896\u001b[0m       \u001b[0;32mif\u001b[0m \u001b[0mrun_metadata\u001b[0m\u001b[0;34m:\u001b[0m\u001b[0;34m\u001b[0m\u001b[0m\n\u001b[1;32m    897\u001b[0m         \u001b[0mproto_data\u001b[0m \u001b[0;34m=\u001b[0m \u001b[0mtf_session\u001b[0m\u001b[0;34m.\u001b[0m\u001b[0mTF_GetBuffer\u001b[0m\u001b[0;34m(\u001b[0m\u001b[0mrun_metadata_ptr\u001b[0m\u001b[0;34m)\u001b[0m\u001b[0;34m\u001b[0m\u001b[0m\n",
      "\u001b[0;32m~/anaconda3/envs/dl-gpu/lib/python3.6/site-packages/tensorflow/python/client/session.py\u001b[0m in \u001b[0;36m_run\u001b[0;34m(self, handle, fetches, feed_dict, options, run_metadata)\u001b[0m\n\u001b[1;32m   1122\u001b[0m     \u001b[0;32mif\u001b[0m \u001b[0mfinal_fetches\u001b[0m \u001b[0;32mor\u001b[0m \u001b[0mfinal_targets\u001b[0m \u001b[0;32mor\u001b[0m \u001b[0;34m(\u001b[0m\u001b[0mhandle\u001b[0m \u001b[0;32mand\u001b[0m \u001b[0mfeed_dict_tensor\u001b[0m\u001b[0;34m)\u001b[0m\u001b[0;34m:\u001b[0m\u001b[0;34m\u001b[0m\u001b[0m\n\u001b[1;32m   1123\u001b[0m       results = self._do_run(handle, final_targets, final_fetches,\n\u001b[0;32m-> 1124\u001b[0;31m                              feed_dict_tensor, options, run_metadata)\n\u001b[0m\u001b[1;32m   1125\u001b[0m     \u001b[0;32melse\u001b[0m\u001b[0;34m:\u001b[0m\u001b[0;34m\u001b[0m\u001b[0m\n\u001b[1;32m   1126\u001b[0m       \u001b[0mresults\u001b[0m \u001b[0;34m=\u001b[0m \u001b[0;34m[\u001b[0m\u001b[0;34m]\u001b[0m\u001b[0;34m\u001b[0m\u001b[0m\n",
      "\u001b[0;32m~/anaconda3/envs/dl-gpu/lib/python3.6/site-packages/tensorflow/python/client/session.py\u001b[0m in \u001b[0;36m_do_run\u001b[0;34m(self, handle, target_list, fetch_list, feed_dict, options, run_metadata)\u001b[0m\n\u001b[1;32m   1319\u001b[0m     \u001b[0;32mif\u001b[0m \u001b[0mhandle\u001b[0m \u001b[0;32mis\u001b[0m \u001b[0;32mNone\u001b[0m\u001b[0;34m:\u001b[0m\u001b[0;34m\u001b[0m\u001b[0m\n\u001b[1;32m   1320\u001b[0m       return self._do_call(_run_fn, self._session, feeds, fetches, targets,\n\u001b[0;32m-> 1321\u001b[0;31m                            options, run_metadata)\n\u001b[0m\u001b[1;32m   1322\u001b[0m     \u001b[0;32melse\u001b[0m\u001b[0;34m:\u001b[0m\u001b[0;34m\u001b[0m\u001b[0m\n\u001b[1;32m   1323\u001b[0m       \u001b[0;32mreturn\u001b[0m \u001b[0mself\u001b[0m\u001b[0;34m.\u001b[0m\u001b[0m_do_call\u001b[0m\u001b[0;34m(\u001b[0m\u001b[0m_prun_fn\u001b[0m\u001b[0;34m,\u001b[0m \u001b[0mself\u001b[0m\u001b[0;34m.\u001b[0m\u001b[0m_session\u001b[0m\u001b[0;34m,\u001b[0m \u001b[0mhandle\u001b[0m\u001b[0;34m,\u001b[0m \u001b[0mfeeds\u001b[0m\u001b[0;34m,\u001b[0m \u001b[0mfetches\u001b[0m\u001b[0;34m)\u001b[0m\u001b[0;34m\u001b[0m\u001b[0m\n",
      "\u001b[0;32m~/anaconda3/envs/dl-gpu/lib/python3.6/site-packages/tensorflow/python/client/session.py\u001b[0m in \u001b[0;36m_do_call\u001b[0;34m(self, fn, *args)\u001b[0m\n\u001b[1;32m   1325\u001b[0m   \u001b[0;32mdef\u001b[0m \u001b[0m_do_call\u001b[0m\u001b[0;34m(\u001b[0m\u001b[0mself\u001b[0m\u001b[0;34m,\u001b[0m \u001b[0mfn\u001b[0m\u001b[0;34m,\u001b[0m \u001b[0;34m*\u001b[0m\u001b[0margs\u001b[0m\u001b[0;34m)\u001b[0m\u001b[0;34m:\u001b[0m\u001b[0;34m\u001b[0m\u001b[0m\n\u001b[1;32m   1326\u001b[0m     \u001b[0;32mtry\u001b[0m\u001b[0;34m:\u001b[0m\u001b[0;34m\u001b[0m\u001b[0m\n\u001b[0;32m-> 1327\u001b[0;31m       \u001b[0;32mreturn\u001b[0m \u001b[0mfn\u001b[0m\u001b[0;34m(\u001b[0m\u001b[0;34m*\u001b[0m\u001b[0margs\u001b[0m\u001b[0;34m)\u001b[0m\u001b[0;34m\u001b[0m\u001b[0m\n\u001b[0m\u001b[1;32m   1328\u001b[0m     \u001b[0;32mexcept\u001b[0m \u001b[0merrors\u001b[0m\u001b[0;34m.\u001b[0m\u001b[0mOpError\u001b[0m \u001b[0;32mas\u001b[0m \u001b[0me\u001b[0m\u001b[0;34m:\u001b[0m\u001b[0;34m\u001b[0m\u001b[0m\n\u001b[1;32m   1329\u001b[0m       \u001b[0mmessage\u001b[0m \u001b[0;34m=\u001b[0m \u001b[0mcompat\u001b[0m\u001b[0;34m.\u001b[0m\u001b[0mas_text\u001b[0m\u001b[0;34m(\u001b[0m\u001b[0me\u001b[0m\u001b[0;34m.\u001b[0m\u001b[0mmessage\u001b[0m\u001b[0;34m)\u001b[0m\u001b[0;34m\u001b[0m\u001b[0m\n",
      "\u001b[0;32m~/anaconda3/envs/dl-gpu/lib/python3.6/site-packages/tensorflow/python/client/session.py\u001b[0m in \u001b[0;36m_run_fn\u001b[0;34m(session, feed_dict, fetch_list, target_list, options, run_metadata)\u001b[0m\n\u001b[1;32m   1304\u001b[0m           return tf_session.TF_Run(session, options,\n\u001b[1;32m   1305\u001b[0m                                    \u001b[0mfeed_dict\u001b[0m\u001b[0;34m,\u001b[0m \u001b[0mfetch_list\u001b[0m\u001b[0;34m,\u001b[0m \u001b[0mtarget_list\u001b[0m\u001b[0;34m,\u001b[0m\u001b[0;34m\u001b[0m\u001b[0m\n\u001b[0;32m-> 1306\u001b[0;31m                                    status, run_metadata)\n\u001b[0m\u001b[1;32m   1307\u001b[0m \u001b[0;34m\u001b[0m\u001b[0m\n\u001b[1;32m   1308\u001b[0m     \u001b[0;32mdef\u001b[0m \u001b[0m_prun_fn\u001b[0m\u001b[0;34m(\u001b[0m\u001b[0msession\u001b[0m\u001b[0;34m,\u001b[0m \u001b[0mhandle\u001b[0m\u001b[0;34m,\u001b[0m \u001b[0mfeed_dict\u001b[0m\u001b[0;34m,\u001b[0m \u001b[0mfetch_list\u001b[0m\u001b[0;34m)\u001b[0m\u001b[0;34m:\u001b[0m\u001b[0;34m\u001b[0m\u001b[0m\n",
      "\u001b[0;31mKeyboardInterrupt\u001b[0m: "
     ]
    }
   ],
   "source": [
    "%%time\n",
    "history = model.fit_generator(\n",
    "            train_generator,\n",
    "            steps_per_epoch=100,\n",
    "            epochs=30,\n",
    "            validation_data = validation_generator,\n",
    "            validation_steps=50)"
   ]
  },
  {
   "cell_type": "code",
   "execution_count": null,
   "metadata": {},
   "outputs": [],
   "source": []
  }
 ],
 "metadata": {
  "kernelspec": {
   "display_name": "Python [conda env:dl-gpu]",
   "language": "python",
   "name": "conda-env-dl-gpu-py"
  },
  "language_info": {
   "codemirror_mode": {
    "name": "ipython",
    "version": 3
   },
   "file_extension": ".py",
   "mimetype": "text/x-python",
   "name": "python",
   "nbconvert_exporter": "python",
   "pygments_lexer": "ipython3",
   "version": "3.6.3"
  },
  "toc": {
   "nav_menu": {},
   "number_sections": true,
   "sideBar": true,
   "skip_h1_title": false,
   "toc_cell": true,
   "toc_position": {},
   "toc_section_display": "block",
   "toc_window_display": false
  }
 },
 "nbformat": 4,
 "nbformat_minor": 2
}
