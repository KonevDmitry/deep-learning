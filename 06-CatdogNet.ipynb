{
 "cells": [
  {
   "cell_type": "markdown",
   "metadata": {
    "toc": true
   },
   "source": [
    "<h1>Table of Contents<span class=\"tocSkip\"></span></h1>\n",
    "<div class=\"toc\" style=\"margin-top: 1em;\"><ul class=\"toc-item\"><li><span><a href=\"#Loading-the-data\" data-toc-modified-id=\"Loading-the-data-1\"><span class=\"toc-item-num\">1&nbsp;&nbsp;</span>Loading the data</a></span><ul class=\"toc-item\"><li><span><a href=\"#Copying-images-to-training,-validation,-and-test-directories\" data-toc-modified-id=\"Copying-images-to-training,-validation,-and-test-directories-1.1\"><span class=\"toc-item-num\">1.1&nbsp;&nbsp;</span>Copying images to training, validation, and test directories</a></span></li></ul></li><li><span><a href=\"#Building-the-network\" data-toc-modified-id=\"Building-the-network-2\"><span class=\"toc-item-num\">2&nbsp;&nbsp;</span>Building the network</a></span><ul class=\"toc-item\"><li><span><a href=\"#Configuring-the-model-for-training\" data-toc-modified-id=\"Configuring-the-model-for-training-2.1\"><span class=\"toc-item-num\">2.1&nbsp;&nbsp;</span>Configuring the model for training</a></span></li></ul></li><li><span><a href=\"#Data-Preprocessing\" data-toc-modified-id=\"Data-Preprocessing-3\"><span class=\"toc-item-num\">3&nbsp;&nbsp;</span>Data Preprocessing</a></span><ul class=\"toc-item\"><li><span><a href=\"#Using-ImageDataGenerator-to-read-images-from-directories\" data-toc-modified-id=\"Using-ImageDataGenerator-to-read-images-from-directories-3.1\"><span class=\"toc-item-num\">3.1&nbsp;&nbsp;</span>Using <code>ImageDataGenerator</code> to read images from directories</a></span></li><li><span><a href=\"#Fitting-the-model-using-a-batch-generator\" data-toc-modified-id=\"Fitting-the-model-using-a-batch-generator-3.2\"><span class=\"toc-item-num\">3.2&nbsp;&nbsp;</span>Fitting the model using a batch generator</a></span></li><li><span><a href=\"#Saving-the-model\" data-toc-modified-id=\"Saving-the-model-3.3\"><span class=\"toc-item-num\">3.3&nbsp;&nbsp;</span>Saving the model</a></span></li></ul></li><li><span><a href=\"#Displaying-curves-of-loss-and-accuracy-during-training\" data-toc-modified-id=\"Displaying-curves-of-loss-and-accuracy-during-training-4\"><span class=\"toc-item-num\">4&nbsp;&nbsp;</span>Displaying curves of loss and accuracy during training</a></span></li></ul></div>"
   ]
  },
  {
   "cell_type": "markdown",
   "metadata": {},
   "source": [
    "# Loading the data"
   ]
  },
  {
   "cell_type": "markdown",
   "metadata": {},
   "source": [
    "## Copying images to training, validation, and test directories "
   ]
  },
  {
   "cell_type": "code",
   "execution_count": 33,
   "metadata": {},
   "outputs": [],
   "source": [
    "import os, shutil"
   ]
  },
  {
   "cell_type": "code",
   "execution_count": 34,
   "metadata": {},
   "outputs": [],
   "source": [
    "original_dataset_dir  = '/home/abanihi/Documents/deep-data/kaggle/dogs-vs-cats/train/'"
   ]
  },
  {
   "cell_type": "code",
   "execution_count": 35,
   "metadata": {},
   "outputs": [],
   "source": [
    "base_dir = '/home/abanihi/Documents/deep-data/kaggle/dogs-vs-cats/cats_and_dogs_small'\n",
    "os.mkdir(base_dir)"
   ]
  },
  {
   "cell_type": "code",
   "execution_count": 36,
   "metadata": {},
   "outputs": [],
   "source": [
    "train_dir = os.path.join(base_dir, 'train')\n",
    "os.mkdir(train_dir)\n",
    "validation_dir = os.path.join(base_dir, 'validation')\n",
    "os.mkdir(validation_dir)\n",
    "test_dir = os.path.join(base_dir, 'test')\n",
    "os.mkdir(test_dir)"
   ]
  },
  {
   "cell_type": "code",
   "execution_count": 37,
   "metadata": {},
   "outputs": [],
   "source": [
    "train_cats_dir = os.path.join(train_dir, 'cats')\n",
    "os.mkdir(train_cats_dir)"
   ]
  },
  {
   "cell_type": "code",
   "execution_count": 38,
   "metadata": {},
   "outputs": [],
   "source": [
    "train_dogs_dir = os.path.join(train_dir, 'dogs')\n",
    "os.mkdir(train_dogs_dir)"
   ]
  },
  {
   "cell_type": "code",
   "execution_count": 39,
   "metadata": {},
   "outputs": [],
   "source": [
    "test_cats_dir = os.path.join(test_dir, 'cats')\n",
    "os.mkdir(test_cats_dir)\n",
    "test_dogs_dir = os.path.join(test_dir, 'dogs')\n",
    "os.mkdir(test_dogs_dir)"
   ]
  },
  {
   "cell_type": "code",
   "execution_count": 40,
   "metadata": {},
   "outputs": [],
   "source": [
    "val_cats_dir = os.path.join(validation_dir, 'cats')\n",
    "os.mkdir(val_cats_dir)\n",
    "val_dogs_dir = os.path.join(validation_dir, 'dogs')\n",
    "os.mkdir(val_dogs_dir)"
   ]
  },
  {
   "cell_type": "markdown",
   "metadata": {},
   "source": [
    "- Copy the first 1,000 cat images to train_cats_dir"
   ]
  },
  {
   "cell_type": "code",
   "execution_count": 41,
   "metadata": {},
   "outputs": [],
   "source": [
    "fnames = ['cat.{}.jpg'.format(i) for i in range(1000)]                     \n",
    "for fname in fnames:                                                       \n",
    "    src = os.path.join(original_dataset_dir, fname)                        \n",
    "    dst = os.path.join(train_cats_dir, fname)                              \n",
    "    shutil.copyfile(src, dst)                                              \n"
   ]
  },
  {
   "cell_type": "markdown",
   "metadata": {},
   "source": [
    "- Copy the next 500 cat images to validation_cats_dir"
   ]
  },
  {
   "cell_type": "code",
   "execution_count": 42,
   "metadata": {},
   "outputs": [],
   "source": [
    "fnames = ['cat.{}.jpg'.format(i) for i in range(1000, 1500)]               \n",
    "for fname in fnames:                                                       \n",
    "    src = os.path.join(original_dataset_dir, fname)                        \n",
    "    dst = os.path.join(val_cats_dir, fname)                         \n",
    "    shutil.copyfile(src, dst)     "
   ]
  },
  {
   "cell_type": "markdown",
   "metadata": {},
   "source": [
    "- Copy the next 500 cat images to test_cats_dir "
   ]
  },
  {
   "cell_type": "code",
   "execution_count": 43,
   "metadata": {},
   "outputs": [],
   "source": [
    "fnames = ['cat.{}.jpg'.format(i) for i in range(1500, 2000)]               \n",
    "for fname in fnames:                                                       \n",
    "    src = os.path.join(original_dataset_dir, fname)                        \n",
    "    dst = os.path.join(test_cats_dir, fname)                         \n",
    "    shutil.copyfile(src, dst)     "
   ]
  },
  {
   "cell_type": "code",
   "execution_count": 44,
   "metadata": {},
   "outputs": [],
   "source": [
    "fnames = ['dog.{}.jpg'.format(i) for i in range(1000)]                     \n",
    "for fname in fnames:                                                       \n",
    "    src = os.path.join(original_dataset_dir, fname)                        \n",
    "    dst = os.path.join(train_dogs_dir, fname)                              \n",
    "    shutil.copyfile(src, dst)                                              \n"
   ]
  },
  {
   "cell_type": "code",
   "execution_count": 45,
   "metadata": {},
   "outputs": [],
   "source": [
    "fnames = ['dog.{}.jpg'.format(i) for i in range(1000, 1500)]               \n",
    "for fname in fnames:                                                       \n",
    "    src = os.path.join(original_dataset_dir, fname)                        \n",
    "    dst = os.path.join(val_dogs_dir, fname)                         \n",
    "    shutil.copyfile(src, dst)     "
   ]
  },
  {
   "cell_type": "code",
   "execution_count": 46,
   "metadata": {},
   "outputs": [],
   "source": [
    "fnames = ['dog.{}.jpg'.format(i) for i in range(1000, 1500)]               \n",
    "for fname in fnames:                                                       \n",
    "    src = os.path.join(original_dataset_dir, fname)                        \n",
    "    dst = os.path.join(test_dogs_dir, fname)                         \n",
    "    shutil.copyfile(src, dst)     "
   ]
  },
  {
   "cell_type": "markdown",
   "metadata": {},
   "source": [
    "As a sanity check let's count how many pictures are in each training split (train/validation/test):"
   ]
  },
  {
   "cell_type": "code",
   "execution_count": 47,
   "metadata": {},
   "outputs": [
    {
     "name": "stdout",
     "output_type": "stream",
     "text": [
      "total training cat images: 1000\n"
     ]
    }
   ],
   "source": [
    "print('total training cat images:', len(os.listdir(train_cats_dir)))"
   ]
  },
  {
   "cell_type": "code",
   "execution_count": 48,
   "metadata": {},
   "outputs": [
    {
     "name": "stdout",
     "output_type": "stream",
     "text": [
      "total training dog images: 1000\n"
     ]
    }
   ],
   "source": [
    "print('total training dog images:', len(os.listdir(train_dogs_dir)))"
   ]
  },
  {
   "cell_type": "code",
   "execution_count": 49,
   "metadata": {},
   "outputs": [
    {
     "name": "stdout",
     "output_type": "stream",
     "text": [
      "total validation cat images: 500\n"
     ]
    }
   ],
   "source": [
    "print('total validation cat images:', len(os.listdir(val_cats_dir)))"
   ]
  },
  {
   "cell_type": "code",
   "execution_count": 50,
   "metadata": {},
   "outputs": [
    {
     "name": "stdout",
     "output_type": "stream",
     "text": [
      "total validation dog images: 500\n"
     ]
    }
   ],
   "source": [
    "print('total validation dog images:', len(os.listdir(val_dogs_dir)))"
   ]
  },
  {
   "cell_type": "code",
   "execution_count": 51,
   "metadata": {},
   "outputs": [
    {
     "name": "stdout",
     "output_type": "stream",
     "text": [
      "total test cat images: 500\n"
     ]
    }
   ],
   "source": [
    "print('total test cat images:', len(os.listdir(test_cats_dir)))"
   ]
  },
  {
   "cell_type": "code",
   "execution_count": 52,
   "metadata": {},
   "outputs": [
    {
     "name": "stdout",
     "output_type": "stream",
     "text": [
      "total test dog images: 500\n"
     ]
    }
   ],
   "source": [
    "print('total test dog images:', len(os.listdir(test_dogs_dir)))"
   ]
  },
  {
   "cell_type": "code",
   "execution_count": null,
   "metadata": {},
   "outputs": [],
   "source": []
  },
  {
   "cell_type": "markdown",
   "metadata": {},
   "source": [
    "# Building the network"
   ]
  },
  {
   "cell_type": "code",
   "execution_count": 53,
   "metadata": {},
   "outputs": [
    {
     "name": "stderr",
     "output_type": "stream",
     "text": [
      "Using TensorFlow backend.\n"
     ]
    }
   ],
   "source": [
    "from keras import layers \n",
    "from keras import models"
   ]
  },
  {
   "cell_type": "code",
   "execution_count": 54,
   "metadata": {},
   "outputs": [],
   "source": [
    "model = models.Sequential()\n",
    "model.add(layers.Conv2D(32, (3, 3), activation='relu', input_shape=(150, 150, 3)))\n",
    "model.add(layers.MaxPooling2D((2, 2)))\n",
    "model.add(layers.Conv2D(64, (3, 3), activation='relu'))\n",
    "model.add(layers.MaxPooling2D((2, 2)))\n",
    "model.add(layers.Conv2D(128, (3, 3), activation='relu'))\n",
    "model.add(layers.MaxPooling2D((2, 2)))\n",
    "model.add(layers.Conv2D(128, (3, 3), activation='relu'))\n",
    "model.add(layers.MaxPooling2D((2, 2)))\n",
    "model.add(layers.Flatten())\n",
    "model.add(layers.Dense(512, activation='relu'))\n",
    "model.add(layers.Dense(1, activation='sigmoid'))"
   ]
  },
  {
   "cell_type": "code",
   "execution_count": 55,
   "metadata": {},
   "outputs": [
    {
     "name": "stdout",
     "output_type": "stream",
     "text": [
      "_________________________________________________________________\n",
      "Layer (type)                 Output Shape              Param #   \n",
      "=================================================================\n",
      "conv2d_1 (Conv2D)            (None, 148, 148, 32)      896       \n",
      "_________________________________________________________________\n",
      "max_pooling2d_1 (MaxPooling2 (None, 74, 74, 32)        0         \n",
      "_________________________________________________________________\n",
      "conv2d_2 (Conv2D)            (None, 72, 72, 64)        18496     \n",
      "_________________________________________________________________\n",
      "max_pooling2d_2 (MaxPooling2 (None, 36, 36, 64)        0         \n",
      "_________________________________________________________________\n",
      "conv2d_3 (Conv2D)            (None, 34, 34, 128)       73856     \n",
      "_________________________________________________________________\n",
      "max_pooling2d_3 (MaxPooling2 (None, 17, 17, 128)       0         \n",
      "_________________________________________________________________\n",
      "conv2d_4 (Conv2D)            (None, 15, 15, 128)       147584    \n",
      "_________________________________________________________________\n",
      "max_pooling2d_4 (MaxPooling2 (None, 7, 7, 128)         0         \n",
      "_________________________________________________________________\n",
      "flatten_1 (Flatten)          (None, 6272)              0         \n",
      "_________________________________________________________________\n",
      "dense_1 (Dense)              (None, 512)               3211776   \n",
      "_________________________________________________________________\n",
      "dense_2 (Dense)              (None, 1)                 513       \n",
      "=================================================================\n",
      "Total params: 3,453,121\n",
      "Trainable params: 3,453,121\n",
      "Non-trainable params: 0\n",
      "_________________________________________________________________\n"
     ]
    }
   ],
   "source": [
    "model.summary()"
   ]
  },
  {
   "cell_type": "markdown",
   "metadata": {},
   "source": [
    "## Configuring the model for training"
   ]
  },
  {
   "cell_type": "code",
   "execution_count": 56,
   "metadata": {},
   "outputs": [],
   "source": [
    "from keras import optimizers"
   ]
  },
  {
   "cell_type": "code",
   "execution_count": 57,
   "metadata": {},
   "outputs": [],
   "source": [
    "model.compile(optimizer=optimizers.RMSprop(lr=1e-4),\n",
    "              loss='binary_crossentropy',\n",
    "              metrics=['acc'])"
   ]
  },
  {
   "cell_type": "markdown",
   "metadata": {},
   "source": [
    "# Data Preprocessing"
   ]
  },
  {
   "cell_type": "markdown",
   "metadata": {},
   "source": [
    "Currently, the data sits on a drive as JPEG files, so the steps for getting it into the network are roughly as follows:\n",
    "    1. Read the picture files\n",
    "    2. Decode the JPEG content to RGB grids of pixels\n",
    "    3. Convert these into floating-point tensors\n",
    "    4. Rescale the pixel values to the [0-1] interval\n",
    "    \n",
    "Keras has utilities to take care of these steps automatically. Keras has a module with image-processing helper tools, located at keras.preprocessing.image. In particular, it contains the class ImageDataGenerator, which lets you quickly set up Python generators that can automatically turn image files on disk into batches of preprocessed tensors.\n",
    "\n",
    "## Using ```ImageDataGenerator``` to read images from directories"
   ]
  },
  {
   "cell_type": "code",
   "execution_count": 58,
   "metadata": {},
   "outputs": [],
   "source": [
    "from keras.preprocessing.image import ImageDataGenerator"
   ]
  },
  {
   "cell_type": "code",
   "execution_count": 59,
   "metadata": {},
   "outputs": [],
   "source": [
    "train_datagen = ImageDataGenerator(rescale=1./255)\n",
    "test_datagen = ImageDataGenerator(rescale=1./255)"
   ]
  },
  {
   "cell_type": "code",
   "execution_count": 60,
   "metadata": {},
   "outputs": [
    {
     "name": "stdout",
     "output_type": "stream",
     "text": [
      "Found 2000 images belonging to 2 classes.\n"
     ]
    }
   ],
   "source": [
    "train_generator = train_datagen.flow_from_directory(\n",
    "            train_dir,\n",
    "            target_size=(150, 150),\n",
    "            batch_size = 20,\n",
    "            class_mode = 'binary')"
   ]
  },
  {
   "cell_type": "code",
   "execution_count": 61,
   "metadata": {},
   "outputs": [
    {
     "name": "stdout",
     "output_type": "stream",
     "text": [
      "Found 1000 images belonging to 2 classes.\n"
     ]
    }
   ],
   "source": [
    "validation_generator = test_datagen.flow_from_directory(\n",
    "            validation_dir,\n",
    "            target_size=(150, 150),\n",
    "            batch_size = 20,\n",
    "            class_mode = 'binary')"
   ]
  },
  {
   "cell_type": "code",
   "execution_count": 63,
   "metadata": {},
   "outputs": [
    {
     "name": "stdout",
     "output_type": "stream",
     "text": [
      "data batch shape:  (20, 150, 150, 3)\n",
      "labels batch shape:  (20,)\n"
     ]
    }
   ],
   "source": [
    "for data_batch, labels_batch in train_generator:\n",
    "    print('data batch shape: ', data_batch.shape)\n",
    "    print('labels batch shape: ', labels_batch.shape)\n",
    "    break"
   ]
  },
  {
   "cell_type": "markdown",
   "metadata": {},
   "source": [
    "Let’s fit the model to the data using the generator. We do so using the fit_generator method, the equivalent of fit for data generators like this one. It expects as its first argument a Python generator that will yield batches of inputs and targets indefinitely, like this one does. Because the data is being generated endlessly, the Keras model needs to know how many samples to draw from the generator before declaring an epoch over. This is the role of the steps_per_epoch argument: after having drawn steps_per_epoch batches from the generator—that is, after having run for steps_per_epoch gradient descent steps—the fitting process will go to the next epoch. In this case, batches are 20 samples, so it will take 100 batches until you see your target of 2,000 samples.\n",
    "\n",
    "When using fit_generator, we can pass a validation_data argument, much as with the fit method. It’s important to note that this argument is allowed to be a data generator, but it could also be a tuple of Numpy arrays. If you pass a generator as validation_data, then this generator is expected to yield batches of validation data endlessly; thus you should also specify the validation_steps argument, which tells the process how many batches to draw from the validation generator for evaluation.\n"
   ]
  },
  {
   "cell_type": "markdown",
   "metadata": {},
   "source": [
    "## Fitting the model using a batch generator"
   ]
  },
  {
   "cell_type": "code",
   "execution_count": 64,
   "metadata": {},
   "outputs": [
    {
     "name": "stdout",
     "output_type": "stream",
     "text": [
      "Epoch 1/30\n",
      "100/100 [==============================] - 41s 408ms/step - loss: 0.6892 - acc: 0.5465 - val_loss: 0.6769 - val_acc: 0.5770\n",
      "Epoch 2/30\n",
      "100/100 [==============================] - 32s 320ms/step - loss: 0.6608 - acc: 0.5955 - val_loss: 0.6375 - val_acc: 0.6450\n",
      "Epoch 3/30\n",
      "100/100 [==============================] - 32s 321ms/step - loss: 0.6279 - acc: 0.6350 - val_loss: 0.6215 - val_acc: 0.6650\n",
      "Epoch 4/30\n",
      "100/100 [==============================] - 32s 321ms/step - loss: 0.5850 - acc: 0.6940 - val_loss: 0.6231 - val_acc: 0.6330\n",
      "Epoch 5/30\n",
      "100/100 [==============================] - 32s 320ms/step - loss: 0.5598 - acc: 0.7135 - val_loss: 0.6057 - val_acc: 0.6720\n",
      "Epoch 6/30\n",
      "100/100 [==============================] - 32s 321ms/step - loss: 0.5303 - acc: 0.7300 - val_loss: 0.5682 - val_acc: 0.7090\n",
      "Epoch 7/30\n",
      "100/100 [==============================] - 32s 321ms/step - loss: 0.4907 - acc: 0.7670 - val_loss: 0.6355 - val_acc: 0.6700\n",
      "Epoch 8/30\n",
      "100/100 [==============================] - 32s 323ms/step - loss: 0.4647 - acc: 0.7815 - val_loss: 0.5800 - val_acc: 0.7030\n",
      "Epoch 9/30\n",
      "100/100 [==============================] - 32s 323ms/step - loss: 0.4387 - acc: 0.8015 - val_loss: 0.6209 - val_acc: 0.6940\n",
      "Epoch 10/30\n",
      "100/100 [==============================] - 33s 330ms/step - loss: 0.4159 - acc: 0.8070 - val_loss: 0.5760 - val_acc: 0.7060\n",
      "Epoch 11/30\n",
      "100/100 [==============================] - 33s 327ms/step - loss: 0.3933 - acc: 0.8145 - val_loss: 0.5744 - val_acc: 0.7240\n",
      "Epoch 12/30\n",
      "100/100 [==============================] - 33s 327ms/step - loss: 0.3674 - acc: 0.8425 - val_loss: 0.5406 - val_acc: 0.7230\n",
      "Epoch 13/30\n",
      "100/100 [==============================] - 33s 328ms/step - loss: 0.3334 - acc: 0.8665 - val_loss: 0.6223 - val_acc: 0.7080\n",
      "Epoch 14/30\n",
      "100/100 [==============================] - 33s 327ms/step - loss: 0.3149 - acc: 0.8630 - val_loss: 0.6052 - val_acc: 0.7280\n",
      "Epoch 15/30\n",
      "100/100 [==============================] - 33s 329ms/step - loss: 0.2880 - acc: 0.8805 - val_loss: 0.5852 - val_acc: 0.7180\n",
      "Epoch 16/30\n",
      "100/100 [==============================] - 32s 323ms/step - loss: 0.2618 - acc: 0.8870 - val_loss: 0.6297 - val_acc: 0.7210\n",
      "Epoch 17/30\n",
      "100/100 [==============================] - 32s 323ms/step - loss: 0.2395 - acc: 0.9020 - val_loss: 0.6414 - val_acc: 0.7150\n",
      "Epoch 18/30\n",
      "100/100 [==============================] - 32s 324ms/step - loss: 0.2224 - acc: 0.9105 - val_loss: 0.6806 - val_acc: 0.7150\n",
      "Epoch 19/30\n",
      "100/100 [==============================] - 33s 328ms/step - loss: 0.1989 - acc: 0.9245 - val_loss: 0.7367 - val_acc: 0.6860\n",
      "Epoch 20/30\n",
      "100/100 [==============================] - 33s 328ms/step - loss: 0.1777 - acc: 0.9350 - val_loss: 0.7733 - val_acc: 0.7180\n",
      "Epoch 21/30\n",
      "100/100 [==============================] - 33s 329ms/step - loss: 0.1472 - acc: 0.9480 - val_loss: 0.7070 - val_acc: 0.7200\n",
      "Epoch 22/30\n",
      "100/100 [==============================] - 33s 328ms/step - loss: 0.1278 - acc: 0.9565 - val_loss: 0.7578 - val_acc: 0.7110\n",
      "Epoch 23/30\n",
      "100/100 [==============================] - 33s 327ms/step - loss: 0.1159 - acc: 0.9610 - val_loss: 0.8097 - val_acc: 0.7090\n",
      "Epoch 24/30\n",
      "100/100 [==============================] - 33s 330ms/step - loss: 0.1016 - acc: 0.9675 - val_loss: 1.0620 - val_acc: 0.6890\n",
      "Epoch 25/30\n",
      "100/100 [==============================] - 34s 338ms/step - loss: 0.0875 - acc: 0.9750 - val_loss: 0.9823 - val_acc: 0.6810\n",
      "Epoch 26/30\n",
      "100/100 [==============================] - 33s 328ms/step - loss: 0.0786 - acc: 0.9740 - val_loss: 0.9840 - val_acc: 0.6850\n",
      "Epoch 27/30\n",
      "100/100 [==============================] - 33s 330ms/step - loss: 0.0578 - acc: 0.9870 - val_loss: 1.2894 - val_acc: 0.6540\n",
      "Epoch 28/30\n",
      "100/100 [==============================] - 33s 327ms/step - loss: 0.0518 - acc: 0.9875 - val_loss: 1.0495 - val_acc: 0.7110\n",
      "Epoch 29/30\n",
      "100/100 [==============================] - 32s 324ms/step - loss: 0.0470 - acc: 0.9875 - val_loss: 1.0733 - val_acc: 0.7060\n",
      "Epoch 30/30\n",
      "100/100 [==============================] - 33s 329ms/step - loss: 0.0364 - acc: 0.9925 - val_loss: 1.0363 - val_acc: 0.7160\n",
      "CPU times: user 15min 55s, sys: 1min 56s, total: 17min 51s\n",
      "Wall time: 16min 26s\n"
     ]
    }
   ],
   "source": [
    "%%time \n",
    "history = model.fit_generator(\n",
    "        train_generator,\n",
    "        steps_per_epoch=100,\n",
    "        epochs = 30,\n",
    "        validation_data = validation_generator,\n",
    "        validation_steps = 50)"
   ]
  },
  {
   "cell_type": "markdown",
   "metadata": {},
   "source": [
    "## Saving the model"
   ]
  },
  {
   "cell_type": "code",
   "execution_count": 65,
   "metadata": {},
   "outputs": [],
   "source": [
    "model.save('cats_and_dogs_small_1.h5')"
   ]
  },
  {
   "cell_type": "markdown",
   "metadata": {},
   "source": [
    "# Displaying curves of loss and accuracy during training"
   ]
  },
  {
   "cell_type": "code",
   "execution_count": 68,
   "metadata": {},
   "outputs": [],
   "source": [
    "import matplotlib.pyplot as plt \n",
    "%matplotlib inline\n"
   ]
  },
  {
   "cell_type": "code",
   "execution_count": 69,
   "metadata": {},
   "outputs": [],
   "source": [
    "def plot_history(history):\n",
    "    history_dict = history.history\n",
    "    loss_values = history_dict['loss']\n",
    "    val_loss_values = history_dict['val_loss']\n",
    "    acc_values = history_dict['acc']\n",
    "    val_acc_values = history_dict['val_acc']\n",
    "    epochs = range(1, len(acc_values) + 1)\n",
    "    \n",
    "    plt.plot(epochs, loss_values, 'b', label='Training loss')\n",
    "    plt.plot(epochs, val_loss_values, 'r', label='Validation loss')\n",
    "    plt.title('Training and Validation loss')\n",
    "    plt.xlabel('Epochs')\n",
    "    plt.ylabel('Loss')\n",
    "    plt.legend()\n",
    "    plt.show()\n",
    "    \n",
    "    plt.plot(epochs, acc_values, 'b', label='Training accuracy')\n",
    "    plt.plot(epochs, val_acc_values, 'r', label='Validation accuracy')\n",
    "    plt.title('Training and Validation accuracy')\n",
    "    plt.xlabel('Epochs')\n",
    "    plt.ylabel('Loss')\n",
    "    plt.legend()\n",
    "    plt.show()"
   ]
  },
  {
   "cell_type": "code",
   "execution_count": 70,
   "metadata": {},
   "outputs": [
    {
     "data": {
      "image/png": "[encoded data removed]",
      "text/plain": [
       "<matplotlib.figure.Figure at 0x7effe80ee710>"
      ]
     },
     "metadata": {},
     "output_type": "display_data"
    },
    {
     "data": {
      "image/png": "[encoded data removed]",
      "text/plain": [
       "<matplotlib.figure.Figure at 0x7effe811b390>"
      ]
     },
     "metadata": {},
     "output_type": "display_data"
    }
   ],
   "source": [
    "plot_history(history)"
   ]
  },
  {
   "cell_type": "markdown",
   "metadata": {},
   "source": [
    "- These plots are characteristic of overfitting. The training accuracy increases linearly over time, until it reaches nearly 100%, whereas the validation accuracy stalls at 70–72%. The validation loss reaches its minimum after only five epochs and then stalls, whereas the training loss keeps decreasing linearly until it reaches nearly 0.\n",
    "\n",
    "- Because we have relatively few training samples (2,000), overfitting will be our number-one concern. we already know about a number of techniques that can help mitigate overfitting, such as dropout and weight decay (L2 regularization). We’re now going to work with a new one, specific to computer vision and used almost universally when processing images with deep-learning models: data augmentation.\n"
   ]
  },
  {
   "cell_type": "code",
   "execution_count": null,
   "metadata": {},
   "outputs": [],
   "source": []
  }
 ],
 "metadata": {
  "kernelspec": {
   "display_name": "Python [conda env:dl-gpu]",
   "language": "python",
   "name": "conda-env-dl-gpu-py"
  },
  "language_info": {
   "codemirror_mode": {
    "name": "ipython",
    "version": 3
   },
   "file_extension": ".py",
   "mimetype": "text/x-python",
   "name": "python",
   "nbconvert_exporter": "python",
   "pygments_lexer": "ipython3",
   "version": "3.6.3"
  },
  "toc": {
   "nav_menu": {},
   "number_sections": true,
   "sideBar": true,
   "skip_h1_title": false,
   "toc_cell": true,
   "toc_position": {},
   "toc_section_display": "block",
   "toc_window_display": false
  }
 },
 "nbformat": 4,
 "nbformat_minor": 2
}
