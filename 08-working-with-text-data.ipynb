{
 "cells": [
  {
   "cell_type": "markdown",
   "metadata": {
    "toc": true
   },
   "source": [
    "<h1>Table of Contents<span class=\"tocSkip\"></span></h1>\n",
    "<div class=\"toc\" style=\"margin-top: 1em;\"><ul class=\"toc-item\"><li><span><a href=\"#One-hot-encoding-of-words-and-characters\" data-toc-modified-id=\"One-hot-encoding-of-words-and-characters-1\"><span class=\"toc-item-num\">1&nbsp;&nbsp;</span>One-hot encoding of words and characters</a></span><ul class=\"toc-item\"><li><span><a href=\"#Word-level-one-hot-encoding\" data-toc-modified-id=\"Word-level-one-hot-encoding-1.1\"><span class=\"toc-item-num\">1.1&nbsp;&nbsp;</span>Word-level one-hot encoding</a></span></li><li><span><a href=\"#Character-level-one-hot-encoding\" data-toc-modified-id=\"Character-level-one-hot-encoding-1.2\"><span class=\"toc-item-num\">1.2&nbsp;&nbsp;</span>Character-level one-hot encoding</a></span></li><li><span><a href=\"#Using-Keras-for-word-level-one-hot-encoding\" data-toc-modified-id=\"Using-Keras-for-word-level-one-hot-encoding-1.3\"><span class=\"toc-item-num\">1.3&nbsp;&nbsp;</span>Using Keras for word-level one-hot encoding</a></span></li><li><span><a href=\"#Word-level-one-hot-encoding-with-hashing-trick\" data-toc-modified-id=\"Word-level-one-hot-encoding-with-hashing-trick-1.4\"><span class=\"toc-item-num\">1.4&nbsp;&nbsp;</span>Word-level one-hot encoding with hashing trick</a></span></li></ul></li><li><span><a href=\"#Using-word-embeddings\" data-toc-modified-id=\"Using-word-embeddings-2\"><span class=\"toc-item-num\">2&nbsp;&nbsp;</span>Using word embeddings</a></span><ul class=\"toc-item\"><li><span><a href=\"#Instatiating-an-Embedding-layer\" data-toc-modified-id=\"Instatiating-an-Embedding-layer-2.1\"><span class=\"toc-item-num\">2.1&nbsp;&nbsp;</span>Instatiating an Embedding layer</a></span></li><li><span><a href=\"#Loading-the-IMDB-data-for-use-with-an-Embedding-layer\" data-toc-modified-id=\"Loading-the-IMDB-data-for-use-with-an-Embedding-layer-2.2\"><span class=\"toc-item-num\">2.2&nbsp;&nbsp;</span>Loading the IMDB data for use with an <code>Embedding</code> layer</a></span></li><li><span><a href=\"#Using-an-Embedding-layer-and-classifier-on-the-IMDB-data\" data-toc-modified-id=\"Using-an-Embedding-layer-and-classifier-on-the-IMDB-data-2.3\"><span class=\"toc-item-num\">2.3&nbsp;&nbsp;</span>Using an <code>Embedding</code> layer and classifier on the IMDB data</a></span></li></ul></li><li><span><a href=\"#Using-Pretrained-word-Embedding\" data-toc-modified-id=\"Using-Pretrained-word-Embedding-3\"><span class=\"toc-item-num\">3&nbsp;&nbsp;</span>Using Pretrained word Embedding</a></span><ul class=\"toc-item\"><li><span><a href=\"#Processing-the-labels-of-the-raw-IMDB-data\" data-toc-modified-id=\"Processing-the-labels-of-the-raw-IMDB-data-3.1\"><span class=\"toc-item-num\">3.1&nbsp;&nbsp;</span>Processing the labels of the raw IMDB data</a></span></li><li><span><a href=\"#Tokenizing-the-data\" data-toc-modified-id=\"Tokenizing-the-data-3.2\"><span class=\"toc-item-num\">3.2&nbsp;&nbsp;</span>Tokenizing the data</a></span></li><li><span><a href=\"#Parsing-the-Glove-word-embeddings-file\" data-toc-modified-id=\"Parsing-the-Glove-word-embeddings-file-3.3\"><span class=\"toc-item-num\">3.3&nbsp;&nbsp;</span>Parsing the Glove word-embeddings file</a></span></li><li><span><a href=\"#Preparing-the-Glove-word-embeddings-matrix\" data-toc-modified-id=\"Preparing-the-Glove-word-embeddings-matrix-3.4\"><span class=\"toc-item-num\">3.4&nbsp;&nbsp;</span>Preparing the Glove word-embeddings matrix</a></span></li><li><span><a href=\"#Defining-a-model\" data-toc-modified-id=\"Defining-a-model-3.5\"><span class=\"toc-item-num\">3.5&nbsp;&nbsp;</span>Defining a model</a></span></li><li><span><a href=\"#Loading-pretrained-word-embeddings-into-the-Embedding-layer\" data-toc-modified-id=\"Loading-pretrained-word-embeddings-into-the-Embedding-layer-3.6\"><span class=\"toc-item-num\">3.6&nbsp;&nbsp;</span>Loading pretrained word embeddings into the <code>Embedding</code> layer</a></span></li><li><span><a href=\"#Training-and-Evaluation\" data-toc-modified-id=\"Training-and-Evaluation-3.7\"><span class=\"toc-item-num\">3.7&nbsp;&nbsp;</span>Training and Evaluation</a></span></li><li><span><a href=\"#Training-the-same-model-without-pretrained-word-embeddings\" data-toc-modified-id=\"Training-the-same-model-without-pretrained-word-embeddings-3.8\"><span class=\"toc-item-num\">3.8&nbsp;&nbsp;</span>Training the same model without pretrained word embeddings</a></span></li><li><span><a href=\"#Tokenizing-the-data-of-the-test-set\" data-toc-modified-id=\"Tokenizing-the-data-of-the-test-set-3.9\"><span class=\"toc-item-num\">3.9&nbsp;&nbsp;</span>Tokenizing the data of the test set</a></span></li><li><span><a href=\"#Evaluating-the-model-on-the-test-set\" data-toc-modified-id=\"Evaluating-the-model-on-the-test-set-3.10\"><span class=\"toc-item-num\">3.10&nbsp;&nbsp;</span>Evaluating the model on the test set</a></span></li></ul></li></ul></div>"
   ]
  },
  {
   "cell_type": "markdown",
   "metadata": {},
   "source": [
    "Text can be understood as either a sequence of characters or a sequence of words, but it is most common to work at the level of words.\n",
    "\n",
    "Like all the other neural networks, deep-learning models don't take as input raw text: they only work with numeric tensors. Vectorizing text is the process of transforming text\n",
    "into numeric tensors. This can be done in multiple ways:\n",
    "1. Segment text into words, and transform each word into a vector.\n",
    "2. Segment text into characters, and transform each character into a vector.\n",
    "3. Extract n-grams of words or characters, and transform each n-gram into a vector. N-grams are overlapping groups of multiple consecutive words or characters.\n",
    "\n",
    "Collectively, the different units into which you can break down text (words, characters, or n-grams) are called **tokens**, and breaking text into such tokens is called **tokenization**. \n"
   ]
  },
  {
   "cell_type": "markdown",
   "metadata": {},
   "source": [
    "# One-hot encoding of words and characters"
   ]
  },
  {
   "cell_type": "markdown",
   "metadata": {},
   "source": [
    "- Consists of associating a unique integer index with every word and then turning this integer index *i* into a binary vector of size *N* (the size of the vocabulary)."
   ]
  },
  {
   "cell_type": "code",
   "execution_count": 1,
   "metadata": {},
   "outputs": [],
   "source": [
    "import numpy as np"
   ]
  },
  {
   "cell_type": "markdown",
   "metadata": {},
   "source": [
    "## Word-level one-hot encoding"
   ]
  },
  {
   "cell_type": "code",
   "execution_count": 2,
   "metadata": {},
   "outputs": [],
   "source": [
    "# Initial data: one entry per sample (in this example, a sample is a sentence, but it could be an entire document)\n",
    "samples = [\"The cat sat on the mat.\", \"The dog ate my homework.\"]"
   ]
  },
  {
   "cell_type": "code",
   "execution_count": 3,
   "metadata": {},
   "outputs": [],
   "source": [
    "token_index = {}"
   ]
  },
  {
   "cell_type": "code",
   "execution_count": 4,
   "metadata": {},
   "outputs": [],
   "source": [
    "for sample in samples:\n",
    "    # Tokenizes the samples via the split method. In real life, you'd also strip punctuation and special characters from the samples.\n",
    "    for word in sample.split():\n",
    "        if word not in token_index:\n",
    "            # Assigns a unique index to each unique word. Note that you don't attribute index 0 to anything\n",
    "            token_index[word] = len(token_index) + 1"
   ]
  },
  {
   "cell_type": "code",
   "execution_count": 5,
   "metadata": {},
   "outputs": [],
   "source": [
    "max_length = 10  # Vectorizes the samples. You will only consider the first max_length words in each sample"
   ]
  },
  {
   "cell_type": "code",
   "execution_count": 6,
   "metadata": {},
   "outputs": [],
   "source": [
    "results = np.zeros(shape=(len(samples), max_length,\n",
    "                          max(token_index.values()) + 1))  # This is where you store the results"
   ]
  },
  {
   "cell_type": "code",
   "execution_count": 7,
   "metadata": {},
   "outputs": [],
   "source": [
    "for i, sample in enumerate(samples):\n",
    "    for j, word in list(enumerate(sample.split()))[:max_length]:\n",
    "        index = token_index.get(word)\n",
    "        results[i, j, index] = 1."
   ]
  },
  {
   "cell_type": "code",
   "execution_count": 8,
   "metadata": {},
   "outputs": [
    {
     "data": {
      "text/plain": [
       "array([[[ 0.,  1.,  0.,  0.,  0.,  0.,  0.,  0.,  0.,  0.,  0.],\n",
       "        [ 0.,  0.,  1.,  0.,  0.,  0.,  0.,  0.,  0.,  0.,  0.],\n",
       "        [ 0.,  0.,  0.,  1.,  0.,  0.,  0.,  0.,  0.,  0.,  0.],\n",
       "        [ 0.,  0.,  0.,  0.,  1.,  0.,  0.,  0.,  0.,  0.,  0.],\n",
       "        [ 0.,  0.,  0.,  0.,  0.,  1.,  0.,  0.,  0.,  0.,  0.],\n",
       "        [ 0.,  0.,  0.,  0.,  0.,  0.,  1.,  0.,  0.,  0.,  0.],\n",
       "        [ 0.,  0.,  0.,  0.,  0.,  0.,  0.,  0.,  0.,  0.,  0.],\n",
       "        [ 0.,  0.,  0.,  0.,  0.,  0.,  0.,  0.,  0.,  0.,  0.],\n",
       "        [ 0.,  0.,  0.,  0.,  0.,  0.,  0.,  0.,  0.,  0.,  0.],\n",
       "        [ 0.,  0.,  0.,  0.,  0.,  0.,  0.,  0.,  0.,  0.,  0.]],\n",
       "\n",
       "       [[ 0.,  1.,  0.,  0.,  0.,  0.,  0.,  0.,  0.,  0.,  0.],\n",
       "        [ 0.,  0.,  0.,  0.,  0.,  0.,  0.,  1.,  0.,  0.,  0.],\n",
       "        [ 0.,  0.,  0.,  0.,  0.,  0.,  0.,  0.,  1.,  0.,  0.],\n",
       "        [ 0.,  0.,  0.,  0.,  0.,  0.,  0.,  0.,  0.,  1.,  0.],\n",
       "        [ 0.,  0.,  0.,  0.,  0.,  0.,  0.,  0.,  0.,  0.,  1.],\n",
       "        [ 0.,  0.,  0.,  0.,  0.,  0.,  0.,  0.,  0.,  0.,  0.],\n",
       "        [ 0.,  0.,  0.,  0.,  0.,  0.,  0.,  0.,  0.,  0.,  0.],\n",
       "        [ 0.,  0.,  0.,  0.,  0.,  0.,  0.,  0.,  0.,  0.,  0.],\n",
       "        [ 0.,  0.,  0.,  0.,  0.,  0.,  0.,  0.,  0.,  0.,  0.],\n",
       "        [ 0.,  0.,  0.,  0.,  0.,  0.,  0.,  0.,  0.,  0.,  0.]]])"
      ]
     },
     "execution_count": 8,
     "metadata": {},
     "output_type": "execute_result"
    }
   ],
   "source": [
    "results"
   ]
  },
  {
   "cell_type": "markdown",
   "metadata": {},
   "source": [
    "## Character-level one-hot encoding"
   ]
  },
  {
   "cell_type": "code",
   "execution_count": 9,
   "metadata": {},
   "outputs": [],
   "source": [
    "import string"
   ]
  },
  {
   "cell_type": "code",
   "execution_count": 10,
   "metadata": {},
   "outputs": [],
   "source": [
    "samples = [\"The cat sat on the mat.\", \"The dog ate my homework.\"]"
   ]
  },
  {
   "cell_type": "code",
   "execution_count": 11,
   "metadata": {},
   "outputs": [
    {
     "data": {
      "text/plain": [
       "'0123456789abcdefghijklmnopqrstuvwxyzABCDEFGHIJKLMNOPQRSTUVWXYZ!\"#$%&\\'()*+,-./:;<=>?@[\\\\]^_`{|}~ \\t\\n\\r\\x0b\\x0c'"
      ]
     },
     "execution_count": 11,
     "metadata": {},
     "output_type": "execute_result"
    }
   ],
   "source": [
    "characters = string.printable # All printable ASCII characters\n",
    "characters"
   ]
  },
  {
   "cell_type": "code",
   "execution_count": 12,
   "metadata": {},
   "outputs": [],
   "source": [
    "max_length = 50\n",
    "token_index = dict(zip(range(1, len(characters) + 1), characters))"
   ]
  },
  {
   "cell_type": "code",
   "execution_count": 13,
   "metadata": {},
   "outputs": [
    {
     "data": {
      "text/plain": [
       "(2, 50, 101)"
      ]
     },
     "execution_count": 13,
     "metadata": {},
     "output_type": "execute_result"
    }
   ],
   "source": [
    "results = np.zeros((len(samples), max_length, max(token_index.keys()) + 1))\n",
    "results.shape"
   ]
  },
  {
   "cell_type": "code",
   "execution_count": 14,
   "metadata": {},
   "outputs": [],
   "source": [
    "for i, sample in enumerate(samples):\n",
    "    for j, character in enumerate(sample):\n",
    "        index = token_index.get(character)\n",
    "        results[i, j, index] = 1."
   ]
  },
  {
   "cell_type": "code",
   "execution_count": 15,
   "metadata": {},
   "outputs": [
    {
     "data": {
      "text/plain": [
       "array([[[ 1.,  1.,  1., ...,  1.,  1.,  1.],\n",
       "        [ 1.,  1.,  1., ...,  1.,  1.,  1.],\n",
       "        [ 1.,  1.,  1., ...,  1.,  1.,  1.],\n",
       "        ..., \n",
       "        [ 0.,  0.,  0., ...,  0.,  0.,  0.],\n",
       "        [ 0.,  0.,  0., ...,  0.,  0.,  0.],\n",
       "        [ 0.,  0.,  0., ...,  0.,  0.,  0.]],\n",
       "\n",
       "       [[ 1.,  1.,  1., ...,  1.,  1.,  1.],\n",
       "        [ 1.,  1.,  1., ...,  1.,  1.,  1.],\n",
       "        [ 1.,  1.,  1., ...,  1.,  1.,  1.],\n",
       "        ..., \n",
       "        [ 0.,  0.,  0., ...,  0.,  0.,  0.],\n",
       "        [ 0.,  0.,  0., ...,  0.,  0.,  0.],\n",
       "        [ 0.,  0.,  0., ...,  0.,  0.,  0.]]])"
      ]
     },
     "execution_count": 15,
     "metadata": {},
     "output_type": "execute_result"
    }
   ],
   "source": [
    "results"
   ]
  },
  {
   "cell_type": "markdown",
   "metadata": {},
   "source": [
    "## Using Keras for word-level one-hot encoding"
   ]
  },
  {
   "cell_type": "code",
   "execution_count": 16,
   "metadata": {},
   "outputs": [
    {
     "name": "stderr",
     "output_type": "stream",
     "text": [
      "Using TensorFlow backend.\n"
     ]
    }
   ],
   "source": [
    "from keras.preprocessing.text import Tokenizer"
   ]
  },
  {
   "cell_type": "code",
   "execution_count": 17,
   "metadata": {},
   "outputs": [],
   "source": [
    "samples = [\"The cat sat on the mat.\", \"The dog ate my homework.\"]"
   ]
  },
  {
   "cell_type": "code",
   "execution_count": 18,
   "metadata": {},
   "outputs": [],
   "source": [
    "# Create a tokenizer, configured to only take into account the 1,000 most common words\n",
    "tokenizer = Tokenizer(num_words=1000)"
   ]
  },
  {
   "cell_type": "code",
   "execution_count": 19,
   "metadata": {},
   "outputs": [],
   "source": [
    "# Build the word index\n",
    "tokenizer.fit_on_texts(samples)"
   ]
  },
  {
   "cell_type": "code",
   "execution_count": 20,
   "metadata": {},
   "outputs": [],
   "source": [
    "# Turn strings into lists of integer indices\n",
    "sequences = tokenizer.texts_to_sequences(samples)"
   ]
  },
  {
   "cell_type": "code",
   "execution_count": 21,
   "metadata": {},
   "outputs": [],
   "source": [
    "one_hot_results = tokenizer.texts_to_matrix(samples, mode='binary')"
   ]
  },
  {
   "cell_type": "code",
   "execution_count": 22,
   "metadata": {},
   "outputs": [
    {
     "data": {
      "text/plain": [
       "array([[ 0.,  1.,  1., ...,  0.,  0.,  0.],\n",
       "       [ 0.,  1.,  0., ...,  0.,  0.,  0.]])"
      ]
     },
     "execution_count": 22,
     "metadata": {},
     "output_type": "execute_result"
    }
   ],
   "source": [
    "one_hot_results"
   ]
  },
  {
   "cell_type": "code",
   "execution_count": 23,
   "metadata": {},
   "outputs": [
    {
     "data": {
      "text/plain": [
       "(2, 1000)"
      ]
     },
     "execution_count": 23,
     "metadata": {},
     "output_type": "execute_result"
    }
   ],
   "source": [
    "one_hot_results.shape"
   ]
  },
  {
   "cell_type": "code",
   "execution_count": 24,
   "metadata": {},
   "outputs": [],
   "source": [
    "# How you can recover the word index that was computed\n",
    "word_index = tokenizer.word_index"
   ]
  },
  {
   "cell_type": "code",
   "execution_count": 25,
   "metadata": {},
   "outputs": [
    {
     "name": "stdout",
     "output_type": "stream",
     "text": [
      "Found 9 unique tokens. \n"
     ]
    }
   ],
   "source": [
    "print(\"Found {} unique tokens. \".format(len(word_index)))"
   ]
  },
  {
   "cell_type": "markdown",
   "metadata": {},
   "source": [
    "## Word-level one-hot encoding with hashing trick"
   ]
  },
  {
   "cell_type": "markdown",
   "metadata": {},
   "source": [
    "A variant of one-hot encoding is the so called **one-hot hashing trick**, which you can use when the number of unique tokens in your vocabulary is too large to handle explicitly. Instead of explicitly assigning an index to each word and keeping a reference of these indices in a dictionary, you can hash words into vectors of fixed size. This is typically done with a very lightweight hashing function. The main advantage of this method is that it does away with maintaining an explicit word index, which saves memory and allows online encoding of the data. The one drawback of this approach is that it is susceptible to **hash collisions**. "
   ]
  },
  {
   "cell_type": "code",
   "execution_count": 26,
   "metadata": {},
   "outputs": [],
   "source": [
    "# Store the words as vectors of size 1,000. If you have close to 1, 000 words (or more), you will see many hash collisions, which will decrease the accuracy of this encoding mthod.\n",
    "dimensionality = 1000\n",
    "max_length = 10"
   ]
  },
  {
   "cell_type": "code",
   "execution_count": 27,
   "metadata": {},
   "outputs": [],
   "source": [
    "results = np.zeros((len(samples), max_length, dimensionality))"
   ]
  },
  {
   "cell_type": "code",
   "execution_count": 28,
   "metadata": {},
   "outputs": [],
   "source": [
    "for i, sample in enumerate(samples):\n",
    "    for j, word in list(enumerate(sample.split()))[:max_length]:\n",
    "        # Hashes the word into a random integer index between 0 and 1,000\n",
    "        index = abs(hash(word)) % dimensionality\n",
    "        results[i, j, index] = 1."
   ]
  },
  {
   "cell_type": "markdown",
   "metadata": {},
   "source": [
    "# Using word embeddings"
   ]
  },
  {
   "cell_type": "markdown",
   "metadata": {},
   "source": [
    "Another popular and powerful way to associate a vector with a word is the use of dense word vectors, also called **word embeddings**. \n",
    "\n",
    "Whereas the vectors obtained through one-hot encoding are:\n",
    "- binary, \n",
    "- sparse (mostly made of zeros), \n",
    "- and very high-dimensional\n",
    "\n",
    "word embeddings are:\n",
    "- low dimensional floating-point vectors\n",
    "- dense vectors\n",
    "\n",
    "Unlike the word vectors obtained via one-hot encoding, word embeddings are learned from data.\n",
    "\n",
    "There are two ways to obtain word embeddings:\n",
    "- Learn word embeddings jointly with the main task you care about (such as document classification or sentiment prediction). In this setup, you start with random word vectors and then learn word vectors in the same way you learn the weights of a neural network. \n",
    "- Load into your model word embeddings that were precomputed using a different ML task than the one you are trying to solve. These are called **pretrained word embeddings**. "
   ]
  },
  {
   "cell_type": "markdown",
   "metadata": {},
   "source": [
    "## Instatiating an Embedding layer"
   ]
  },
  {
   "cell_type": "code",
   "execution_count": 29,
   "metadata": {},
   "outputs": [],
   "source": [
    "from keras.layers import Embedding"
   ]
  },
  {
   "cell_type": "code",
   "execution_count": 30,
   "metadata": {},
   "outputs": [],
   "source": [
    "# The Embedding layer takes at least two arguments: the number of possibl                                                                                                                                                                                                                                                                                                                                                                                                                                                                                                                                                                                                                                                                                                                                                                                                                                                                                                                                                                                                                                                                                                                                                                                                                                                                                                                                                                                                                                                                                                                                                                                                                                                 e tokens (here, 1000: 1 + max word index) and the dimensionality of the embeddings (here, 64)\n",
    "embedding_layer = Embedding(1000, 64)"
   ]
  },
  {
   "cell_type": "markdown",
   "metadata": {},
   "source": [
    "## Loading the IMDB data for use with an ```Embedding``` layer"
   ]
  },
  {
   "cell_type": "code",
   "execution_count": 31,
   "metadata": {},
   "outputs": [],
   "source": [
    "from keras.datasets import imdb\n",
    "from keras import preprocessing"
   ]
  },
  {
   "cell_type": "code",
   "execution_count": 32,
   "metadata": {},
   "outputs": [],
   "source": [
    "# Number of words to consider as features\n",
    "max_features = 10000\n",
    "# Cuts off the text after this number of words(among the max_features most common words)\n",
    "maxlen = 20"
   ]
  },
  {
   "cell_type": "code",
   "execution_count": 33,
   "metadata": {},
   "outputs": [],
   "source": [
    "(x_train, y_train), (x_test, y_test) = imdb.load_data(num_words=max_features)"
   ]
  },
  {
   "cell_type": "code",
   "execution_count": 34,
   "metadata": {},
   "outputs": [],
   "source": [
    "x_train = preprocessing.sequence.pad_sequences(x_train, maxlen=maxlen)\n",
    "x_test = preprocessing.sequence.pad_sequences(x_test, maxlen=maxlen)"
   ]
  },
  {
   "cell_type": "markdown",
   "metadata": {},
   "source": [
    "## Using an ```Embedding``` layer and classifier on the IMDB data"
   ]
  },
  {
   "cell_type": "code",
   "execution_count": 35,
   "metadata": {},
   "outputs": [],
   "source": [
    "from keras import models\n",
    "from keras import layers"
   ]
  },
  {
   "cell_type": "code",
   "execution_count": 36,
   "metadata": {},
   "outputs": [],
   "source": [
    "model = models.Sequential()\n",
    "model.add(layers.Embedding(10000, 8, input_length=maxlen))\n",
    "model.add(layers.Flatten())\n",
    "model.add(layers.Dense(1, activation='sigmoid'))\n",
    "model.compile(optimizer='rmsprop', loss='binary_crossentropy', metrics=['acc'])"
   ]
  },
  {
   "cell_type": "code",
   "execution_count": 37,
   "metadata": {},
   "outputs": [
    {
     "name": "stdout",
     "output_type": "stream",
     "text": [
      "_________________________________________________________________\n",
      "Layer (type)                 Output Shape              Param #   \n",
      "=================================================================\n",
      "embedding_2 (Embedding)      (None, 20, 8)             80000     \n",
      "_________________________________________________________________\n",
      "flatten_1 (Flatten)          (None, 160)               0         \n",
      "_________________________________________________________________\n",
      "dense_1 (Dense)              (None, 1)                 161       \n",
      "=================================================================\n",
      "Total params: 80,161\n",
      "Trainable params: 80,161\n",
      "Non-trainable params: 0\n",
      "_________________________________________________________________\n"
     ]
    }
   ],
   "source": [
    "model.summary()"
   ]
  },
  {
   "cell_type": "code",
   "execution_count": 38,
   "metadata": {},
   "outputs": [
    {
     "name": "stdout",
     "output_type": "stream",
     "text": [
      "Train on 20000 samples, validate on 5000 samples\n",
      "Epoch 1/10\n",
      "20000/20000 [==============================] - 4s 223us/step - loss: 0.6690 - acc: 0.6187 - val_loss: 0.6145 - val_acc: 0.7032\n",
      "Epoch 2/10\n",
      "20000/20000 [==============================] - 4s 178us/step - loss: 0.5452 - acc: 0.7455 - val_loss: 0.5163 - val_acc: 0.7420\n",
      "Epoch 3/10\n",
      "20000/20000 [==============================] - 3s 169us/step - loss: 0.4646 - acc: 0.7869 - val_loss: 0.4870 - val_acc: 0.7584\n",
      "Epoch 4/10\n",
      "20000/20000 [==============================] - 3s 164us/step - loss: 0.4233 - acc: 0.8091 - val_loss: 0.4805 - val_acc: 0.7646\n",
      "Epoch 5/10\n",
      "20000/20000 [==============================] - 3s 163us/step - loss: 0.3947 - acc: 0.8235 - val_loss: 0.4796 - val_acc: 0.7684\n",
      "Epoch 6/10\n",
      "20000/20000 [==============================] - 3s 170us/step - loss: 0.3716 - acc: 0.8375 - val_loss: 0.4834 - val_acc: 0.7706\n",
      "Epoch 7/10\n",
      "20000/20000 [==============================] - 3s 165us/step - loss: 0.3514 - acc: 0.8504 - val_loss: 0.4890 - val_acc: 0.7656\n",
      "Epoch 8/10\n",
      "20000/20000 [==============================] - 3s 174us/step - loss: 0.3333 - acc: 0.8623 - val_loss: 0.4971 - val_acc: 0.7622\n",
      "Epoch 9/10\n",
      "20000/20000 [==============================] - 3s 172us/step - loss: 0.3156 - acc: 0.8697 - val_loss: 0.5049 - val_acc: 0.7618\n",
      "Epoch 10/10\n",
      "20000/20000 [==============================] - 3s 168us/step - loss: 0.2997 - acc: 0.8782 - val_loss: 0.5125 - val_acc: 0.7610\n",
      "CPU times: user 42.3 s, sys: 3.86 s, total: 46.2 s\n",
      "Wall time: 35.1 s\n"
     ]
    }
   ],
   "source": [
    "%%time\n",
    "history = model.fit(x_train, y_train, epochs=10,\n",
    "                    batch_size=32, validation_split=0.2)"
   ]
  },
  {
   "cell_type": "code",
   "execution_count": 39,
   "metadata": {},
   "outputs": [],
   "source": [
    "import matplotlib.pyplot as plt \n",
    "%matplotlib inline"
   ]
  },
  {
   "cell_type": "code",
   "execution_count": 40,
   "metadata": {},
   "outputs": [],
   "source": [
    "def plot_history(history):\n",
    "    history_dict = history.history\n",
    "    loss_values = history_dict['loss']\n",
    "    val_loss_values = history_dict['val_loss']\n",
    "    acc_values = history_dict['acc']\n",
    "    val_acc_values = history_dict['val_acc']\n",
    "    epochs = range(1, len(acc_values) + 1)\n",
    "    \n",
    "    plt.plot(epochs, loss_values, 'b', label='Training loss')\n",
    "    plt.plot(epochs, val_loss_values, 'r', label='Validation loss')\n",
    "    plt.title('Training and Validation loss')\n",
    "    plt.xlabel('Epochs')\n",
    "    plt.ylabel('Loss')\n",
    "    plt.legend()\n",
    "    plt.show()\n",
    "    \n",
    "    plt.plot(epochs, acc_values, 'b', label='Training accuracy')\n",
    "    plt.plot(epochs, val_acc_values, 'r', label='Validation accuracy')\n",
    "    plt.title('Training and Validation accuracy')\n",
    "    plt.xlabel('Epochs')\n",
    "    plt.ylabel('Validation')\n",
    "    plt.legend()\n",
    "    plt.show()\n"
   ]
  },
  {
   "cell_type": "code",
   "execution_count": 41,
   "metadata": {},
   "outputs": [
    {
     "data": {
      "image/png": "[encoded data removed]",
      "text/plain": [
       "<matplotlib.figure.Figure at 0x7fe2b6650ef0>"
      ]
     },
     "metadata": {},
     "output_type": "display_data"
    },
    {
     "data": {
      "image/png": "[encoded data removed]",
      "text/plain": [
       "<matplotlib.figure.Figure at 0x7fe2b660c048>"
      ]
     },
     "metadata": {},
     "output_type": "display_data"
    }
   ],
   "source": [
    "plot_history(history)"
   ]
  },
  {
   "cell_type": "markdown",
   "metadata": {},
   "source": [
    "We get to a validation accuracy of ~76%, which is pretty good considering that we are only looking at the first 20 words in every review. But note that merely flattening the embedded sequences and training a single **Dense** layer on top leads to a model that treats each word in the input sequence separately, without considering inter-word relationships and sentence structure. It is much better to add recurrent layers or 1D conv layers on top of the embedded sequences to learn features that take into account each sequence as a whole. "
   ]
  },
  {
   "cell_type": "markdown",
   "metadata": {},
   "source": [
    "# Using Pretrained word Embedding"
   ]
  },
  {
   "cell_type": "markdown",
   "metadata": {},
   "source": [
    "## Processing the labels of the raw IMDB data"
   ]
  },
  {
   "cell_type": "code",
   "execution_count": 75,
   "metadata": {},
   "outputs": [],
   "source": [
    "import os"
   ]
  },
  {
   "cell_type": "code",
   "execution_count": 76,
   "metadata": {},
   "outputs": [],
   "source": [
    "imdb_dir = \"/home/abanihi/Downloads/aclImdb\"\n",
    "train_dir = os.path.join(imdb_dir, 'train')"
   ]
  },
  {
   "cell_type": "code",
   "execution_count": 77,
   "metadata": {},
   "outputs": [],
   "source": [
    "labels = []\n",
    "texts = []"
   ]
  },
  {
   "cell_type": "code",
   "execution_count": 78,
   "metadata": {},
   "outputs": [],
   "source": [
    "for label_type in ['neg', 'pos']:\n",
    "    dir_name = os.path.join(train_dir, label_type)\n",
    "    for fname in os.listdir(dir_name):\n",
    "        if fname[-4:] == '.txt':\n",
    "            f = open(os.path.join(dir_name, fname))\n",
    "            texts.append(f.read())\n",
    "            f.close()\n",
    "            if label_type == 'neg':\n",
    "                labels.append(0)\n",
    "\n",
    "            else:\n",
    "                labels.append(1)"
   ]
  },
  {
   "cell_type": "markdown",
   "metadata": {},
   "source": [
    "## Tokenizing the data"
   ]
  },
  {
   "cell_type": "markdown",
   "metadata": {},
   "source": [
    "Because pretrained word embeddings are meant to be particularly useful on problems where little training data is available(otherwise, task specific embeddings are likely to outperform them). \n",
    "We will add the following twist: restricting the training data to the first 3000 samples. So we will learn to classify movie reviews after looking at just 200 examples. "
   ]
  },
  {
   "cell_type": "code",
   "execution_count": 79,
   "metadata": {},
   "outputs": [],
   "source": [
    "from keras.preprocessing.text import Tokenizer\n",
    "from keras.preprocessing.sequence import pad_sequences"
   ]
  },
  {
   "cell_type": "code",
   "execution_count": 98,
   "metadata": {},
   "outputs": [],
   "source": [
    "maxlen = 100  # Cuts off reviews after 100 words\n",
    "training_samples = 3000  # Trains on 3000 samples\n",
    "validation_samples = 10000\n",
    "max_words = 10000"
   ]
  },
  {
   "cell_type": "code",
   "execution_count": 99,
   "metadata": {},
   "outputs": [],
   "source": [
    "tokenizer = Tokenizer(num_words=max_words)\n",
    "tokenizer.fit_on_texts(texts)\n",
    "sequences = tokenizer.texts_to_sequences(texts)"
   ]
  },
  {
   "cell_type": "code",
   "execution_count": 100,
   "metadata": {},
   "outputs": [
    {
     "name": "stdout",
     "output_type": "stream",
     "text": [
      "Found 88582 unique tokens.\n"
     ]
    }
   ],
   "source": [
    "word_index = tokenizer.word_index\n",
    "print('Found {} unique tokens.'.format(len(word_index)))"
   ]
  },
  {
   "cell_type": "code",
   "execution_count": 101,
   "metadata": {},
   "outputs": [],
   "source": [
    "data = pad_sequences(sequences, maxlen=maxlen)"
   ]
  },
  {
   "cell_type": "code",
   "execution_count": 102,
   "metadata": {},
   "outputs": [],
   "source": [
    "labels = np.asarray(labels)"
   ]
  },
  {
   "cell_type": "code",
   "execution_count": 103,
   "metadata": {},
   "outputs": [
    {
     "data": {
      "text/plain": [
       "(25000, 100)"
      ]
     },
     "execution_count": 103,
     "metadata": {},
     "output_type": "execute_result"
    }
   ],
   "source": [
    "data.shape"
   ]
  },
  {
   "cell_type": "code",
   "execution_count": 104,
   "metadata": {},
   "outputs": [
    {
     "data": {
      "text/plain": [
       "(25000,)"
      ]
     },
     "execution_count": 104,
     "metadata": {},
     "output_type": "execute_result"
    }
   ],
   "source": [
    "labels.shape"
   ]
  },
  {
   "cell_type": "code",
   "execution_count": 105,
   "metadata": {},
   "outputs": [],
   "source": [
    "indices = np.arange(data.shape[0])"
   ]
  },
  {
   "cell_type": "code",
   "execution_count": 106,
   "metadata": {},
   "outputs": [],
   "source": [
    "np.random.shuffle(indices)"
   ]
  },
  {
   "cell_type": "code",
   "execution_count": 107,
   "metadata": {},
   "outputs": [],
   "source": [
    "data = data[indices]\n",
    "labels = labels[indices]"
   ]
  },
  {
   "cell_type": "code",
   "execution_count": 108,
   "metadata": {},
   "outputs": [],
   "source": [
    "x_train = data[:training_samples]\n",
    "y_train = labels[:training_samples]\n",
    "x_val = data[training_samples:training_samples + validation_samples]\n",
    "y_val = labels[training_samples:training_samples + validation_samples]"
   ]
  },
  {
   "cell_type": "markdown",
   "metadata": {},
   "source": [
    "## Parsing the Glove word-embeddings file"
   ]
  },
  {
   "cell_type": "code",
   "execution_count": 61,
   "metadata": {},
   "outputs": [],
   "source": [
    "glove_dir = \"/home/abanihi/Downloads/glove\""
   ]
  },
  {
   "cell_type": "code",
   "execution_count": 62,
   "metadata": {},
   "outputs": [],
   "source": [
    "embeddings_index = {}"
   ]
  },
  {
   "cell_type": "code",
   "execution_count": 63,
   "metadata": {},
   "outputs": [],
   "source": [
    "f = open(os.path.join(glove_dir, 'glove.6B.100d.txt'))"
   ]
  },
  {
   "cell_type": "code",
   "execution_count": 64,
   "metadata": {},
   "outputs": [],
   "source": [
    "for line in f:\n",
    "    values = line.split()\n",
    "    word = values[0]\n",
    "    coefs = np.asarray(values[1:], dtype='float32')\n",
    "    embeddings_index[word] = coefs"
   ]
  },
  {
   "cell_type": "code",
   "execution_count": 65,
   "metadata": {},
   "outputs": [],
   "source": [
    "f.close()"
   ]
  },
  {
   "cell_type": "code",
   "execution_count": 66,
   "metadata": {},
   "outputs": [
    {
     "name": "stdout",
     "output_type": "stream",
     "text": [
      "Found 400000 word vectors.\n"
     ]
    }
   ],
   "source": [
    "print('Found {} word vectors.'.format(len(embeddings_index)))"
   ]
  },
  {
   "cell_type": "markdown",
   "metadata": {},
   "source": [
    "## Preparing the Glove word-embeddings matrix"
   ]
  },
  {
   "cell_type": "code",
   "execution_count": 67,
   "metadata": {},
   "outputs": [],
   "source": [
    "embedding_dim = 100\n"
   ]
  },
  {
   "cell_type": "code",
   "execution_count": 68,
   "metadata": {},
   "outputs": [],
   "source": [
    "embedding_matrix = np.zeros((max_wordsds, embedding_dim))"
   ]
  },
  {
   "cell_type": "code",
   "execution_count": 69,
   "metadata": {},
   "outputs": [],
   "source": [
    "for word, i in word_index.items():\n",
    "    if i < max_words:\n",
    "        embedding_vector = embeddings_index.get(word)\n",
    "        if embedding_vector is not None:\n",
    "            embedding_matrix[i] = embedding_vector"
   ]
  },
  {
   "cell_type": "markdown",
   "metadata": {},
   "source": [
    "## Defining a model"
   ]
  },
  {
   "cell_type": "code",
   "execution_count": 127,
   "metadata": {},
   "outputs": [
    {
     "name": "stdout",
     "output_type": "stream",
     "text": [
      "_________________________________________________________________\n",
      "Layer (type)                 Output Shape              Param #   \n",
      "=================================================================\n",
      "embedding_8 (Embedding)      (None, 100, 100)          1000000   \n",
      "_________________________________________________________________\n",
      "flatten_7 (Flatten)          (None, 10000)             0         \n",
      "_________________________________________________________________\n",
      "dense_12 (Dense)             (None, 32)                320032    \n",
      "_________________________________________________________________\n",
      "dense_13 (Dense)             (None, 1)                 33        \n",
      "=================================================================\n",
      "Total params: 1,320,065\n",
      "Trainable params: 1,320,065\n",
      "Non-trainable params: 0\n",
      "_________________________________________________________________\n"
     ]
    }
   ],
   "source": [
    "model = models.Sequential()\n",
    "model.add(layers.Embedding(max_words, embedding_dim, input_length=maxlen))\n",
    "model.add(layers.Flatten())\n",
    "model.add(layers.Dense(32, activation='relu'))\n",
    "model.add(layers.Dense(1, activation='sigmoid'))\n",
    "model.summary()"
   ]
  },
  {
   "cell_type": "markdown",
   "metadata": {},
   "source": [
    "## Loading pretrained word embeddings into the ```Embedding``` layer"
   ]
  },
  {
   "cell_type": "code",
   "execution_count": 128,
   "metadata": {},
   "outputs": [],
   "source": [
    "model.layers[0].set_weights([embedding_matrix])\n",
    "model.layers[0].trainable = False"
   ]
  },
  {
   "cell_type": "markdown",
   "metadata": {},
   "source": [
    "## Training and Evaluation"
   ]
  },
  {
   "cell_type": "code",
   "execution_count": 129,
   "metadata": {},
   "outputs": [],
   "source": [
    "model.compile(optimizer='rmsprop', loss='binary_crossentropy', metrics=['acc'])"
   ]
  },
  {
   "cell_type": "code",
   "execution_count": 132,
   "metadata": {},
   "outputs": [
    {
     "name": "stdout",
     "output_type": "stream",
     "text": [
      "Train on 3000 samples, validate on 10000 samples\n",
      "Epoch 1/15\n",
      "3000/3000 [==============================] - 2s 516us/step - loss: 0.1282 - acc: 0.9610 - val_loss: 1.2907 - val_acc: 0.5022\n",
      "Epoch 2/15\n",
      "3000/3000 [==============================] - 2s 537us/step - loss: 0.0972 - acc: 0.9733 - val_loss: 1.5175 - val_acc: 0.5001\n",
      "Epoch 3/15\n",
      "3000/3000 [==============================] - 2s 539us/step - loss: 0.0754 - acc: 0.9753 - val_loss: 1.4696 - val_acc: 0.5029\n",
      "Epoch 4/15\n",
      "3000/3000 [==============================] - 2s 524us/step - loss: 0.0708 - acc: 0.9820 - val_loss: 1.5723 - val_acc: 0.5002\n",
      "Epoch 5/15\n",
      "3000/3000 [==============================] - 2s 580us/step - loss: 0.0521 - acc: 0.9877 - val_loss: 1.7174 - val_acc: 0.5092\n",
      "Epoch 6/15\n",
      "3000/3000 [==============================] - 2s 515us/step - loss: 0.0462 - acc: 0.9847 - val_loss: 1.9008 - val_acc: 0.5014\n",
      "Epoch 7/15\n",
      "3000/3000 [==============================] - 2s 549us/step - loss: 0.0584 - acc: 0.9850 - val_loss: 1.8165 - val_acc: 0.5008\n",
      "Epoch 8/15\n",
      "3000/3000 [==============================] - 1s 484us/step - loss: 0.0296 - acc: 0.9910 - val_loss: 1.9643 - val_acc: 0.5060\n",
      "Epoch 9/15\n",
      "3000/3000 [==============================] - 1s 494us/step - loss: 0.0524 - acc: 0.9903 - val_loss: 1.9352 - val_acc: 0.5037\n",
      "Epoch 10/15\n",
      "3000/3000 [==============================] - 2s 524us/step - loss: 0.0292 - acc: 0.9917 - val_loss: 2.0618 - val_acc: 0.5020\n",
      "Epoch 11/15\n",
      "3000/3000 [==============================] - 2s 593us/step - loss: 0.0287 - acc: 0.9893 - val_loss: 2.1542 - val_acc: 0.4998\n",
      "Epoch 12/15\n",
      "3000/3000 [==============================] - 2s 505us/step - loss: 0.0166 - acc: 0.9943 - val_loss: 2.1173 - val_acc: 0.5030\n",
      "Epoch 13/15\n",
      "3000/3000 [==============================] - 1s 494us/step - loss: 0.0213 - acc: 0.9930 - val_loss: 2.2390 - val_acc: 0.5017\n",
      "Epoch 14/15\n",
      "3000/3000 [==============================] - 2s 516us/step - loss: 0.0191 - acc: 0.9933 - val_loss: 2.3420 - val_acc: 0.5035\n",
      "Epoch 15/15\n",
      "3000/3000 [==============================] - 2s 515us/step - loss: 0.0206 - acc: 0.9930 - val_loss: 2.4164 - val_acc: 0.5010\n",
      "CPU times: user 24.4 s, sys: 2.35 s, total: 26.7 s\n",
      "Wall time: 23.7 s\n"
     ]
    }
   ],
   "source": [
    "%%time\n",
    "history_2 = model.fit(x_train, y_train, epochs=15,\n",
    "                    batch_size=32, validation_data=(x_val, y_val))"
   ]
  },
  {
   "cell_type": "code",
   "execution_count": 133,
   "metadata": {},
   "outputs": [
    {
     "data": {
      "image/png": "[encoded data removed]",
      "text/plain": [
       "<matplotlib.figure.Figure at 0x7fe2ab4e9f60>"
      ]
     },
     "metadata": {},
     "output_type": "display_data"
    },
    {
     "data": {
      "image/png": "[encoded data removed]",
      "text/plain": [
       "<matplotlib.figure.Figure at 0x7fe2ab4f9710>"
      ]
     },
     "metadata": {},
     "output_type": "display_data"
    }
   ],
   "source": [
    "plot_history(history_2)"
   ]
  },
  {
   "cell_type": "code",
   "execution_count": 134,
   "metadata": {},
   "outputs": [],
   "source": [
    "model.save_weights('pretrained_glove_model.h5')"
   ]
  },
  {
   "cell_type": "markdown",
   "metadata": {},
   "source": [
    "## Training the same model without pretrained word embeddings"
   ]
  },
  {
   "cell_type": "code",
   "execution_count": 115,
   "metadata": {},
   "outputs": [
    {
     "name": "stdout",
     "output_type": "stream",
     "text": [
      "_________________________________________________________________\n",
      "Layer (type)                 Output Shape              Param #   \n",
      "=================================================================\n",
      "embedding_7 (Embedding)      (None, 100, 100)          1000000   \n",
      "_________________________________________________________________\n",
      "flatten_6 (Flatten)          (None, 10000)             0         \n",
      "_________________________________________________________________\n",
      "dense_10 (Dense)             (None, 32)                320032    \n",
      "_________________________________________________________________\n",
      "dense_11 (Dense)             (None, 1)                 33        \n",
      "=================================================================\n",
      "Total params: 1,320,065\n",
      "Trainable params: 1,320,065\n",
      "Non-trainable params: 0\n",
      "_________________________________________________________________\n"
     ]
    }
   ],
   "source": [
    "model = models.Sequential()\n",
    "model.add(layers.Embedding(max_words, embedding_dim, input_length=maxlen))\n",
    "model.add(layers.Flatten())\n",
    "model.add(layers.Dense(32, activation='relu'))\n",
    "model.add(layers.Dense(1, activation='sigmoid'))\n",
    "model.summary()"
   ]
  },
  {
   "cell_type": "code",
   "execution_count": 116,
   "metadata": {},
   "outputs": [],
   "source": [
    "model.compile(optimizer='rmsprop', loss='binary_crossentropy', metrics=['acc'])"
   ]
  },
  {
   "cell_type": "code",
   "execution_count": 117,
   "metadata": {},
   "outputs": [
    {
     "name": "stdout",
     "output_type": "stream",
     "text": [
      "Train on 3000 samples, validate on 10000 samples\n",
      "Epoch 1/10\n",
      "3000/3000 [==============================] - 2s 813us/step - loss: 0.6936 - acc: 0.5063 - val_loss: 0.6944 - val_acc: 0.5059\n",
      "Epoch 2/10\n",
      "3000/3000 [==============================] - 2s 782us/step - loss: 0.4021 - acc: 0.9207 - val_loss: 0.7824 - val_acc: 0.5052\n",
      "Epoch 3/10\n",
      "3000/3000 [==============================] - 2s 792us/step - loss: 0.0633 - acc: 0.9900 - val_loss: 0.9569 - val_acc: 0.5087\n",
      "Epoch 4/10\n",
      "3000/3000 [==============================] - 2s 809us/step - loss: 0.0052 - acc: 0.9993 - val_loss: 1.1613 - val_acc: 0.5091\n",
      "Epoch 5/10\n",
      "3000/3000 [==============================] - 2s 768us/step - loss: 2.2181e-04 - acc: 1.0000 - val_loss: 1.3859 - val_acc: 0.5099\n",
      "Epoch 6/10\n",
      "3000/3000 [==============================] - 3s 843us/step - loss: 1.0183e-05 - acc: 1.0000 - val_loss: 1.6444 - val_acc: 0.5083\n",
      "Epoch 7/10\n",
      "3000/3000 [==============================] - 2s 746us/step - loss: 3.7470e-07 - acc: 1.0000 - val_loss: 1.8125 - val_acc: 0.5096\n",
      "Epoch 8/10\n",
      "3000/3000 [==============================] - 3s 858us/step - loss: 1.1511e-07 - acc: 1.0000 - val_loss: 1.8829 - val_acc: 0.5090\n",
      "Epoch 9/10\n",
      "3000/3000 [==============================] - 2s 818us/step - loss: 1.0998e-07 - acc: 1.0000 - val_loss: 1.9052 - val_acc: 0.5057\n",
      "Epoch 10/10\n",
      "3000/3000 [==============================] - 2s 770us/step - loss: 1.0984e-07 - acc: 1.0000 - val_loss: 1.9139 - val_acc: 0.5063\n",
      "CPU times: user 23.7 s, sys: 3.11 s, total: 26.8 s\n",
      "Wall time: 24.2 s\n"
     ]
    }
   ],
   "source": [
    "%%time\n",
    "history_3 = model.fit(x_train, y_train, epochs=10,\n",
    "                    batch_size=32, validation_data=(x_val, y_val))"
   ]
  },
  {
   "cell_type": "code",
   "execution_count": 118,
   "metadata": {},
   "outputs": [
    {
     "data": {
      "image/png": "[encoded data removed]",
      "text/plain": [
       "<matplotlib.figure.Figure at 0x7fe27fa788d0>"
      ]
     },
     "metadata": {},
     "output_type": "display_data"
    },
    {
     "data": {
      "image/png": "[encoded data removed]",
      "text/plain": [
       "<matplotlib.figure.Figure at 0x7fe27f98e240>"
      ]
     },
     "metadata": {},
     "output_type": "display_data"
    }
   ],
   "source": [
    "plot_history(history_3)"
   ]
  },
  {
   "cell_type": "markdown",
   "metadata": {},
   "source": [
    "## Tokenizing the data of the test set"
   ]
  },
  {
   "cell_type": "code",
   "execution_count": 119,
   "metadata": {},
   "outputs": [],
   "source": [
    "test_dir = os.path.join(imdb_dir, 'test')"
   ]
  },
  {
   "cell_type": "code",
   "execution_count": 120,
   "metadata": {},
   "outputs": [],
   "source": [
    "labels = []\n",
    "texts = []"
   ]
  },
  {
   "cell_type": "code",
   "execution_count": 121,
   "metadata": {},
   "outputs": [],
   "source": [
    "for label_type in ['neg', 'pos']:\n",
    "    dir_name = os.path.join(test_dir, label_type)\n",
    "    for fname in os.listdir(dir_name):\n",
    "        if fname[-4:] == '.txt':\n",
    "            f = open(os.path.join(dir_name, fname))\n",
    "            texts.append(f.read())\n",
    "            f.close()\n",
    "            if label_type == 'neg':\n",
    "                labels.append(0)\n",
    "\n",
    "            else:\n",
    "                labels.append(1)"
   ]
  },
  {
   "cell_type": "code",
   "execution_count": 122,
   "metadata": {},
   "outputs": [],
   "source": [
    "sequences = tokenizer.texts_to_sequences(texts)"
   ]
  },
  {
   "cell_type": "code",
   "execution_count": 123,
   "metadata": {},
   "outputs": [],
   "source": [
    "x_test = pad_sequencesquencesquencesquences(sequences, maxlen=maxlen)"
   ]
  },
  {
   "cell_type": "code",
   "execution_count": 124,
   "metadata": {},
   "outputs": [],
   "source": [
    "y_test = np.asarray(labels)"
   ]
  },
  {
   "cell_type": "markdown",
   "metadata": {},
   "source": [
    "## Evaluating the model on the test set"
   ]
  },
  {
   "cell_type": "code",
   "execution_count": 135,
   "metadata": {},
   "outputs": [],
   "source": [
    "model.load_weights('pretrained_glove_model.h5')"
   ]
  },
  {
   "cell_type": "code",
   "execution_count": 136,
   "metadata": {},
   "outputs": [
    {
     "name": "stdout",
     "output_type": "stream",
     "text": [
      "25000/25000 [==============================] - 2s 88us/step\n"
     ]
    },
    {
     "data": {
      "text/plain": [
       "[2.4731970547485354, 0.49320000000000003]"
      ]
     },
     "execution_count": 136,
     "metadata": {},
     "output_type": "execute_result"
    }
   ],
   "source": [
    "model.evaluate(x_test, y_test)"
   ]
  },
  {
   "cell_type": "code",
   "execution_count": 137,
   "metadata": {},
   "outputs": [
    {
     "data": {
      "application/json": {
       "Software versions": [
        {
         "module": "Python",
         "version": "3.6.4 64bit [GCC 4.8.2 20140120 (Red Hat 4.8.2-15)]"
        },
        {
         "module": "IPython",
         "version": "6.2.1"
        },
        {
         "module": "OS",
         "version": "Linux 4.4.0 53 generic x86_64 with debian stretch sid"
        },
        {
         "module": "keras",
         "version": "2.0.9"
        },
        {
         "module": "numpy",
         "version": "1.12.1"
        },
        {
         "module": "matplotlib",
         "version": "2.1.1"
        },
        {
         "module": "tensorflow",
         "version": "1.3.0"
        }
       ]
      },
      "text/html": [
       "<table><tr><th>Software</th><th>Version</th></tr><tr><td>Python</td><td>3.6.4 64bit [GCC 4.8.2 20140120 (Red Hat 4.8.2-15)]</td></tr><tr><td>IPython</td><td>6.2.1</td></tr><tr><td>OS</td><td>Linux 4.4.0 53 generic x86_64 with debian stretch sid</td></tr><tr><td>keras</td><td>2.0.9</td></tr><tr><td>numpy</td><td>1.12.1</td></tr><tr><td>matplotlib</td><td>2.1.1</td></tr><tr><td>tensorflow</td><td>1.3.0</td></tr><tr><td colspan='2'>Sat Jan 06 03:02:07 2018 CST</td></tr></table>"
      ],
      "text/latex": [
       "\\begin{tabular}{|l|l|}\\hline\n",
       "{\\bf Software} & {\\bf Version} \\\\ \\hline\\hline\n",
       "Python & 3.6.4 64bit [GCC 4.8.2 20140120 (Red Hat 4.8.2-15)] \\\\ \\hline\n",
       "IPython & 6.2.1 \\\\ \\hline\n",
       "OS & Linux 4.4.0 53 generic x86\\_64 with debian stretch sid \\\\ \\hline\n",
       "keras & 2.0.9 \\\\ \\hline\n",
       "numpy & 1.12.1 \\\\ \\hline\n",
       "matplotlib & 2.1.1 \\\\ \\hline\n",
       "tensorflow & 1.3.0 \\\\ \\hline\n",
       "\\hline \\multicolumn{2}{|l|}{Sat Jan 06 03:02:07 2018 CST} \\\\ \\hline\n",
       "\\end{tabular}\n"
      ],
      "text/plain": [
       "Software versions\n",
       "Python 3.6.4 64bit [GCC 4.8.2 20140120 (Red Hat 4.8.2-15)]\n",
       "IPython 6.2.1\n",
       "OS Linux 4.4.0 53 generic x86_64 with debian stretch sid\n",
       "keras 2.0.9\n",
       "numpy 1.12.1\n",
       "matplotlib 2.1.1\n",
       "tensorflow 1.3.0\n",
       "Sat Jan 06 03:02:07 2018 CST"
      ]
     },
     "execution_count": 137,
     "metadata": {},
     "output_type": "execute_result"
    }
   ],
   "source": [
    "%load_ext version_information\n",
    "%version_information keras, numpy, matplotlib, tensorflow"
   ]
  }
 ],
 "metadata": {
  "kernelspec": {
   "display_name": "Python [conda env:dl-gpu]",
   "language": "python",
   "name": "conda-env-dl-gpu-py"
  },
  "language_info": {
   "codemirror_mode": {
    "name": "ipython",
    "version": 3
   },
   "file_extension": ".py",
   "mimetype": "text/x-python",
   "name": "python",
   "nbconvert_exporter": "python",
   "pygments_lexer": "ipython3",
   "version": "3.6.4"
  },
  "toc": {
   "nav_menu": {},
   "number_sections": true,
   "sideBar": true,
   "skip_h1_title": false,
   "toc_cell": true,
   "toc_position": {},
   "toc_section_display": "block",
   "toc_window_display": false
  }
 },
 "nbformat": 4,
 "nbformat_minor": 2
}
