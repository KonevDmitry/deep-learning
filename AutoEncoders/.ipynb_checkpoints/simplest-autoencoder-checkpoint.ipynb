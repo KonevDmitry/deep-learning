{
 "cells": [
  {
   "cell_type": "markdown",
   "metadata": {
    "toc": "true"
   },
   "source": [
    " # Table of Contents\n",
    "<div class=\"toc\" style=\"margin-top: 1em;\"><ul class=\"toc-item\" id=\"toc-level0\"><li><span><a href=\"http://localhost:8888/notebooks/AutoEncoders/simplest-autoencoder.ipynb#Motivation\" data-toc-modified-id=\"Motivation-1\"><span class=\"toc-item-num\">1&nbsp;&nbsp;</span>Motivation</a></span></li><li><span><a href=\"http://localhost:8888/notebooks/AutoEncoders/simplest-autoencoder.ipynb#Autoencoders\" data-toc-modified-id=\"Autoencoders-2\"><span class=\"toc-item-num\">2&nbsp;&nbsp;</span>Autoencoders</a></span></li><li><span><a href=\"http://localhost:8888/notebooks/AutoEncoders/simplest-autoencoder.ipynb#Simplest-possible-autoencoder-model\" data-toc-modified-id=\"Simplest-possible-autoencoder-model-3\"><span class=\"toc-item-num\">3&nbsp;&nbsp;</span>Simplest possible autoencoder model</a></span></li><li><span><a href=\"http://localhost:8888/notebooks/AutoEncoders/simplest-autoencoder.ipynb#Encoder-Model\" data-toc-modified-id=\"Encoder-Model-4\"><span class=\"toc-item-num\">4&nbsp;&nbsp;</span>Encoder Model</a></span></li><li><span><a href=\"http://localhost:8888/notebooks/AutoEncoders/simplest-autoencoder.ipynb#Decoder-Model\" data-toc-modified-id=\"Decoder-Model-5\"><span class=\"toc-item-num\">5&nbsp;&nbsp;</span>Decoder Model</a></span></li><li><span><a href=\"http://localhost:8888/notebooks/AutoEncoders/simplest-autoencoder.ipynb#Dataset\" data-toc-modified-id=\"Dataset-6\"><span class=\"toc-item-num\">6&nbsp;&nbsp;</span>Dataset</a></span></li><li><span><a href=\"http://localhost:8888/notebooks/AutoEncoders/simplest-autoencoder.ipynb#Training\" data-toc-modified-id=\"Training-7\"><span class=\"toc-item-num\">7&nbsp;&nbsp;</span>Training</a></span></li><li><span><a href=\"http://localhost:8888/notebooks/AutoEncoders/simplest-autoencoder.ipynb#Adding-a-sparsity-constraint-on-the-encoded-representations\" data-toc-modified-id=\"Adding-a-sparsity-constraint-on-the-encoded-representations-8\"><span class=\"toc-item-num\">8&nbsp;&nbsp;</span>Adding a sparsity constraint on the encoded representations</a></span></li></ul></div>"
   ]
  },
  {
   "cell_type": "markdown",
   "metadata": {},
   "source": [
    "\n",
    "\n",
    "In the supervised learning landscape, computers learn how to map one vector to another, given enough examples of the mapping. However, not all problems we might want to solve fall into this category. We may wish to:\n",
    "\n",
    "- generate new examples\n",
    "- determine how likely some point is, \n",
    "- handle missing values\n",
    "- take advantage of a large set of unlabeled examples or examples from related tasks.\n",
    "\n",
    "A shortcoming of the current state of the art for industrial applications is that our learning algorithms require large amounts of supervised data to achieve good accuracy. \n",
    "\n",
    "\n",
    "# Motivation\n",
    ">Many deep learning algorithms have been designed to tackle unsupervised learning problems, but none have truly solved the problem in the same way that deep learning has largely solved the supervised learning problem for a wide variety of tasks. A central cause of the difficulties with unsupervised learning is the high dimensionality of the random variables being modeled. This is brings two distinct challenges:\n",
    "- a statistical challenge\n",
    "- a computational challenge\n",
    "\n",
    "[Deep Learning book]() \n",
    "\n",
    "\n",
    "In Unsupervised Leaning problem, we only use the inputs $x^{(t)}$ for learning. Some of the benefits of unsupervised learning include:\n",
    "\n",
    "- To automatically extract meaningful features for your data\n",
    "- To leverage the availability of unlabeled data\n",
    "- To add a data-dependent regularizer to trainings.\n",
    "\n",
    "\n",
    "This post is the first in what I hope to be a series covering a range of unsupervised learning problems."
   ]
  },
  {
   "cell_type": "markdown",
   "metadata": {},
   "source": [
    "# Autoencoders"
   ]
  },
  {
   "cell_type": "markdown",
   "metadata": {},
   "source": [
    "An **autoencoder** is a Feed-forward neural network that is trained to attempt to copy its input to its output. Internally, it has a hidden layer $h$ that describes a code used to represent the input. \n",
    "\n",
    "![](images/autoencoder-1.png)\n",
    "[Source: Hugo Larochelle 's Neural Networks ](http://info.usherbrooke.ca/hlarochelle/neural_networks/content.html)\n",
    "\n",
    "\n",
    "The following is the architecture of an autoencoder:\n",
    "![](http://ufldl.stanford.edu/tutorial/images/Autoencoder636.png)\n",
    "\n",
    "One can observe that the dimensionality of the input is the same as the dimensionality of the output, and essentially what we want is \n",
    "$\\hat x = x$\n",
    "\n",
    "For instance, \n",
    "![](https://blog.keras.io/img/ae/autoencoder_schema.jpg)"
   ]
  },
  {
   "cell_type": "markdown",
   "metadata": {},
   "source": [
    "\"Autoencoding\" is a data compression algorithm where the compression and decompression functions are \n",
    "-  data-specific, \n",
    "-  lossy, and \n",
    "-  learned automatically from examples rather than engineered by a human. \n",
    "-  Additionally, in almost all contexts where the term \"autoencoder\" is used, the compression and decompression functions are implemented with neural networks.\n",
    "\n",
    "\n",
    "\n",
    "1. Autoencoders are data-specific, which means that they will only be able to compress data similar to what they have been trained on. This is different from, say, the MPEG-2 Audio Layer III (MP3) compression algorithm, which only holds assumptions about \"sound\" in general, but not about specific types of sounds. An autoencoder trained on pictures of faces would do a rather poor job of compressing pictures of trees, because the features it would learn would be face-specific.\n",
    "\n",
    "2. Autoencoders are lossy, which means that the decompressed outputs will be degraded compared to the original inputs (similar to MP3 or JPEG compression). This differs from lossless arithmetic compression.\n",
    "\n",
    "3. Autoencoders are learned automatically from data examples, which is a useful property: it means that it is easy to train specialized instances of the algorithm that will perform well on a specific type of input. It doesn't require any new engineering, just appropriate training data.\n",
    "\n",
    "To build an autoencoder, you need three things: an encoding function, a decoding function, and a distance function between the amount of information loss between the compressed representation of your data and the decompressed representation (i.e. a \"loss\" function). The encoder and decoder will be chosen to be parametric functions (typically neural networks), and to be differentiable with respect to the distance function, so the parameters of the encoding/decoding functions can be optimize to minimize the reconstruction loss, using Stochastic Gradient Descent. It's simple! And you don't even need to understand any of these words to start using autoencoders in practice. [keras blog](https://blog.keras.io/building-autoencoders-in-keras.html)"
   ]
  },
  {
   "cell_type": "markdown",
   "metadata": {},
   "source": [
    "# Simplest possible autoencoder model"
   ]
  },
  {
   "cell_type": "code",
   "execution_count": 8,
   "metadata": {
    "ExecuteTime": {
     "end_time": "2017-11-08T00:21:48.062164Z",
     "start_time": "2017-11-08T00:21:48.056840Z"
    }
   },
   "outputs": [],
   "source": [
    "from keras.layers import Input, Dense\n",
    "from keras.models import Model"
   ]
  },
  {
   "cell_type": "markdown",
   "metadata": {},
   "source": [
    "- This is the size of our encoded representations\n",
    "- 32 floats -> compression of factor 24.5, assuming the input is 784 floats"
   ]
  },
  {
   "cell_type": "code",
   "execution_count": 9,
   "metadata": {
    "ExecuteTime": {
     "end_time": "2017-11-08T00:35:14.293172Z",
     "start_time": "2017-11-08T00:35:14.284807Z"
    }
   },
   "outputs": [],
   "source": [
    "def create_autoencoder():\n",
    "    encoding_dim = 32\n",
    "    # This is our input placeholder\n",
    "    input_img = Input(shape=(784, ))\n",
    "    encoded = Dense(encoding_dim, activation='relu')(input_img)\n",
    "    decoded = Dense(784, activation='sigmoid')(encoded)\n",
    "    autoencoder = Model(input_img, decoded)\n",
    "    return autoencoder, encoded, decoded"
   ]
  },
  {
   "cell_type": "markdown",
   "metadata": {},
   "source": [
    "- This is our input placeholder"
   ]
  },
  {
   "cell_type": "code",
   "execution_count": 5,
   "metadata": {
    "ExecuteTime": {
     "end_time": "2017-11-08T00:14:15.270188Z",
     "start_time": "2017-11-08T00:14:15.186453Z"
    }
   },
   "outputs": [],
   "source": [
    "input_img = Input(shape=(784, ))"
   ]
  },
  {
   "cell_type": "markdown",
   "metadata": {},
   "source": [
    "- \"Encoded\" is the encoded representation of the input"
   ]
  },
  {
   "cell_type": "code",
   "execution_count": 6,
   "metadata": {
    "ExecuteTime": {
     "end_time": "2017-11-08T00:14:20.974783Z",
     "start_time": "2017-11-08T00:14:20.927030Z"
    }
   },
   "outputs": [],
   "source": [
    "encoded = Dense(encoding_dim, activation='relu')(input_img)"
   ]
  },
  {
   "cell_type": "markdown",
   "metadata": {},
   "source": [
    "- \"Decoded\" is the lossy reconstruction of the input"
   ]
  },
  {
   "cell_type": "code",
   "execution_count": 7,
   "metadata": {
    "ExecuteTime": {
     "end_time": "2017-11-08T00:14:23.321299Z",
     "start_time": "2017-11-08T00:14:23.304747Z"
    }
   },
   "outputs": [],
   "source": [
    "decoded = Dense(784, activation='sigmoid')(encoded)"
   ]
  },
  {
   "cell_type": "markdown",
   "metadata": {},
   "source": [
    "- This model maps an input to its reconstruction"
   ]
  },
  {
   "cell_type": "code",
   "execution_count": 7,
   "metadata": {},
   "outputs": [],
   "source": [
    "autoencoder = Model(input_img, decoded)"
   ]
  },
  {
   "cell_type": "code",
   "execution_count": 73,
   "metadata": {},
   "outputs": [
    {
     "name": "stdout",
     "output_type": "stream",
     "text": [
      "_________________________________________________________________\n",
      "Layer (type)                 Output Shape              Param #   \n",
      "=================================================================\n",
      "input_5 (InputLayer)         (None, 784)               0         \n",
      "_________________________________________________________________\n",
      "dense_5 (Dense)              (None, 32)                25120     \n",
      "_________________________________________________________________\n",
      "dense_6 (Dense)              (None, 784)               25872     \n",
      "=================================================================\n",
      "Total params: 50,992\n",
      "Trainable params: 50,992\n",
      "Non-trainable params: 0\n",
      "_________________________________________________________________\n"
     ]
    }
   ],
   "source": [
    "autoencoder = create_autoencoder()\n",
    "autoencoder.summary()"
   ]
  },
  {
   "cell_type": "markdown",
   "metadata": {},
   "source": [
    "# Encoder Model"
   ]
  },
  {
   "cell_type": "markdown",
   "metadata": {},
   "source": [
    "- This model maps an input to its encoded representation"
   ]
  },
  {
   "cell_type": "code",
   "execution_count": null,
   "metadata": {},
   "outputs": [],
   "source": [
    "def create_encoder(autoencoder):\n",
    "    "
   ]
  },
  {
   "cell_type": "code",
   "execution_count": 63,
   "metadata": {},
   "outputs": [],
   "source": [
    "encoder = Model(input_img, encoded)"
   ]
  },
  {
   "cell_type": "code",
   "execution_count": 64,
   "metadata": {},
   "outputs": [
    {
     "name": "stdout",
     "output_type": "stream",
     "text": [
      "_________________________________________________________________\n",
      "Layer (type)                 Output Shape              Param #   \n",
      "=================================================================\n",
      "input_3 (InputLayer)         (None, 784)               0         \n",
      "_________________________________________________________________\n",
      "dense_3 (Dense)              (None, 32)                25120     \n",
      "=================================================================\n",
      "Total params: 25,120\n",
      "Trainable params: 25,120\n",
      "Non-trainable params: 0\n",
      "_________________________________________________________________\n"
     ]
    }
   ],
   "source": [
    "encoder.summary()"
   ]
  },
  {
   "cell_type": "markdown",
   "metadata": {},
   "source": [
    "# Decoder Model"
   ]
  },
  {
   "cell_type": "markdown",
   "metadata": {},
   "source": [
    "- Create a placeholder for an encoded (32-dimensional) input"
   ]
  },
  {
   "cell_type": "code",
   "execution_count": 65,
   "metadata": {},
   "outputs": [],
   "source": [
    "encoded_input = Input(shape=(encoding_dim, ))"
   ]
  },
  {
   "cell_type": "markdown",
   "metadata": {},
   "source": [
    "- Retrieve the last layer of the autoencoder model"
   ]
  },
  {
   "cell_type": "code",
   "execution_count": 66,
   "metadata": {},
   "outputs": [],
   "source": [
    "decoder_layer = autoencoder.layers[-1]"
   ]
  },
  {
   "cell_type": "markdown",
   "metadata": {},
   "source": [
    "- Create the decoder model"
   ]
  },
  {
   "cell_type": "code",
   "execution_count": 67,
   "metadata": {},
   "outputs": [],
   "source": [
    "decoder = Model(encoded_input, decoder_layer(encoded_input))"
   ]
  },
  {
   "cell_type": "code",
   "execution_count": 68,
   "metadata": {},
   "outputs": [
    {
     "name": "stdout",
     "output_type": "stream",
     "text": [
      "_________________________________________________________________\n",
      "Layer (type)                 Output Shape              Param #   \n",
      "=================================================================\n",
      "input_4 (InputLayer)         (None, 32)                0         \n",
      "_________________________________________________________________\n",
      "dense_4 (Dense)              (None, 784)               25872     \n",
      "=================================================================\n",
      "Total params: 25,872\n",
      "Trainable params: 25,872\n",
      "Non-trainable params: 0\n",
      "_________________________________________________________________\n"
     ]
    }
   ],
   "source": [
    "decoder.summary()"
   ]
  },
  {
   "cell_type": "markdown",
   "metadata": {},
   "source": [
    "Now let's train our autoencoder to reconstruct MNIST digits."
   ]
  },
  {
   "cell_type": "markdown",
   "metadata": {},
   "source": [
    "- First, we will configure our model to use a per-pixel binary crossentropy loss, and the Adadelta optimizer:"
   ]
  },
  {
   "cell_type": "code",
   "execution_count": 16,
   "metadata": {},
   "outputs": [],
   "source": [
    "autoencoder.compile(optimizer='adadelta', loss='binary_crossentropy')"
   ]
  },
  {
   "cell_type": "markdown",
   "metadata": {},
   "source": [
    "# Dataset"
   ]
  },
  {
   "cell_type": "markdown",
   "metadata": {},
   "source": [
    "Let's prepare our input data. We're using MNIST digits, and we are discarding the labels (since we are only interested in encoding/decoding the input images)."
   ]
  },
  {
   "cell_type": "code",
   "execution_count": 17,
   "metadata": {},
   "outputs": [],
   "source": [
    "from keras.datasets import mnist\n",
    "import numpy as np"
   ]
  },
  {
   "cell_type": "code",
   "execution_count": 18,
   "metadata": {},
   "outputs": [],
   "source": [
    "(x_train, _), (x_test, _) = mnist.load_data()"
   ]
  },
  {
   "cell_type": "markdown",
   "metadata": {},
   "source": [
    "We will normalize all values between 0 and 1 and we will flatten the 28x28 images into vectors of size 784."
   ]
  },
  {
   "cell_type": "code",
   "execution_count": 19,
   "metadata": {},
   "outputs": [],
   "source": [
    "x_train = x_train.astype('float32') / 255.\n",
    "x_test = x_test.astype('float32') / 255."
   ]
  },
  {
   "cell_type": "code",
   "execution_count": 31,
   "metadata": {},
   "outputs": [
    {
     "data": {
      "text/plain": [
       "60000"
      ]
     },
     "execution_count": 31,
     "metadata": {},
     "output_type": "execute_result"
    }
   ],
   "source": [
    "n_train = len(x_train)\n",
    "n_test = len(x_test)\n",
    "n_train"
   ]
  },
  {
   "cell_type": "code",
   "execution_count": 24,
   "metadata": {},
   "outputs": [
    {
     "data": {
      "text/plain": [
       "784"
      ]
     },
     "execution_count": 24,
     "metadata": {},
     "output_type": "execute_result"
    }
   ],
   "source": [
    "img_flat = np.prod(x_train.shape[1:])\n",
    "img_flat"
   ]
  },
  {
   "cell_type": "code",
   "execution_count": 32,
   "metadata": {},
   "outputs": [],
   "source": [
    "x_train = x_train.reshape((n_train, img_flat))\n",
    "x_test = x_test.reshape(n_test, img_flat)"
   ]
  },
  {
   "cell_type": "code",
   "execution_count": 33,
   "metadata": {},
   "outputs": [
    {
     "data": {
      "text/plain": [
       "(60000, 784)"
      ]
     },
     "execution_count": 33,
     "metadata": {},
     "output_type": "execute_result"
    }
   ],
   "source": [
    "x_train.shape"
   ]
  },
  {
   "cell_type": "code",
   "execution_count": 34,
   "metadata": {},
   "outputs": [
    {
     "data": {
      "text/plain": [
       "(10000, 784)"
      ]
     },
     "execution_count": 34,
     "metadata": {},
     "output_type": "execute_result"
    }
   ],
   "source": [
    "x_test.shape"
   ]
  },
  {
   "cell_type": "markdown",
   "metadata": {},
   "source": [
    "# Training"
   ]
  },
  {
   "cell_type": "markdown",
   "metadata": {},
   "source": [
    "Let's train our autoencoder for 50 epochs"
   ]
  },
  {
   "cell_type": "code",
   "execution_count": 35,
   "metadata": {},
   "outputs": [
    {
     "name": "stdout",
     "output_type": "stream",
     "text": [
      "Train on 60000 samples, validate on 10000 samples\n",
      "Epoch 1/50\n",
      "60000/60000 [==============================] - 5s - loss: 0.3697 - val_loss: 0.2725\n",
      "Epoch 2/50\n",
      "60000/60000 [==============================] - 4s - loss: 0.2651 - val_loss: 0.2542\n",
      "Epoch 3/50\n",
      "60000/60000 [==============================] - 4s - loss: 0.2438 - val_loss: 0.2311\n",
      "Epoch 4/50\n",
      "60000/60000 [==============================] - 4s - loss: 0.2230 - val_loss: 0.2131\n",
      "Epoch 5/50\n",
      "60000/60000 [==============================] - 4s - loss: 0.2081 - val_loss: 0.2007\n",
      "Epoch 6/50\n",
      "60000/60000 [==============================] - 4s - loss: 0.1972 - val_loss: 0.1910\n",
      "Epoch 7/50\n",
      "60000/60000 [==============================] - 4s - loss: 0.1882 - val_loss: 0.1827\n",
      "Epoch 8/50\n",
      "60000/60000 [==============================] - 4s - loss: 0.1807 - val_loss: 0.1759\n",
      "Epoch 9/50\n",
      "60000/60000 [==============================] - 4s - loss: 0.1745 - val_loss: 0.1703\n",
      "Epoch 10/50\n",
      "60000/60000 [==============================] - 4s - loss: 0.1693 - val_loss: 0.1657\n",
      "Epoch 11/50\n",
      "60000/60000 [==============================] - 4s - loss: 0.1648 - val_loss: 0.1614\n",
      "Epoch 12/50\n",
      "60000/60000 [==============================] - 4s - loss: 0.1608 - val_loss: 0.1575\n",
      "Epoch 13/50\n",
      "60000/60000 [==============================] - 4s - loss: 0.1572 - val_loss: 0.1542\n",
      "Epoch 14/50\n",
      "60000/60000 [==============================] - 4s - loss: 0.1540 - val_loss: 0.1510\n",
      "Epoch 15/50\n",
      "60000/60000 [==============================] - 4s - loss: 0.1509 - val_loss: 0.1480\n",
      "Epoch 16/50\n",
      "60000/60000 [==============================] - 4s - loss: 0.1480 - val_loss: 0.1451\n",
      "Epoch 17/50\n",
      "60000/60000 [==============================] - 4s - loss: 0.1453 - val_loss: 0.1424\n",
      "Epoch 18/50\n",
      "60000/60000 [==============================] - 4s - loss: 0.1427 - val_loss: 0.1398\n",
      "Epoch 19/50\n",
      "60000/60000 [==============================] - 4s - loss: 0.1402 - val_loss: 0.1374\n",
      "Epoch 20/50\n",
      "60000/60000 [==============================] - 4s - loss: 0.1378 - val_loss: 0.1350\n",
      "Epoch 21/50\n",
      "60000/60000 [==============================] - 4s - loss: 0.1355 - val_loss: 0.1329\n",
      "Epoch 22/50\n",
      "60000/60000 [==============================] - 4s - loss: 0.1334 - val_loss: 0.1308\n",
      "Epoch 23/50\n",
      "60000/60000 [==============================] - 4s - loss: 0.1313 - val_loss: 0.1287\n",
      "Epoch 24/50\n",
      "60000/60000 [==============================] - 4s - loss: 0.1293 - val_loss: 0.1268\n",
      "Epoch 25/50\n",
      "60000/60000 [==============================] - 4s - loss: 0.1275 - val_loss: 0.1249\n",
      "Epoch 26/50\n",
      "60000/60000 [==============================] - 4s - loss: 0.1257 - val_loss: 0.1232\n",
      "Epoch 27/50\n",
      "60000/60000 [==============================] - 4s - loss: 0.1240 - val_loss: 0.1216\n",
      "Epoch 28/50\n",
      "60000/60000 [==============================] - 4s - loss: 0.1224 - val_loss: 0.1200\n",
      "Epoch 29/50\n",
      "60000/60000 [==============================] - 4s - loss: 0.1208 - val_loss: 0.1185\n",
      "Epoch 30/50\n",
      "60000/60000 [==============================] - 4s - loss: 0.1194 - val_loss: 0.1170\n",
      "Epoch 31/50\n",
      "60000/60000 [==============================] - 4s - loss: 0.1180 - val_loss: 0.1158\n",
      "Epoch 32/50\n",
      "60000/60000 [==============================] - 5s - loss: 0.1168 - val_loss: 0.1146\n",
      "Epoch 33/50\n",
      "60000/60000 [==============================] - 4s - loss: 0.1156 - val_loss: 0.1134\n",
      "Epoch 34/50\n",
      "60000/60000 [==============================] - 4s - loss: 0.1145 - val_loss: 0.1123\n",
      "Epoch 35/50\n",
      "60000/60000 [==============================] - 4s - loss: 0.1135 - val_loss: 0.1113\n",
      "Epoch 36/50\n",
      "60000/60000 [==============================] - 4s - loss: 0.1125 - val_loss: 0.1104\n",
      "Epoch 37/50\n",
      "60000/60000 [==============================] - 4s - loss: 0.1116 - val_loss: 0.1096\n",
      "Epoch 38/50\n",
      "60000/60000 [==============================] - 5s - loss: 0.1108 - val_loss: 0.1088\n",
      "Epoch 39/50\n",
      "60000/60000 [==============================] - 5s - loss: 0.1101 - val_loss: 0.1081\n",
      "Epoch 40/50\n",
      "60000/60000 [==============================] - 4s - loss: 0.1094 - val_loss: 0.1074\n",
      "Epoch 41/50\n",
      "60000/60000 [==============================] - 4s - loss: 0.1088 - val_loss: 0.1068\n",
      "Epoch 42/50\n",
      "60000/60000 [==============================] - 4s - loss: 0.1082 - val_loss: 0.1062\n",
      "Epoch 43/50\n",
      "60000/60000 [==============================] - 4s - loss: 0.1076 - val_loss: 0.1057\n",
      "Epoch 44/50\n",
      "60000/60000 [==============================] - 4s - loss: 0.1071 - val_loss: 0.1052\n",
      "Epoch 45/50\n",
      "60000/60000 [==============================] - 4s - loss: 0.1066 - val_loss: 0.1048\n",
      "Epoch 46/50\n",
      "60000/60000 [==============================] - 4s - loss: 0.1062 - val_loss: 0.1043\n",
      "Epoch 47/50\n",
      "60000/60000 [==============================] - 4s - loss: 0.1057 - val_loss: 0.1039\n",
      "Epoch 48/50\n",
      "60000/60000 [==============================] - 4s - loss: 0.1053 - val_loss: 0.1035\n",
      "Epoch 49/50\n",
      "60000/60000 [==============================] - 4s - loss: 0.1050 - val_loss: 0.1031\n",
      "Epoch 50/50\n",
      "60000/60000 [==============================] - 3s - loss: 0.1046 - val_loss: 0.1028\n"
     ]
    },
    {
     "data": {
      "text/plain": [
       "<keras.callbacks.History at 0x7f366b7caef0>"
      ]
     },
     "execution_count": 35,
     "metadata": {},
     "output_type": "execute_result"
    }
   ],
   "source": [
    "autoencoder.fit(x_train, x_train, epochs=50, batch_size=256,\n",
    "                shuffle=True, validation_data=(x_test, x_test))"
   ]
  },
  {
   "cell_type": "markdown",
   "metadata": {},
   "source": [
    "We can try to visualize the reconstructed inputs and the encoded representations."
   ]
  },
  {
   "cell_type": "markdown",
   "metadata": {},
   "source": [
    "- Encode and decode some digits. Note that we take them from the test set."
   ]
  },
  {
   "cell_type": "code",
   "execution_count": 36,
   "metadata": {},
   "outputs": [],
   "source": [
    "encoded_imgs = encoder.predict(x_test)\n",
    "decoded_imgs = decoder.predict(encoded_imgs)"
   ]
  },
  {
   "cell_type": "code",
   "execution_count": 40,
   "metadata": {},
   "outputs": [
    {
     "data": {
      "text/plain": [
       "<matplotlib.figure.Figure at 0x7f366ac3e9e8>"
      ]
     },
     "execution_count": 40,
     "metadata": {},
     "output_type": "execute_result"
    },
    {
     "data": {
      "text/plain": [
       "<matplotlib.figure.Figure at 0x7f366ac3e9e8>"
      ]
     },
     "metadata": {},
     "output_type": "display_data"
    }
   ],
   "source": [
    "%matplotlib inline\n",
    "import matplotlib.pyplot as plt\n",
    "plt.figure(figsize=(20, 4))"
   ]
  },
  {
   "cell_type": "code",
   "execution_count": 46,
   "metadata": {},
   "outputs": [],
   "source": [
    "n = 10 # How many digits to display"
   ]
  },
  {
   "cell_type": "code",
   "execution_count": 47,
   "metadata": {},
   "outputs": [
    {
     "data": {
      "image/png": "[encoded data removed]",
      "text/plain": [
       "<matplotlib.figure.Figure at 0x7f366a4e0828>"
      ]
     },
     "metadata": {},
     "output_type": "display_data"
    }
   ],
   "source": [
    "for i in range(n):\n",
    "\n",
    "    # display original images\n",
    "    ax = plt.subplot(2, n, i + 1)\n",
    "    plt.imshow(x_test[i].reshape(28, 28))\n",
    "    plt.gray()\n",
    "    ax.get_xaxis().set_visible(False)\n",
    "    ax.get_yaxis().set_visible(False)\n",
    "\n",
    "    # display reconstructed images\n",
    "    ax = plt.subplot(2, n, i + 1 + n)\n",
    "    plt.imshow(decoded_imgs[i].reshape(28, 28))\n",
    "    plt.gray()\n",
    "    ax.get_xaxis().set_visible(False)\n",
    "    ax.get_yaxis().set_visible(False)\n",
    "plt.show()"
   ]
  },
  {
   "cell_type": "markdown",
   "metadata": {},
   "source": [
    "Here's what we get. The top row is the original digits, and the bottom row is the reconstructed digits. We are losing quite a bit of detail with this basic approach."
   ]
  },
  {
   "cell_type": "code",
   "execution_count": 50,
   "metadata": {},
   "outputs": [
    {
     "data": {
      "text/plain": [
       "7.4475861"
      ]
     },
     "execution_count": 50,
     "metadata": {},
     "output_type": "execute_result"
    }
   ],
   "source": [
    "encoded_imgs.mean()"
   ]
  },
  {
   "cell_type": "markdown",
   "metadata": {},
   "source": [
    "# Adding a sparsity constraint on the encoded representations"
   ]
  },
  {
   "cell_type": "markdown",
   "metadata": {},
   "source": [
    "In the previous example, the representations were only constrained by the size of the hidden layer (32). In such a situation, what typically happens is that the hidden layer is learning an approximation of [PCA (principal component analysis)](https://en.wikipedia.org/wiki/Principal_component_analysis).\n",
    "\n",
    "But, another way to constrain the representations to be compact is to add a sparsity constraint on the activity of the hidden representations, so fewer units would **fire** at a given time. In keras, this can be done by adding an ```activity_regularizer``` to our ```Dense``` layer:"
   ]
  },
  {
   "cell_type": "code",
   "execution_count": 51,
   "metadata": {},
   "outputs": [],
   "source": [
    "from keras import regularizers"
   ]
  },
  {
   "cell_type": "code",
   "execution_count": 52,
   "metadata": {},
   "outputs": [],
   "source": [
    "encoding_dim = 32\n",
    "\n",
    "input_img = Input(shape=(784, ))"
   ]
  },
  {
   "cell_type": "markdown",
   "metadata": {},
   "source": [
    "- Add a Dense layer with a L1 activity regularizer"
   ]
  },
  {
   "cell_type": "code",
   "execution_count": 54,
   "metadata": {},
   "outputs": [],
   "source": [
    "encoded = Dense(encoding_dim, activation='relu', \n",
    "                activity_regularizer=regularizers.l1(10e-5))(input_img)\n",
    "decoded = Dense(784, activation='sigmoid')(encoded)\n",
    "autoencoder = Model(input_img, decoded)"
   ]
  },
  {
   "cell_type": "code",
   "execution_count": 55,
   "metadata": {},
   "outputs": [
    {
     "name": "stdout",
     "output_type": "stream",
     "text": [
      "_________________________________________________________________\n",
      "Layer (type)                 Output Shape              Param #   \n",
      "=================================================================\n",
      "input_3 (InputLayer)         (None, 784)               0         \n",
      "_________________________________________________________________\n",
      "dense_3 (Dense)              (None, 32)                25120     \n",
      "_________________________________________________________________\n",
      "dense_4 (Dense)              (None, 784)               25872     \n",
      "=================================================================\n",
      "Total params: 50,992\n",
      "Trainable params: 50,992\n",
      "Non-trainable params: 0\n",
      "_________________________________________________________________\n"
     ]
    }
   ],
   "source": [
    "autoencoder.summary()"
   ]
  },
  {
   "cell_type": "markdown",
   "metadata": {},
   "source": [
    "Let's train this model for 100 epochs (with the added regularization the model is less likely to overfit and can be trained longer)"
   ]
  },
  {
   "cell_type": "code",
   "execution_count": 57,
   "metadata": {},
   "outputs": [],
   "source": [
    "autoencoder.compile(optimizer='adadelta', loss='binary_crossentropy')"
   ]
  },
  {
   "cell_type": "code",
   "execution_count": 58,
   "metadata": {},
   "outputs": [
    {
     "name": "stdout",
     "output_type": "stream",
     "text": [
      "Train on 60000 samples, validate on 10000 samples\n",
      "Epoch 1/100\n",
      "4s - loss: 0.6842 - val_loss: 0.6607\n",
      "Epoch 2/100\n",
      "4s - loss: 0.6440 - val_loss: 0.6273\n",
      "Epoch 3/100\n",
      "4s - loss: 0.6111 - val_loss: 0.5952\n",
      "Epoch 4/100\n",
      "4s - loss: 0.5802 - val_loss: 0.5655\n",
      "Epoch 5/100\n",
      "4s - loss: 0.5519 - val_loss: 0.5386\n",
      "Epoch 6/100\n",
      "4s - loss: 0.5264 - val_loss: 0.5146\n",
      "Epoch 7/100\n",
      "4s - loss: 0.5037 - val_loss: 0.4932\n",
      "Epoch 8/100\n",
      "4s - loss: 0.4836 - val_loss: 0.4744\n",
      "Epoch 9/100\n",
      "4s - loss: 0.4658 - val_loss: 0.4577\n",
      "Epoch 10/100\n",
      "4s - loss: 0.4501 - val_loss: 0.4430\n",
      "Epoch 11/100\n",
      "4s - loss: 0.4362 - val_loss: 0.4299\n",
      "Epoch 12/100\n",
      "4s - loss: 0.4239 - val_loss: 0.4183\n",
      "Epoch 13/100\n",
      "4s - loss: 0.4129 - val_loss: 0.4079\n",
      "Epoch 14/100\n",
      "4s - loss: 0.4030 - val_loss: 0.3986\n",
      "Epoch 15/100\n",
      "4s - loss: 0.3942 - val_loss: 0.3902\n",
      "Epoch 16/100\n",
      "4s - loss: 0.3862 - val_loss: 0.3826\n",
      "Epoch 17/100\n",
      "4s - loss: 0.3790 - val_loss: 0.3758\n",
      "Epoch 18/100\n",
      "4s - loss: 0.3725 - val_loss: 0.3696\n",
      "Epoch 19/100\n",
      "3s - loss: 0.3665 - val_loss: 0.3639\n",
      "Epoch 20/100\n",
      "4s - loss: 0.3611 - val_loss: 0.3587\n",
      "Epoch 21/100\n",
      "3s - loss: 0.3561 - val_loss: 0.3539\n",
      "Epoch 22/100\n",
      "3s - loss: 0.3516 - val_loss: 0.3496\n",
      "Epoch 23/100\n",
      "4s - loss: 0.3474 - val_loss: 0.3455\n",
      "Epoch 24/100\n",
      "3s - loss: 0.3435 - val_loss: 0.3418\n",
      "Epoch 25/100\n",
      "4s - loss: 0.3399 - val_loss: 0.3384\n",
      "Epoch 26/100\n",
      "4s - loss: 0.3366 - val_loss: 0.3352\n",
      "Epoch 27/100\n",
      "4s - loss: 0.3335 - val_loss: 0.3322\n",
      "Epoch 28/100\n",
      "3s - loss: 0.3307 - val_loss: 0.3294\n",
      "Epoch 29/100\n",
      "4s - loss: 0.3280 - val_loss: 0.3269\n",
      "Epoch 30/100\n",
      "4s - loss: 0.3255 - val_loss: 0.3245\n",
      "Epoch 31/100\n",
      "4s - loss: 0.3232 - val_loss: 0.3222\n",
      "Epoch 32/100\n",
      "4s - loss: 0.3210 - val_loss: 0.3201\n",
      "Epoch 33/100\n",
      "4s - loss: 0.3189 - val_loss: 0.3181\n",
      "Epoch 34/100\n",
      "4s - loss: 0.3170 - val_loss: 0.3162\n",
      "Epoch 35/100\n",
      "4s - loss: 0.3152 - val_loss: 0.3145\n",
      "Epoch 36/100\n",
      "4s - loss: 0.3135 - val_loss: 0.3128\n",
      "Epoch 37/100\n",
      "4s - loss: 0.3119 - val_loss: 0.3112\n",
      "Epoch 38/100\n",
      "3s - loss: 0.3103 - val_loss: 0.3097\n",
      "Epoch 39/100\n",
      "3s - loss: 0.3089 - val_loss: 0.3083\n",
      "Epoch 40/100\n",
      "4s - loss: 0.3075 - val_loss: 0.3070\n",
      "Epoch 41/100\n",
      "3s - loss: 0.3062 - val_loss: 0.3057\n",
      "Epoch 42/100\n",
      "3s - loss: 0.3050 - val_loss: 0.3045\n",
      "Epoch 43/100\n",
      "4s - loss: 0.3038 - val_loss: 0.3034\n",
      "Epoch 44/100\n",
      "4s - loss: 0.3027 - val_loss: 0.3023\n",
      "Epoch 45/100\n",
      "3s - loss: 0.3016 - val_loss: 0.3012\n",
      "Epoch 46/100\n",
      "4s - loss: 0.3006 - val_loss: 0.3002\n",
      "Epoch 47/100\n",
      "4s - loss: 0.2997 - val_loss: 0.2993\n",
      "Epoch 48/100\n",
      "4s - loss: 0.2987 - val_loss: 0.2984\n",
      "Epoch 49/100\n",
      "4s - loss: 0.2979 - val_loss: 0.2975\n",
      "Epoch 50/100\n",
      "4s - loss: 0.2970 - val_loss: 0.2967\n",
      "Epoch 51/100\n",
      "4s - loss: 0.2962 - val_loss: 0.2959\n",
      "Epoch 52/100\n",
      "4s - loss: 0.2954 - val_loss: 0.2951\n",
      "Epoch 53/100\n",
      "4s - loss: 0.2947 - val_loss: 0.2944\n",
      "Epoch 54/100\n",
      "4s - loss: 0.2940 - val_loss: 0.2937\n",
      "Epoch 55/100\n",
      "4s - loss: 0.2933 - val_loss: 0.2930\n",
      "Epoch 56/100\n",
      "4s - loss: 0.2926 - val_loss: 0.2924\n",
      "Epoch 57/100\n",
      "4s - loss: 0.2920 - val_loss: 0.2917\n",
      "Epoch 58/100\n",
      "3s - loss: 0.2914 - val_loss: 0.2911\n",
      "Epoch 59/100\n",
      "4s - loss: 0.2908 - val_loss: 0.2906\n",
      "Epoch 60/100\n",
      "4s - loss: 0.2902 - val_loss: 0.2900\n",
      "Epoch 61/100\n",
      "4s - loss: 0.2897 - val_loss: 0.2895\n",
      "Epoch 62/100\n",
      "4s - loss: 0.2892 - val_loss: 0.2889\n",
      "Epoch 63/100\n",
      "4s - loss: 0.2886 - val_loss: 0.2884\n",
      "Epoch 64/100\n",
      "4s - loss: 0.2882 - val_loss: 0.2880\n",
      "Epoch 65/100\n",
      "4s - loss: 0.2877 - val_loss: 0.2875\n",
      "Epoch 66/100\n",
      "4s - loss: 0.2872 - val_loss: 0.2870\n",
      "Epoch 67/100\n",
      "4s - loss: 0.2868 - val_loss: 0.2866\n",
      "Epoch 68/100\n",
      "4s - loss: 0.2864 - val_loss: 0.2862\n",
      "Epoch 69/100\n",
      "4s - loss: 0.2859 - val_loss: 0.2858\n",
      "Epoch 70/100\n",
      "4s - loss: 0.2855 - val_loss: 0.2854\n",
      "Epoch 71/100\n",
      "4s - loss: 0.2851 - val_loss: 0.2850\n",
      "Epoch 72/100\n",
      "4s - loss: 0.2848 - val_loss: 0.2846\n",
      "Epoch 73/100\n",
      "4s - loss: 0.2844 - val_loss: 0.2842\n",
      "Epoch 74/100\n",
      "5s - loss: 0.2840 - val_loss: 0.2839\n",
      "Epoch 75/100\n",
      "5s - loss: 0.2837 - val_loss: 0.2835\n",
      "Epoch 76/100\n",
      "4s - loss: 0.2834 - val_loss: 0.2832\n",
      "Epoch 77/100\n",
      "5s - loss: 0.2830 - val_loss: 0.2829\n",
      "Epoch 78/100\n",
      "4s - loss: 0.2827 - val_loss: 0.2826\n",
      "Epoch 79/100\n",
      "5s - loss: 0.2824 - val_loss: 0.2823\n",
      "Epoch 80/100\n",
      "5s - loss: 0.2821 - val_loss: 0.2820\n",
      "Epoch 81/100\n",
      "4s - loss: 0.2818 - val_loss: 0.2817\n",
      "Epoch 82/100\n",
      "4s - loss: 0.2815 - val_loss: 0.2814\n",
      "Epoch 83/100\n",
      "4s - loss: 0.2813 - val_loss: 0.2811\n",
      "Epoch 84/100\n",
      "4s - loss: 0.2810 - val_loss: 0.2808\n",
      "Epoch 85/100\n",
      "4s - loss: 0.2807 - val_loss: 0.2806\n",
      "Epoch 86/100\n",
      "4s - loss: 0.2805 - val_loss: 0.2803\n",
      "Epoch 87/100\n",
      "4s - loss: 0.2802 - val_loss: 0.2801\n",
      "Epoch 88/100\n",
      "4s - loss: 0.2800 - val_loss: 0.2798\n",
      "Epoch 89/100\n",
      "5s - loss: 0.2798 - val_loss: 0.2796\n",
      "Epoch 90/100\n",
      "4s - loss: 0.2795 - val_loss: 0.2794\n",
      "Epoch 91/100\n",
      "4s - loss: 0.2793 - val_loss: 0.2792\n",
      "Epoch 92/100\n",
      "4s - loss: 0.2791 - val_loss: 0.2789\n",
      "Epoch 93/100\n",
      "4s - loss: 0.2789 - val_loss: 0.2787\n",
      "Epoch 94/100\n",
      "4s - loss: 0.2787 - val_loss: 0.2785\n",
      "Epoch 95/100\n",
      "4s - loss: 0.2785 - val_loss: 0.2783\n",
      "Epoch 96/100\n",
      "4s - loss: 0.2783 - val_loss: 0.2781\n",
      "Epoch 97/100\n",
      "4s - loss: 0.2781 - val_loss: 0.2779\n",
      "Epoch 98/100\n",
      "4s - loss: 0.2779 - val_loss: 0.2777\n",
      "Epoch 99/100\n",
      "4s - loss: 0.2777 - val_loss: 0.2775\n",
      "Epoch 100/100\n",
      "4s - loss: 0.2775 - val_loss: 0.2774\n"
     ]
    },
    {
     "data": {
      "text/plain": [
       "<keras.callbacks.History at 0x7f3664ae5da0>"
      ]
     },
     "execution_count": 58,
     "metadata": {},
     "output_type": "execute_result"
    }
   ],
   "source": [
    "autoencoder.fit(x_train, x_train, epochs=100, batch_size=256, \n",
    "               shuffle=True, validation_data=(x_test, x_test), verbose=2)"
   ]
  },
  {
   "cell_type": "code",
   "execution_count": 59,
   "metadata": {},
   "outputs": [
    {
     "data": {
      "image/png": "[encoded data removed]",
      "text/plain": [
       "<matplotlib.figure.Figure at 0x7f366611e978>"
      ]
     },
     "metadata": {},
     "output_type": "display_data"
    }
   ],
   "source": [
    "for i in range(n):\n",
    "\n",
    "    # display original images\n",
    "    ax = plt.subplot(2, n, i + 1)\n",
    "    plt.imshow(x_test[i].reshape(28, 28))\n",
    "    plt.gray()\n",
    "    ax.get_xaxis().set_visible(False)\n",
    "    ax.get_yaxis().set_visible(False)\n",
    "\n",
    "    # display reconstructed images\n",
    "    ax = plt.subplot(2, n, i + 1 + n)\n",
    "    plt.imshow(decoded_imgs[i].reshape(28, 28))\n",
    "    plt.gray()\n",
    "    ax.get_xaxis().set_visible(False)\n",
    "    ax.get_yaxis().set_visible(False)\n",
    "plt.show()"
   ]
  },
  {
   "cell_type": "code",
   "execution_count": 69,
   "metadata": {},
   "outputs": [],
   "source": [
    "encoded_imgs = encoder.predict(x_test)\n",
    "decoded_imgs = decoder.predict(encoded_imgs)"
   ]
  },
  {
   "cell_type": "code",
   "execution_count": 70,
   "metadata": {},
   "outputs": [
    {
     "data": {
      "text/plain": [
       "8.8913066e-07"
      ]
     },
     "execution_count": 70,
     "metadata": {},
     "output_type": "execute_result"
    }
   ],
   "source": [
    "encoded_imgs.mean()"
   ]
  },
  {
   "cell_type": "code",
   "execution_count": 71,
   "metadata": {},
   "outputs": [
    {
     "data": {
      "text/plain": [
       "(10000, 32)"
      ]
     },
     "execution_count": 71,
     "metadata": {},
     "output_type": "execute_result"
    }
   ],
   "source": [
    "encoded_imgs.shape"
   ]
  },
  {
   "cell_type": "code",
   "execution_count": null,
   "metadata": {},
   "outputs": [],
   "source": []
  }
 ],
 "metadata": {
  "gist": {
   "data": {
    "description": "AutoEncoders/simplest-autoencoder.ipynb",
    "public": false
   },
   "id": ""
  },
  "kernelspec": {
   "display_name": "Python 3",
   "language": "python",
   "name": "python3"
  },
  "language_info": {
   "codemirror_mode": {
    "name": "ipython",
    "version": 3
   },
   "file_extension": ".py",
   "mimetype": "text/x-python",
   "name": "python",
   "nbconvert_exporter": "python",
   "pygments_lexer": "ipython3",
   "version": "3.6.3"
  },
  "toc": {
   "nav_menu": {},
   "number_sections": true,
   "sideBar": true,
   "skip_h1_title": false,
   "toc_cell": true,
   "toc_position": {},
   "toc_section_display": "block",
   "toc_window_display": false
  }
 },
 "nbformat": 4,
 "nbformat_minor": 2
}
