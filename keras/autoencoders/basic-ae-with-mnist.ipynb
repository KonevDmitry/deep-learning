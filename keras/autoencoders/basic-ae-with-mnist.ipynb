{
 "cells": [
  {
   "cell_type": "code",
   "execution_count": 1,
   "metadata": {},
   "outputs": [
    {
     "name": "stderr",
     "output_type": "stream",
     "text": [
      "/home/abanihi/anaconda3/envs/autoe/lib/python3.6/site-packages/h5py/__init__.py:36: FutureWarning: Conversion of the second argument of issubdtype from `float` to `np.floating` is deprecated. In future, it will be treated as `np.float64 == np.dtype(float).type`.\n",
      "  from ._conv import register_converters as _register_converters\n",
      "Using TensorFlow backend.\n"
     ]
    }
   ],
   "source": [
    "# To obtain reproducible results\n",
    "import sys\n",
    "sys.path.insert(0, '/home/abanihi/devel/myprojects/deep-learning/')\n",
    "from utils import reproducibility"
   ]
  },
  {
   "cell_type": "code",
   "execution_count": 2,
   "metadata": {},
   "outputs": [],
   "source": [
    "from keras.datasets import mnist\n",
    "import numpy as np\n",
    "import matplotlib.pyplot as plt\n",
    "plt.style.use('seaborn')\n",
    "%matplotlib inline"
   ]
  },
  {
   "cell_type": "markdown",
   "metadata": {},
   "source": [
    "# Load the data"
   ]
  },
  {
   "cell_type": "code",
   "execution_count": 3,
   "metadata": {},
   "outputs": [],
   "source": [
    "(x_train, _), (x_test, y_test) = mnist.load_data()"
   ]
  },
  {
   "cell_type": "markdown",
   "metadata": {},
   "source": [
    "# Normalize and flatten the data"
   ]
  },
  {
   "cell_type": "code",
   "execution_count": 4,
   "metadata": {},
   "outputs": [],
   "source": [
    "x_train = x_train.astype('float32') / 255.\n",
    "x_test = x_test.astype('float32') / 255.\n",
    "x_train = x_train.reshape((len(x_train), np.prod(x_train.shape[1:])))\n",
    "x_test = x_test.reshape((len(x_test), np.prod(x_test.shape[1:])))"
   ]
  },
  {
   "cell_type": "code",
   "execution_count": 5,
   "metadata": {},
   "outputs": [
    {
     "data": {
      "text/plain": [
       "((60000, 784), (10000, 784))"
      ]
     },
     "execution_count": 5,
     "metadata": {},
     "output_type": "execute_result"
    }
   ],
   "source": [
    "x_train.shape, x_test.shape"
   ]
  },
  {
   "cell_type": "markdown",
   "metadata": {},
   "source": [
    "# Build the model"
   ]
  },
  {
   "cell_type": "code",
   "execution_count": 6,
   "metadata": {},
   "outputs": [],
   "source": [
    "from keras import layers\n",
    "from keras import models\n",
    "from keras import regularizers\n",
    "from keras import losses\n",
    "from keras import callbacks\n",
    "from keras import backend as K\n",
    "import tensorflow as tf\n",
    "from math import sqrt"
   ]
  },
  {
   "cell_type": "code",
   "execution_count": 7,
   "metadata": {},
   "outputs": [],
   "source": [
    "activity_reg = regularizers.l1(0.)\n",
    "kernel_reg = regularizers.l1(0.)"
   ]
  },
  {
   "cell_type": "code",
   "execution_count": 8,
   "metadata": {},
   "outputs": [],
   "source": [
    "# this is the input placeholder\n",
    "input_img = layers.Input(shape=(784, ))"
   ]
  },
  {
   "cell_type": "code",
   "execution_count": 9,
   "metadata": {},
   "outputs": [],
   "source": [
    "encoded = layers.Dense(36, activation='selu', activity_regularizer=activity_reg,\n",
    "                       kernel_regularizer = kernel_reg, name=\"encoded\")(input_img)"
   ]
  },
  {
   "cell_type": "code",
   "execution_count": 10,
   "metadata": {},
   "outputs": [],
   "source": [
    "# Decoded is thelossy reconstruction of the input\n",
    "decoded = layers.Dense(784, activation='sigmoid', name=\"decoded\")(encoded)"
   ]
  },
  {
   "cell_type": "code",
   "execution_count": 11,
   "metadata": {},
   "outputs": [],
   "source": [
    "# This model maps an input to its reconstruction \n",
    "model = models.Model(input_img, decoded)"
   ]
  },
  {
   "cell_type": "code",
   "execution_count": 12,
   "metadata": {},
   "outputs": [],
   "source": [
    "# This model maps an input to tis encoded representation\n",
    "encoder = models.Model(input_img, encoded)"
   ]
  },
  {
   "cell_type": "code",
   "execution_count": 13,
   "metadata": {},
   "outputs": [],
   "source": [
    "# Create a placeholder for an encoded (36-dimensional) input\n",
    "encoded_input = layers.Input(shape=(36, ))"
   ]
  },
  {
   "cell_type": "code",
   "execution_count": 14,
   "metadata": {},
   "outputs": [],
   "source": [
    "# Retrieve the last layer of the autoencoder model\n",
    "decoded_layer = model.layers[-1]"
   ]
  },
  {
   "cell_type": "code",
   "execution_count": 15,
   "metadata": {},
   "outputs": [],
   "source": [
    "# Create the decoder model\n",
    "decoder = models.Model(encoded_input, decoded_layer(encoded_input))"
   ]
  },
  {
   "cell_type": "code",
   "execution_count": 16,
   "metadata": {},
   "outputs": [
    {
     "name": "stdout",
     "output_type": "stream",
     "text": [
      "_________________________________________________________________\n",
      "Layer (type)                 Output Shape              Param #   \n",
      "=================================================================\n",
      "input_1 (InputLayer)         (None, 784)               0         \n",
      "_________________________________________________________________\n",
      "encoded (Dense)              (None, 36)                28260     \n",
      "=================================================================\n",
      "Total params: 28,260\n",
      "Trainable params: 28,260\n",
      "Non-trainable params: 0\n",
      "_________________________________________________________________\n"
     ]
    }
   ],
   "source": [
    "encoder.summary()"
   ]
  },
  {
   "cell_type": "code",
   "execution_count": 17,
   "metadata": {},
   "outputs": [
    {
     "name": "stdout",
     "output_type": "stream",
     "text": [
      "_________________________________________________________________\n",
      "Layer (type)                 Output Shape              Param #   \n",
      "=================================================================\n",
      "input_2 (InputLayer)         (None, 36)                0         \n",
      "_________________________________________________________________\n",
      "decoded (Dense)              (None, 784)               29008     \n",
      "=================================================================\n",
      "Total params: 29,008\n",
      "Trainable params: 29,008\n",
      "Non-trainable params: 0\n",
      "_________________________________________________________________\n"
     ]
    }
   ],
   "source": [
    "decoder.summary()"
   ]
  },
  {
   "cell_type": "code",
   "execution_count": 18,
   "metadata": {},
   "outputs": [
    {
     "name": "stdout",
     "output_type": "stream",
     "text": [
      "_________________________________________________________________\n",
      "Layer (type)                 Output Shape              Param #   \n",
      "=================================================================\n",
      "input_1 (InputLayer)         (None, 784)               0         \n",
      "_________________________________________________________________\n",
      "encoded (Dense)              (None, 36)                28260     \n",
      "_________________________________________________________________\n",
      "decoded (Dense)              (None, 784)               29008     \n",
      "=================================================================\n",
      "Total params: 57,268\n",
      "Trainable params: 57,268\n",
      "Non-trainable params: 0\n",
      "_________________________________________________________________\n"
     ]
    }
   ],
   "source": [
    "model.summary()"
   ]
  },
  {
   "cell_type": "code",
   "execution_count": 19,
   "metadata": {},
   "outputs": [],
   "source": [
    "class LossHistory(callbacks.Callback):\n",
    "    def on_train_begin(self, logs={}):\n",
    "        self.losses = []\n",
    "        \n",
    "    def on_epoch_end(self, batch, logs={}):\n",
    "        self.losses.append(logs.get('loss'))"
   ]
  },
  {
   "cell_type": "code",
   "execution_count": 20,
   "metadata": {},
   "outputs": [],
   "source": [
    "callbacks_list = [callbacks.EarlyStopping(monitor='loss', patience=5)]"
   ]
  },
  {
   "cell_type": "markdown",
   "metadata": {},
   "source": [
    "# Train"
   ]
  },
  {
   "cell_type": "code",
   "execution_count": 21,
   "metadata": {},
   "outputs": [],
   "source": [
    "model.compile(optimizer=\"rmsprop\", loss = losses.binary_crossentropy)"
   ]
  },
  {
   "cell_type": "code",
   "execution_count": 22,
   "metadata": {},
   "outputs": [],
   "source": [
    "# history = LossHistory()"
   ]
  },
  {
   "cell_type": "code",
   "execution_count": 23,
   "metadata": {},
   "outputs": [
    {
     "name": "stdout",
     "output_type": "stream",
     "text": [
      "Train on 60000 samples, validate on 10000 samples\n",
      "Epoch 1/50\n",
      "60000/60000 [==============================] - 4s 73us/step - loss: 0.2419 - val_loss: 0.1669\n",
      "Epoch 2/50\n",
      "60000/60000 [==============================] - 3s 57us/step - loss: 0.1494 - val_loss: 0.1364\n",
      "Epoch 3/50\n",
      "60000/60000 [==============================] - 3s 54us/step - loss: 0.1325 - val_loss: 0.1280\n",
      "Epoch 4/50\n",
      "60000/60000 [==============================] - 3s 51us/step - loss: 0.1278 - val_loss: 0.1255\n",
      "Epoch 5/50\n",
      "60000/60000 [==============================] - 3s 51us/step - loss: 0.1260 - val_loss: 0.1238\n",
      "Epoch 6/50\n",
      "60000/60000 [==============================] - 3s 55us/step - loss: 0.1227 - val_loss: 0.1187\n",
      "Epoch 7/50\n",
      "60000/60000 [==============================] - 3s 50us/step - loss: 0.1182 - val_loss: 0.1158\n",
      "Epoch 8/50\n",
      "60000/60000 [==============================] - 3s 50us/step - loss: 0.1149 - val_loss: 0.1122\n",
      "Epoch 9/50\n",
      "60000/60000 [==============================] - 3s 50us/step - loss: 0.1113 - val_loss: 0.1091\n",
      "Epoch 10/50\n",
      "60000/60000 [==============================] - 3s 50us/step - loss: 0.1090 - val_loss: 0.1070\n",
      "Epoch 11/50\n",
      "60000/60000 [==============================] - 3s 50us/step - loss: 0.1069 - val_loss: 0.1044\n",
      "Epoch 12/50\n",
      "60000/60000 [==============================] - 3s 49us/step - loss: 0.1045 - val_loss: 0.1025\n",
      "Epoch 13/50\n",
      "60000/60000 [==============================] - 3s 50us/step - loss: 0.1032 - val_loss: 0.1017\n",
      "Epoch 14/50\n",
      "60000/60000 [==============================] - 3s 54us/step - loss: 0.1025 - val_loss: 0.1012\n",
      "Epoch 15/50\n",
      "60000/60000 [==============================] - 3s 52us/step - loss: 0.1019 - val_loss: 0.1016\n",
      "Epoch 16/50\n",
      "60000/60000 [==============================] - 3s 52us/step - loss: 0.1013 - val_loss: 0.0998\n",
      "Epoch 17/50\n",
      "60000/60000 [==============================] - 3s 56us/step - loss: 0.1007 - val_loss: 0.0993\n",
      "Epoch 18/50\n",
      "60000/60000 [==============================] - 4s 61us/step - loss: 0.1002 - val_loss: 0.0990\n",
      "Epoch 19/50\n",
      "60000/60000 [==============================] - 4s 59us/step - loss: 0.0998 - val_loss: 0.0985\n",
      "Epoch 20/50\n",
      "60000/60000 [==============================] - 3s 52us/step - loss: 0.0994 - val_loss: 0.0980\n",
      "Epoch 21/50\n",
      "60000/60000 [==============================] - 3s 57us/step - loss: 0.0989 - val_loss: 0.0979\n",
      "Epoch 22/50\n",
      "60000/60000 [==============================] - 3s 53us/step - loss: 0.0984 - val_loss: 0.0970\n",
      "Epoch 23/50\n",
      "60000/60000 [==============================] - 3s 47us/step - loss: 0.0979 - val_loss: 0.0968\n",
      "Epoch 24/50\n",
      "60000/60000 [==============================] - 4s 63us/step - loss: 0.0975 - val_loss: 0.0960\n",
      "Epoch 25/50\n",
      "60000/60000 [==============================] - 4s 70us/step - loss: 0.0969 - val_loss: 0.0957\n",
      "Epoch 26/50\n",
      "60000/60000 [==============================] - 4s 70us/step - loss: 0.0965 - val_loss: 0.0957\n",
      "Epoch 27/50\n",
      "60000/60000 [==============================] - 4s 65us/step - loss: 0.0963 - val_loss: 0.0952\n",
      "Epoch 28/50\n",
      "60000/60000 [==============================] - 4s 67us/step - loss: 0.0961 - val_loss: 0.0964\n",
      "Epoch 29/50\n",
      "60000/60000 [==============================] - 4s 69us/step - loss: 0.0959 - val_loss: 0.0950\n",
      "Epoch 30/50\n",
      "60000/60000 [==============================] - 4s 66us/step - loss: 0.0957 - val_loss: 0.0953\n",
      "Epoch 31/50\n",
      "60000/60000 [==============================] - 4s 62us/step - loss: 0.0955 - val_loss: 0.0944\n",
      "Epoch 32/50\n",
      "60000/60000 [==============================] - 4s 62us/step - loss: 0.0953 - val_loss: 0.0943\n",
      "Epoch 33/50\n",
      "60000/60000 [==============================] - 4s 63us/step - loss: 0.0951 - val_loss: 0.0939\n",
      "Epoch 34/50\n",
      "60000/60000 [==============================] - 4s 67us/step - loss: 0.0949 - val_loss: 0.0937\n",
      "Epoch 35/50\n",
      "60000/60000 [==============================] - 4s 65us/step - loss: 0.0947 - val_loss: 0.0942\n",
      "Epoch 36/50\n",
      "60000/60000 [==============================] - 3s 48us/step - loss: 0.0945 - val_loss: 0.0949\n",
      "Epoch 37/50\n",
      "60000/60000 [==============================] - 3s 50us/step - loss: 0.0942 - val_loss: 0.0933\n",
      "Epoch 38/50\n",
      "60000/60000 [==============================] - 3s 52us/step - loss: 0.0940 - val_loss: 0.0927\n",
      "Epoch 39/50\n",
      "60000/60000 [==============================] - 3s 50us/step - loss: 0.0938 - val_loss: 0.0927\n",
      "Epoch 40/50\n",
      "60000/60000 [==============================] - 3s 51us/step - loss: 0.0936 - val_loss: 0.0923\n",
      "Epoch 41/50\n",
      "60000/60000 [==============================] - 3s 58us/step - loss: 0.0933 - val_loss: 0.0923\n",
      "Epoch 42/50\n",
      "60000/60000 [==============================] - 4s 69us/step - loss: 0.0931 - val_loss: 0.0921\n",
      "Epoch 43/50\n",
      "60000/60000 [==============================] - 4s 65us/step - loss: 0.0930 - val_loss: 0.0920\n",
      "Epoch 44/50\n",
      "60000/60000 [==============================] - 3s 55us/step - loss: 0.0929 - val_loss: 0.0919\n",
      "Epoch 45/50\n",
      "60000/60000 [==============================] - 3s 53us/step - loss: 0.0927 - val_loss: 0.0918\n",
      "Epoch 46/50\n",
      "60000/60000 [==============================] - 3s 52us/step - loss: 0.0926 - val_loss: 0.0920\n",
      "Epoch 47/50\n",
      "60000/60000 [==============================] - 3s 52us/step - loss: 0.0925 - val_loss: 0.0919\n",
      "Epoch 48/50\n",
      "60000/60000 [==============================] - 3s 51us/step - loss: 0.0924 - val_loss: 0.0914\n",
      "Epoch 49/50\n",
      "60000/60000 [==============================] - 3s 51us/step - loss: 0.0924 - val_loss: 0.0913\n",
      "Epoch 50/50\n",
      "60000/60000 [==============================] - 3s 52us/step - loss: 0.0923 - val_loss: 0.0916\n",
      "CPU times: user 2min 1s, sys: 11.4 s, total: 2min 12s\n",
      "Wall time: 2min 50s\n"
     ]
    }
   ],
   "source": [
    "%%time \n",
    "history = model.fit(x_train, x_train, epochs=50, batch_size=256, shuffle=True, callbacks=callbacks_list,\n",
    "          validation_data = (x_test, x_test))"
   ]
  },
  {
   "cell_type": "code",
   "execution_count": 24,
   "metadata": {},
   "outputs": [],
   "source": [
    "def predict_test():\n",
    "    encoded_imgs = encoder.predict(x_test)\n",
    "    decoded_imgs = decoder.predict(encoded_imgs)\n",
    "    \n",
    "    print(\"Mean activations: {}\".format(encoded_imgs.mean()))\n",
    "    \n",
    "    def find_first_digit(d):\n",
    "        return next(i for i in range(len(y_test)) if y_test[i] == d)\n",
    "    \n",
    "    indices = [find_first_digit(d) for d in range(10)]\n",
    "    \n",
    "    n = len(indices)\n",
    "    \n",
    "    fig = plt.figure(figsize=(20, 4))\n",
    "    \n",
    "    rows = 3\n",
    "    \n",
    "    side = int(np.sqrt(36))\n",
    "    \n",
    "    for i in range(n):\n",
    "        \n",
    "        # display original\n",
    "        ax = plt.subplot(rows, n, i + 1)\n",
    "        plt.imshow(x_test[indices[i]].reshape(28, 28))\n",
    "        plt.gray()\n",
    "        ax.get_xaxis().set_visible(False)\n",
    "        ax.get_yaxis().set_visible(False)\n",
    "            \n",
    "        # display encoding\n",
    "        ax = plt.subplot(rows, n, i + 1 + n)\n",
    "        plt.imshow(((encoded_imgs[indices[i]] + 1) / 2).reshape(side, side))\n",
    "        plt.gray()\n",
    "        ax.get_xaxis().set_visible(False)\n",
    "        ax.get_yaxis().set_visible(False)\n",
    "\n",
    "        # display reconstruction\n",
    "        ax = plt.subplot(rows, n, i + 1 + 2 * n)\n",
    "        plt.imshow(decoded_imgs[indices[i]].reshape(28, 28))\n",
    "        plt.gray()\n",
    "        ax.get_xaxis().set_visible(False)\n",
    "        ax.get_yaxis().set_visible(False)\n",
    "    "
   ]
  },
  {
   "cell_type": "code",
   "execution_count": 25,
   "metadata": {},
   "outputs": [
    {
     "name": "stdout",
     "output_type": "stream",
     "text": [
      "Mean activations: 5.237387180328369\n"
     ]
    },
    {
     "data": {
      "image/png": "[encoded data removed]",
      "text/plain": [
       "<matplotlib.figure.Figure at 0x7f4bf5477d30>"
      ]
     },
     "metadata": {},
     "output_type": "display_data"
    }
   ],
   "source": [
    "predict_test()"
   ]
  },
  {
   "cell_type": "code",
   "execution_count": 26,
   "metadata": {},
   "outputs": [],
   "source": [
    "def plot_history(history):\n",
    "    history_dict = history.history\n",
    "    loss_values = history_dict['loss']\n",
    "    val_loss_values = history_dict['val_loss']\n",
    "    epochs = range(1, len(loss_values) + 1)\n",
    "    \n",
    "    plt.plot(epochs, loss_values, 'b', label='Training loss')\n",
    "    plt.plot(epochs, val_loss_values, 'r', label='Validation loss')\n",
    "    plt.title('Training and Validation loss')\n",
    "    plt.xlabel('Epochs')\n",
    "    plt.ylabel('Loss')\n",
    "    plt.legend()\n",
    "    plt.show()"
   ]
  },
  {
   "cell_type": "code",
   "execution_count": 27,
   "metadata": {},
   "outputs": [
    {
     "data": {
      "image/png": "[encoded data removed]",
      "text/plain": [
       "<matplotlib.figure.Figure at 0x7f4bf4a1a438>"
      ]
     },
     "metadata": {},
     "output_type": "display_data"
    }
   ],
   "source": [
    "plot_history(history)"
   ]
  },
  {
   "cell_type": "code",
   "execution_count": 30,
   "metadata": {},
   "outputs": [
    {
     "data": {
      "text/plain": [
       "(10000, 784)"
      ]
     },
     "execution_count": 30,
     "metadata": {},
     "output_type": "execute_result"
    }
   ],
   "source": [
    "encoded_imgs = encoder.predict(x_test)\n",
    "decoded_imgs = decoder.predict(encoded_imgs)\n",
    "decoded_imgs.shape"
   ]
  },
  {
   "cell_type": "code",
   "execution_count": 31,
   "metadata": {},
   "outputs": [
    {
     "name": "stdout",
     "output_type": "stream",
     "text": [
      "0.009561755\n"
     ]
    }
   ],
   "source": [
    "from sklearn.metrics import mean_squared_error\n",
    "mse = mean_squared_error(x_test, decoded_imgs)\n",
    "print(mse)"
   ]
  },
  {
   "cell_type": "code",
   "execution_count": 29,
   "metadata": {},
   "outputs": [
    {
     "data": {
      "application/json": {
       "Software versions": [
        {
         "module": "Python",
         "version": "3.6.4 64bit [GCC 4.8.2 20140120 (Red Hat 4.8.2-15)]"
        },
        {
         "module": "IPython",
         "version": "6.2.1"
        },
        {
         "module": "OS",
         "version": "Linux 4.4.0 53 generic x86_64 with debian stretch sid"
        },
        {
         "module": "keras",
         "version": "2.1.3"
        },
        {
         "module": "tensorflow",
         "version": "1.4.1"
        },
        {
         "module": "numpy",
         "version": "1.14.0"
        },
        {
         "module": "matplotlib",
         "version": "2.1.2"
        }
       ]
      },
      "text/html": [
       "<table><tr><th>Software</th><th>Version</th></tr><tr><td>Python</td><td>3.6.4 64bit [GCC 4.8.2 20140120 (Red Hat 4.8.2-15)]</td></tr><tr><td>IPython</td><td>6.2.1</td></tr><tr><td>OS</td><td>Linux 4.4.0 53 generic x86_64 with debian stretch sid</td></tr><tr><td>keras</td><td>2.1.3</td></tr><tr><td>tensorflow</td><td>1.4.1</td></tr><tr><td>numpy</td><td>1.14.0</td></tr><tr><td>matplotlib</td><td>2.1.2</td></tr><tr><td colspan='2'>Thu Jan 25 12:06:06 2018 CST</td></tr></table>"
      ],
      "text/latex": [
       "\\begin{tabular}{|l|l|}\\hline\n",
       "{\\bf Software} & {\\bf Version} \\\\ \\hline\\hline\n",
       "Python & 3.6.4 64bit [GCC 4.8.2 20140120 (Red Hat 4.8.2-15)] \\\\ \\hline\n",
       "IPython & 6.2.1 \\\\ \\hline\n",
       "OS & Linux 4.4.0 53 generic x86\\_64 with debian stretch sid \\\\ \\hline\n",
       "keras & 2.1.3 \\\\ \\hline\n",
       "tensorflow & 1.4.1 \\\\ \\hline\n",
       "numpy & 1.14.0 \\\\ \\hline\n",
       "matplotlib & 2.1.2 \\\\ \\hline\n",
       "\\hline \\multicolumn{2}{|l|}{Thu Jan 25 12:06:06 2018 CST} \\\\ \\hline\n",
       "\\end{tabular}\n"
      ],
      "text/plain": [
       "Software versions\n",
       "Python 3.6.4 64bit [GCC 4.8.2 20140120 (Red Hat 4.8.2-15)]\n",
       "IPython 6.2.1\n",
       "OS Linux 4.4.0 53 generic x86_64 with debian stretch sid\n",
       "keras 2.1.3\n",
       "tensorflow 1.4.1\n",
       "numpy 1.14.0\n",
       "matplotlib 2.1.2\n",
       "Thu Jan 25 12:06:06 2018 CST"
      ]
     },
     "execution_count": 29,
     "metadata": {},
     "output_type": "execute_result"
    }
   ],
   "source": [
    "%load_ext version_information\n",
    "%version_information keras, tensorflow, numpy , matplotlib"
   ]
  }
 ],
 "metadata": {
  "kernelspec": {
   "display_name": "Python 3",
   "language": "python",
   "name": "python3"
  },
  "language_info": {
   "codemirror_mode": {
    "name": "ipython",
    "version": 3
   },
   "file_extension": ".py",
   "mimetype": "text/x-python",
   "name": "python",
   "nbconvert_exporter": "python",
   "pygments_lexer": "ipython3",
   "version": "3.6.4"
  }
 },
 "nbformat": 4,
 "nbformat_minor": 2
}
